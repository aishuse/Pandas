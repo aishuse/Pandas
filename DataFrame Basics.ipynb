{
  "metadata": {
    "language_info": {
      "codemirror_mode": {
        "name": "python",
        "version": 3
      },
      "file_extension": ".py",
      "mimetype": "text/x-python",
      "name": "python",
      "nbconvert_exporter": "python",
      "pygments_lexer": "ipython3",
      "version": "3.8"
    },
    "kernelspec": {
      "name": "python",
      "display_name": "Python (Pyodide)",
      "language": "python"
    }
  },
  "nbformat_minor": 4,
  "nbformat": 4,
  "cells": [
    {
      "cell_type": "code",
      "source": "import pandas as pd\ndf = pd.read_csv('weather.csv')\ndf",
      "metadata": {
        "trusted": true
      },
      "execution_count": 2,
      "outputs": [
        {
          "execution_count": 2,
          "output_type": "execute_result",
          "data": {
            "text/plain": "     MinTemp  MaxTemp  Rainfall  Evaporation  Sunshine WindGustDir  \\\n0        8.0     24.3       0.0          3.4       6.3          NW   \n1       14.0     26.9       3.6          4.4       9.7         ENE   \n2       13.7     23.4       3.6          5.8       3.3          NW   \n3       13.3     15.5      39.8          7.2       9.1          NW   \n4        7.6     16.1       2.8          5.6      10.6         SSE   \n..       ...      ...       ...          ...       ...         ...   \n361      9.0     30.7       0.0          7.6      12.1         NNW   \n362      7.1     28.4       0.0         11.6      12.7           N   \n363     12.5     19.9       0.0          8.4       5.3         ESE   \n364     12.5     26.9       0.0          5.0       7.1          NW   \n365     12.3     30.2       0.0          6.0      12.6          NW   \n\n     WindGustSpeed WindDir9am WindDir3pm  WindSpeed9am  ...  Humidity3pm  \\\n0             30.0         SW         NW           6.0  ...           29   \n1             39.0          E          W           4.0  ...           36   \n2             85.0          N        NNE           6.0  ...           69   \n3             54.0        WNW          W          30.0  ...           56   \n4             50.0        SSE        ESE          20.0  ...           49   \n..             ...        ...        ...           ...  ...          ...   \n361           76.0        SSE         NW           7.0  ...           15   \n362           48.0        NNW        NNW           2.0  ...           22   \n363           43.0        ENE        ENE          11.0  ...           47   \n364           46.0        SSW        WNW           6.0  ...           39   \n365           78.0         NW        WNW          31.0  ...           13   \n\n     Pressure9am  Pressure3pm  Cloud9am  Cloud3pm  Temp9am  Temp3pm  \\\n0         1019.7       1015.0         7         7     14.4     23.6   \n1         1012.4       1008.4         5         3     17.5     25.7   \n2         1009.5       1007.2         8         7     15.4     20.2   \n3         1005.5       1007.0         2         7     13.5     14.1   \n4         1018.3       1018.5         7         7     11.1     15.4   \n..           ...          ...       ...       ...      ...      ...   \n361       1016.1       1010.8         1         3     20.4     30.0   \n362       1020.0       1016.9         0         1     17.2     28.2   \n363       1024.0       1022.8         3         2     14.5     18.3   \n364       1021.0       1016.2         6         7     15.8     25.9   \n365       1009.6       1009.2         1         1     23.8     28.6   \n\n     RainToday  RISK_MM RainTomorrow  \n0           No      3.6          Yes  \n1          Yes      3.6          Yes  \n2          Yes     39.8          Yes  \n3          Yes      2.8          Yes  \n4          Yes      0.0           No  \n..         ...      ...          ...  \n361         No      0.0           No  \n362         No      0.0           No  \n363         No      0.0           No  \n364         No      0.0           No  \n365         No      0.0           No  \n\n[366 rows x 22 columns]",
            "text/html": "<div>\n<style scoped>\n    .dataframe tbody tr th:only-of-type {\n        vertical-align: middle;\n    }\n\n    .dataframe tbody tr th {\n        vertical-align: top;\n    }\n\n    .dataframe thead th {\n        text-align: right;\n    }\n</style>\n<table border=\"1\" class=\"dataframe\">\n  <thead>\n    <tr style=\"text-align: right;\">\n      <th></th>\n      <th>MinTemp</th>\n      <th>MaxTemp</th>\n      <th>Rainfall</th>\n      <th>Evaporation</th>\n      <th>Sunshine</th>\n      <th>WindGustDir</th>\n      <th>WindGustSpeed</th>\n      <th>WindDir9am</th>\n      <th>WindDir3pm</th>\n      <th>WindSpeed9am</th>\n      <th>...</th>\n      <th>Humidity3pm</th>\n      <th>Pressure9am</th>\n      <th>Pressure3pm</th>\n      <th>Cloud9am</th>\n      <th>Cloud3pm</th>\n      <th>Temp9am</th>\n      <th>Temp3pm</th>\n      <th>RainToday</th>\n      <th>RISK_MM</th>\n      <th>RainTomorrow</th>\n    </tr>\n  </thead>\n  <tbody>\n    <tr>\n      <th>0</th>\n      <td>8.0</td>\n      <td>24.3</td>\n      <td>0.0</td>\n      <td>3.4</td>\n      <td>6.3</td>\n      <td>NW</td>\n      <td>30.0</td>\n      <td>SW</td>\n      <td>NW</td>\n      <td>6.0</td>\n      <td>...</td>\n      <td>29</td>\n      <td>1019.7</td>\n      <td>1015.0</td>\n      <td>7</td>\n      <td>7</td>\n      <td>14.4</td>\n      <td>23.6</td>\n      <td>No</td>\n      <td>3.6</td>\n      <td>Yes</td>\n    </tr>\n    <tr>\n      <th>1</th>\n      <td>14.0</td>\n      <td>26.9</td>\n      <td>3.6</td>\n      <td>4.4</td>\n      <td>9.7</td>\n      <td>ENE</td>\n      <td>39.0</td>\n      <td>E</td>\n      <td>W</td>\n      <td>4.0</td>\n      <td>...</td>\n      <td>36</td>\n      <td>1012.4</td>\n      <td>1008.4</td>\n      <td>5</td>\n      <td>3</td>\n      <td>17.5</td>\n      <td>25.7</td>\n      <td>Yes</td>\n      <td>3.6</td>\n      <td>Yes</td>\n    </tr>\n    <tr>\n      <th>2</th>\n      <td>13.7</td>\n      <td>23.4</td>\n      <td>3.6</td>\n      <td>5.8</td>\n      <td>3.3</td>\n      <td>NW</td>\n      <td>85.0</td>\n      <td>N</td>\n      <td>NNE</td>\n      <td>6.0</td>\n      <td>...</td>\n      <td>69</td>\n      <td>1009.5</td>\n      <td>1007.2</td>\n      <td>8</td>\n      <td>7</td>\n      <td>15.4</td>\n      <td>20.2</td>\n      <td>Yes</td>\n      <td>39.8</td>\n      <td>Yes</td>\n    </tr>\n    <tr>\n      <th>3</th>\n      <td>13.3</td>\n      <td>15.5</td>\n      <td>39.8</td>\n      <td>7.2</td>\n      <td>9.1</td>\n      <td>NW</td>\n      <td>54.0</td>\n      <td>WNW</td>\n      <td>W</td>\n      <td>30.0</td>\n      <td>...</td>\n      <td>56</td>\n      <td>1005.5</td>\n      <td>1007.0</td>\n      <td>2</td>\n      <td>7</td>\n      <td>13.5</td>\n      <td>14.1</td>\n      <td>Yes</td>\n      <td>2.8</td>\n      <td>Yes</td>\n    </tr>\n    <tr>\n      <th>4</th>\n      <td>7.6</td>\n      <td>16.1</td>\n      <td>2.8</td>\n      <td>5.6</td>\n      <td>10.6</td>\n      <td>SSE</td>\n      <td>50.0</td>\n      <td>SSE</td>\n      <td>ESE</td>\n      <td>20.0</td>\n      <td>...</td>\n      <td>49</td>\n      <td>1018.3</td>\n      <td>1018.5</td>\n      <td>7</td>\n      <td>7</td>\n      <td>11.1</td>\n      <td>15.4</td>\n      <td>Yes</td>\n      <td>0.0</td>\n      <td>No</td>\n    </tr>\n    <tr>\n      <th>...</th>\n      <td>...</td>\n      <td>...</td>\n      <td>...</td>\n      <td>...</td>\n      <td>...</td>\n      <td>...</td>\n      <td>...</td>\n      <td>...</td>\n      <td>...</td>\n      <td>...</td>\n      <td>...</td>\n      <td>...</td>\n      <td>...</td>\n      <td>...</td>\n      <td>...</td>\n      <td>...</td>\n      <td>...</td>\n      <td>...</td>\n      <td>...</td>\n      <td>...</td>\n      <td>...</td>\n    </tr>\n    <tr>\n      <th>361</th>\n      <td>9.0</td>\n      <td>30.7</td>\n      <td>0.0</td>\n      <td>7.6</td>\n      <td>12.1</td>\n      <td>NNW</td>\n      <td>76.0</td>\n      <td>SSE</td>\n      <td>NW</td>\n      <td>7.0</td>\n      <td>...</td>\n      <td>15</td>\n      <td>1016.1</td>\n      <td>1010.8</td>\n      <td>1</td>\n      <td>3</td>\n      <td>20.4</td>\n      <td>30.0</td>\n      <td>No</td>\n      <td>0.0</td>\n      <td>No</td>\n    </tr>\n    <tr>\n      <th>362</th>\n      <td>7.1</td>\n      <td>28.4</td>\n      <td>0.0</td>\n      <td>11.6</td>\n      <td>12.7</td>\n      <td>N</td>\n      <td>48.0</td>\n      <td>NNW</td>\n      <td>NNW</td>\n      <td>2.0</td>\n      <td>...</td>\n      <td>22</td>\n      <td>1020.0</td>\n      <td>1016.9</td>\n      <td>0</td>\n      <td>1</td>\n      <td>17.2</td>\n      <td>28.2</td>\n      <td>No</td>\n      <td>0.0</td>\n      <td>No</td>\n    </tr>\n    <tr>\n      <th>363</th>\n      <td>12.5</td>\n      <td>19.9</td>\n      <td>0.0</td>\n      <td>8.4</td>\n      <td>5.3</td>\n      <td>ESE</td>\n      <td>43.0</td>\n      <td>ENE</td>\n      <td>ENE</td>\n      <td>11.0</td>\n      <td>...</td>\n      <td>47</td>\n      <td>1024.0</td>\n      <td>1022.8</td>\n      <td>3</td>\n      <td>2</td>\n      <td>14.5</td>\n      <td>18.3</td>\n      <td>No</td>\n      <td>0.0</td>\n      <td>No</td>\n    </tr>\n    <tr>\n      <th>364</th>\n      <td>12.5</td>\n      <td>26.9</td>\n      <td>0.0</td>\n      <td>5.0</td>\n      <td>7.1</td>\n      <td>NW</td>\n      <td>46.0</td>\n      <td>SSW</td>\n      <td>WNW</td>\n      <td>6.0</td>\n      <td>...</td>\n      <td>39</td>\n      <td>1021.0</td>\n      <td>1016.2</td>\n      <td>6</td>\n      <td>7</td>\n      <td>15.8</td>\n      <td>25.9</td>\n      <td>No</td>\n      <td>0.0</td>\n      <td>No</td>\n    </tr>\n    <tr>\n      <th>365</th>\n      <td>12.3</td>\n      <td>30.2</td>\n      <td>0.0</td>\n      <td>6.0</td>\n      <td>12.6</td>\n      <td>NW</td>\n      <td>78.0</td>\n      <td>NW</td>\n      <td>WNW</td>\n      <td>31.0</td>\n      <td>...</td>\n      <td>13</td>\n      <td>1009.6</td>\n      <td>1009.2</td>\n      <td>1</td>\n      <td>1</td>\n      <td>23.8</td>\n      <td>28.6</td>\n      <td>No</td>\n      <td>0.0</td>\n      <td>No</td>\n    </tr>\n  </tbody>\n</table>\n<p>366 rows × 22 columns</p>\n</div>"
          },
          "metadata": {}
        }
      ]
    },
    {
      "cell_type": "markdown",
      "source": "# find maximum temperature",
      "metadata": {}
    },
    {
      "cell_type": "code",
      "source": "# df['MaxTemp'].max() or\ndf.MaxTemp.max()\n",
      "metadata": {
        "trusted": true
      },
      "execution_count": 42,
      "outputs": [
        {
          "execution_count": 42,
          "output_type": "execute_result",
          "data": {
            "text/plain": "35.8"
          },
          "metadata": {}
        }
      ]
    },
    {
      "cell_type": "markdown",
      "source": "# find minimum temperature",
      "metadata": {}
    },
    {
      "cell_type": "code",
      "source": "df['MaxTemp'].min()\n",
      "metadata": {
        "trusted": true
      },
      "execution_count": 38,
      "outputs": [
        {
          "execution_count": 38,
          "output_type": "execute_result",
          "data": {
            "text/plain": "7.6"
          },
          "metadata": {}
        }
      ]
    },
    {
      "cell_type": "markdown",
      "source": "# find maximum temperature where rainfall=0",
      "metadata": {}
    },
    {
      "cell_type": "code",
      "source": "df['MaxTemp'][df['Rainfall']==0.0]\n",
      "metadata": {
        "trusted": true
      },
      "execution_count": 7,
      "outputs": [
        {
          "execution_count": 7,
          "output_type": "execute_result",
          "data": {
            "text/plain": "0      24.3\n5      16.9\n7      17.0\n8      19.5\n10     25.2\n       ... \n361    30.7\n362    28.4\n363    19.9\n364    26.9\n365    30.2\nName: MaxTemp, Length: 263, dtype: float64"
          },
          "metadata": {}
        }
      ]
    },
    {
      "cell_type": "markdown",
      "source": "# Statistics of dataframe",
      "metadata": {}
    },
    {
      "cell_type": "code",
      "source": "df.describe()",
      "metadata": {
        "trusted": true
      },
      "execution_count": 41,
      "outputs": [
        {
          "execution_count": 41,
          "output_type": "execute_result",
          "data": {
            "text/plain": "          MinTemp     MaxTemp    Rainfall  Evaporation    Sunshine  \\\ncount  366.000000  366.000000  366.000000   366.000000  366.000000   \nmean     7.265574   20.550273    1.428415     4.521858    7.844536   \nstd      6.025800    6.690516    4.225800     2.669383    3.539957   \nmin     -5.300000    7.600000    0.000000     0.200000    0.000000   \n25%      2.300000   15.025000    0.000000     2.200000    5.900000   \n50%      7.450000   19.650000    0.000000     4.200000    8.600000   \n75%     12.500000   25.500000    0.200000     6.400000   10.500000   \nmax     20.900000   35.800000   39.800000    13.800000   13.600000   \n\n       WindGustSpeed  WindSpeed9am  WindSpeed3pm  Humidity9am  Humidity3pm  \\\ncount     366.000000    366.000000    366.000000   366.000000   366.000000   \nmean       39.622951      9.467213     17.986339    72.035519    44.519126   \nstd        13.351924      7.985793      8.856997    13.137058    16.850947   \nmin         0.000000      0.000000      0.000000    36.000000    13.000000   \n25%        31.000000      4.000000     11.000000    64.000000    32.250000   \n50%        39.000000      7.000000     17.000000    72.000000    43.000000   \n75%        46.000000     13.000000     24.000000    81.000000    55.000000   \nmax        98.000000     41.000000     52.000000    99.000000    96.000000   \n\n       Pressure9am  Pressure3pm    Cloud9am    Cloud3pm     Temp9am  \\\ncount   366.000000   366.000000  366.000000  366.000000  366.000000   \nmean   1019.709016  1016.810383    3.890710    4.024590   12.358470   \nstd       6.686212     6.469422    2.956131    2.666268    5.630832   \nmin     996.500000   996.800000    0.000000    0.000000    0.100000   \n25%    1015.350000  1012.800000    1.000000    1.000000    7.625000   \n50%    1020.150000  1017.400000    3.500000    4.000000   12.550000   \n75%    1024.475000  1021.475000    7.000000    7.000000   17.000000   \nmax    1035.700000  1033.200000    8.000000    8.000000   24.700000   \n\n          Temp3pm     RISK_MM  \ncount  366.000000  366.000000  \nmean    19.230874    1.428415  \nstd      6.640346    4.225800  \nmin      5.100000    0.000000  \n25%     14.150000    0.000000  \n50%     18.550000    0.000000  \n75%     24.000000    0.200000  \nmax     34.500000   39.800000  ",
            "text/html": "<div>\n<style scoped>\n    .dataframe tbody tr th:only-of-type {\n        vertical-align: middle;\n    }\n\n    .dataframe tbody tr th {\n        vertical-align: top;\n    }\n\n    .dataframe thead th {\n        text-align: right;\n    }\n</style>\n<table border=\"1\" class=\"dataframe\">\n  <thead>\n    <tr style=\"text-align: right;\">\n      <th></th>\n      <th>MinTemp</th>\n      <th>MaxTemp</th>\n      <th>Rainfall</th>\n      <th>Evaporation</th>\n      <th>Sunshine</th>\n      <th>WindGustSpeed</th>\n      <th>WindSpeed9am</th>\n      <th>WindSpeed3pm</th>\n      <th>Humidity9am</th>\n      <th>Humidity3pm</th>\n      <th>Pressure9am</th>\n      <th>Pressure3pm</th>\n      <th>Cloud9am</th>\n      <th>Cloud3pm</th>\n      <th>Temp9am</th>\n      <th>Temp3pm</th>\n      <th>RISK_MM</th>\n    </tr>\n  </thead>\n  <tbody>\n    <tr>\n      <th>count</th>\n      <td>366.000000</td>\n      <td>366.000000</td>\n      <td>366.000000</td>\n      <td>366.000000</td>\n      <td>366.000000</td>\n      <td>366.000000</td>\n      <td>366.000000</td>\n      <td>366.000000</td>\n      <td>366.000000</td>\n      <td>366.000000</td>\n      <td>366.000000</td>\n      <td>366.000000</td>\n      <td>366.000000</td>\n      <td>366.000000</td>\n      <td>366.000000</td>\n      <td>366.000000</td>\n      <td>366.000000</td>\n    </tr>\n    <tr>\n      <th>mean</th>\n      <td>7.265574</td>\n      <td>20.550273</td>\n      <td>1.428415</td>\n      <td>4.521858</td>\n      <td>7.844536</td>\n      <td>39.622951</td>\n      <td>9.467213</td>\n      <td>17.986339</td>\n      <td>72.035519</td>\n      <td>44.519126</td>\n      <td>1019.709016</td>\n      <td>1016.810383</td>\n      <td>3.890710</td>\n      <td>4.024590</td>\n      <td>12.358470</td>\n      <td>19.230874</td>\n      <td>1.428415</td>\n    </tr>\n    <tr>\n      <th>std</th>\n      <td>6.025800</td>\n      <td>6.690516</td>\n      <td>4.225800</td>\n      <td>2.669383</td>\n      <td>3.539957</td>\n      <td>13.351924</td>\n      <td>7.985793</td>\n      <td>8.856997</td>\n      <td>13.137058</td>\n      <td>16.850947</td>\n      <td>6.686212</td>\n      <td>6.469422</td>\n      <td>2.956131</td>\n      <td>2.666268</td>\n      <td>5.630832</td>\n      <td>6.640346</td>\n      <td>4.225800</td>\n    </tr>\n    <tr>\n      <th>min</th>\n      <td>-5.300000</td>\n      <td>7.600000</td>\n      <td>0.000000</td>\n      <td>0.200000</td>\n      <td>0.000000</td>\n      <td>0.000000</td>\n      <td>0.000000</td>\n      <td>0.000000</td>\n      <td>36.000000</td>\n      <td>13.000000</td>\n      <td>996.500000</td>\n      <td>996.800000</td>\n      <td>0.000000</td>\n      <td>0.000000</td>\n      <td>0.100000</td>\n      <td>5.100000</td>\n      <td>0.000000</td>\n    </tr>\n    <tr>\n      <th>25%</th>\n      <td>2.300000</td>\n      <td>15.025000</td>\n      <td>0.000000</td>\n      <td>2.200000</td>\n      <td>5.900000</td>\n      <td>31.000000</td>\n      <td>4.000000</td>\n      <td>11.000000</td>\n      <td>64.000000</td>\n      <td>32.250000</td>\n      <td>1015.350000</td>\n      <td>1012.800000</td>\n      <td>1.000000</td>\n      <td>1.000000</td>\n      <td>7.625000</td>\n      <td>14.150000</td>\n      <td>0.000000</td>\n    </tr>\n    <tr>\n      <th>50%</th>\n      <td>7.450000</td>\n      <td>19.650000</td>\n      <td>0.000000</td>\n      <td>4.200000</td>\n      <td>8.600000</td>\n      <td>39.000000</td>\n      <td>7.000000</td>\n      <td>17.000000</td>\n      <td>72.000000</td>\n      <td>43.000000</td>\n      <td>1020.150000</td>\n      <td>1017.400000</td>\n      <td>3.500000</td>\n      <td>4.000000</td>\n      <td>12.550000</td>\n      <td>18.550000</td>\n      <td>0.000000</td>\n    </tr>\n    <tr>\n      <th>75%</th>\n      <td>12.500000</td>\n      <td>25.500000</td>\n      <td>0.200000</td>\n      <td>6.400000</td>\n      <td>10.500000</td>\n      <td>46.000000</td>\n      <td>13.000000</td>\n      <td>24.000000</td>\n      <td>81.000000</td>\n      <td>55.000000</td>\n      <td>1024.475000</td>\n      <td>1021.475000</td>\n      <td>7.000000</td>\n      <td>7.000000</td>\n      <td>17.000000</td>\n      <td>24.000000</td>\n      <td>0.200000</td>\n    </tr>\n    <tr>\n      <th>max</th>\n      <td>20.900000</td>\n      <td>35.800000</td>\n      <td>39.800000</td>\n      <td>13.800000</td>\n      <td>13.600000</td>\n      <td>98.000000</td>\n      <td>41.000000</td>\n      <td>52.000000</td>\n      <td>99.000000</td>\n      <td>96.000000</td>\n      <td>1035.700000</td>\n      <td>1033.200000</td>\n      <td>8.000000</td>\n      <td>8.000000</td>\n      <td>24.700000</td>\n      <td>34.500000</td>\n      <td>39.800000</td>\n    </tr>\n  </tbody>\n</table>\n</div>"
          },
          "metadata": {}
        }
      ]
    },
    {
      "cell_type": "markdown",
      "source": "# find windgustspeed mean....for accurate results if any value is given as Nan replace that to 0.",
      "metadata": {}
    },
    {
      "cell_type": "code",
      "source": "df.fillna(0, inplace=True)\ndf['WindGustSpeed'].mean()\n",
      "metadata": {
        "trusted": true
      },
      "execution_count": 9,
      "outputs": [
        {
          "execution_count": 9,
          "output_type": "execute_result",
          "data": {
            "text/plain": "39.622950819672134"
          },
          "metadata": {}
        }
      ]
    },
    {
      "cell_type": "markdown",
      "source": "# print MaxTemp greater than 20",
      "metadata": {}
    },
    {
      "cell_type": "code",
      "source": "df.MaxTemp>=20",
      "metadata": {
        "trusted": true
      },
      "execution_count": 45,
      "outputs": [
        {
          "execution_count": 45,
          "output_type": "execute_result",
          "data": {
            "text/plain": "0       True\n1       True\n2       True\n3      False\n4      False\n       ...  \n361     True\n362     True\n363    False\n364     True\n365     True\nName: MaxTemp, Length: 366, dtype: bool"
          },
          "metadata": {}
        }
      ]
    },
    {
      "cell_type": "code",
      "source": "df[df.MaxTemp>=20]",
      "metadata": {
        "trusted": true
      },
      "execution_count": 46,
      "outputs": [
        {
          "execution_count": 46,
          "output_type": "execute_result",
          "data": {
            "text/plain": "     MinTemp  MaxTemp  Rainfall  Evaporation  Sunshine WindGustDir  \\\n0        8.0     24.3       0.0          3.4       6.3          NW   \n1       14.0     26.9       3.6          4.4       9.7         ENE   \n2       13.7     23.4       3.6          5.8       3.3          NW   \n9        8.4     22.8      16.2          5.4       7.7           E   \n10       9.1     25.2       0.0          4.2      11.9           N   \n..       ...      ...       ...          ...       ...         ...   \n360      7.9     26.1       0.0          6.8       3.5         NNW   \n361      9.0     30.7       0.0          7.6      12.1         NNW   \n362      7.1     28.4       0.0         11.6      12.7           N   \n364     12.5     26.9       0.0          5.0       7.1          NW   \n365     12.3     30.2       0.0          6.0      12.6          NW   \n\n     WindGustSpeed WindDir9am WindDir3pm  WindSpeed9am  ...  Humidity3pm  \\\n0             30.0         SW         NW           6.0  ...           29   \n1             39.0          E          W           4.0  ...           36   \n2             85.0          N        NNE           6.0  ...           69   \n9             31.0          S        ESE           7.0  ...           32   \n10            30.0         SE         NW           6.0  ...           34   \n..             ...        ...        ...           ...  ...          ...   \n360           43.0          0        WNW           0.0  ...           20   \n361           76.0        SSE         NW           7.0  ...           15   \n362           48.0        NNW        NNW           2.0  ...           22   \n364           46.0        SSW        WNW           6.0  ...           39   \n365           78.0         NW        WNW          31.0  ...           13   \n\n     Pressure9am  Pressure3pm  Cloud9am  Cloud3pm  Temp9am  Temp3pm  \\\n0         1019.7       1015.0         7         7     14.4     23.6   \n1         1012.4       1008.4         5         3     17.5     25.7   \n2         1009.5       1007.2         8         7     15.4     20.2   \n9         1024.1       1020.7         7         1     13.3     21.7   \n10        1024.4       1021.1         1         2     14.6     24.0   \n..           ...          ...       ...       ...      ...      ...   \n360       1017.6       1014.2         5         8     16.3     25.9   \n361       1016.1       1010.8         1         3     20.4     30.0   \n362       1020.0       1016.9         0         1     17.2     28.2   \n364       1021.0       1016.2         6         7     15.8     25.9   \n365       1009.6       1009.2         1         1     23.8     28.6   \n\n     RainToday  RISK_MM RainTomorrow  \n0           No      3.6          Yes  \n1          Yes      3.6          Yes  \n2          Yes     39.8          Yes  \n9          Yes      0.0           No  \n10          No      0.2           No  \n..         ...      ...          ...  \n360         No      0.0           No  \n361         No      0.0           No  \n362         No      0.0           No  \n364         No      0.0           No  \n365         No      0.0           No  \n\n[177 rows x 22 columns]",
            "text/html": "<div>\n<style scoped>\n    .dataframe tbody tr th:only-of-type {\n        vertical-align: middle;\n    }\n\n    .dataframe tbody tr th {\n        vertical-align: top;\n    }\n\n    .dataframe thead th {\n        text-align: right;\n    }\n</style>\n<table border=\"1\" class=\"dataframe\">\n  <thead>\n    <tr style=\"text-align: right;\">\n      <th></th>\n      <th>MinTemp</th>\n      <th>MaxTemp</th>\n      <th>Rainfall</th>\n      <th>Evaporation</th>\n      <th>Sunshine</th>\n      <th>WindGustDir</th>\n      <th>WindGustSpeed</th>\n      <th>WindDir9am</th>\n      <th>WindDir3pm</th>\n      <th>WindSpeed9am</th>\n      <th>...</th>\n      <th>Humidity3pm</th>\n      <th>Pressure9am</th>\n      <th>Pressure3pm</th>\n      <th>Cloud9am</th>\n      <th>Cloud3pm</th>\n      <th>Temp9am</th>\n      <th>Temp3pm</th>\n      <th>RainToday</th>\n      <th>RISK_MM</th>\n      <th>RainTomorrow</th>\n    </tr>\n  </thead>\n  <tbody>\n    <tr>\n      <th>0</th>\n      <td>8.0</td>\n      <td>24.3</td>\n      <td>0.0</td>\n      <td>3.4</td>\n      <td>6.3</td>\n      <td>NW</td>\n      <td>30.0</td>\n      <td>SW</td>\n      <td>NW</td>\n      <td>6.0</td>\n      <td>...</td>\n      <td>29</td>\n      <td>1019.7</td>\n      <td>1015.0</td>\n      <td>7</td>\n      <td>7</td>\n      <td>14.4</td>\n      <td>23.6</td>\n      <td>No</td>\n      <td>3.6</td>\n      <td>Yes</td>\n    </tr>\n    <tr>\n      <th>1</th>\n      <td>14.0</td>\n      <td>26.9</td>\n      <td>3.6</td>\n      <td>4.4</td>\n      <td>9.7</td>\n      <td>ENE</td>\n      <td>39.0</td>\n      <td>E</td>\n      <td>W</td>\n      <td>4.0</td>\n      <td>...</td>\n      <td>36</td>\n      <td>1012.4</td>\n      <td>1008.4</td>\n      <td>5</td>\n      <td>3</td>\n      <td>17.5</td>\n      <td>25.7</td>\n      <td>Yes</td>\n      <td>3.6</td>\n      <td>Yes</td>\n    </tr>\n    <tr>\n      <th>2</th>\n      <td>13.7</td>\n      <td>23.4</td>\n      <td>3.6</td>\n      <td>5.8</td>\n      <td>3.3</td>\n      <td>NW</td>\n      <td>85.0</td>\n      <td>N</td>\n      <td>NNE</td>\n      <td>6.0</td>\n      <td>...</td>\n      <td>69</td>\n      <td>1009.5</td>\n      <td>1007.2</td>\n      <td>8</td>\n      <td>7</td>\n      <td>15.4</td>\n      <td>20.2</td>\n      <td>Yes</td>\n      <td>39.8</td>\n      <td>Yes</td>\n    </tr>\n    <tr>\n      <th>9</th>\n      <td>8.4</td>\n      <td>22.8</td>\n      <td>16.2</td>\n      <td>5.4</td>\n      <td>7.7</td>\n      <td>E</td>\n      <td>31.0</td>\n      <td>S</td>\n      <td>ESE</td>\n      <td>7.0</td>\n      <td>...</td>\n      <td>32</td>\n      <td>1024.1</td>\n      <td>1020.7</td>\n      <td>7</td>\n      <td>1</td>\n      <td>13.3</td>\n      <td>21.7</td>\n      <td>Yes</td>\n      <td>0.0</td>\n      <td>No</td>\n    </tr>\n    <tr>\n      <th>10</th>\n      <td>9.1</td>\n      <td>25.2</td>\n      <td>0.0</td>\n      <td>4.2</td>\n      <td>11.9</td>\n      <td>N</td>\n      <td>30.0</td>\n      <td>SE</td>\n      <td>NW</td>\n      <td>6.0</td>\n      <td>...</td>\n      <td>34</td>\n      <td>1024.4</td>\n      <td>1021.1</td>\n      <td>1</td>\n      <td>2</td>\n      <td>14.6</td>\n      <td>24.0</td>\n      <td>No</td>\n      <td>0.2</td>\n      <td>No</td>\n    </tr>\n    <tr>\n      <th>...</th>\n      <td>...</td>\n      <td>...</td>\n      <td>...</td>\n      <td>...</td>\n      <td>...</td>\n      <td>...</td>\n      <td>...</td>\n      <td>...</td>\n      <td>...</td>\n      <td>...</td>\n      <td>...</td>\n      <td>...</td>\n      <td>...</td>\n      <td>...</td>\n      <td>...</td>\n      <td>...</td>\n      <td>...</td>\n      <td>...</td>\n      <td>...</td>\n      <td>...</td>\n      <td>...</td>\n    </tr>\n    <tr>\n      <th>360</th>\n      <td>7.9</td>\n      <td>26.1</td>\n      <td>0.0</td>\n      <td>6.8</td>\n      <td>3.5</td>\n      <td>NNW</td>\n      <td>43.0</td>\n      <td>0</td>\n      <td>WNW</td>\n      <td>0.0</td>\n      <td>...</td>\n      <td>20</td>\n      <td>1017.6</td>\n      <td>1014.2</td>\n      <td>5</td>\n      <td>8</td>\n      <td>16.3</td>\n      <td>25.9</td>\n      <td>No</td>\n      <td>0.0</td>\n      <td>No</td>\n    </tr>\n    <tr>\n      <th>361</th>\n      <td>9.0</td>\n      <td>30.7</td>\n      <td>0.0</td>\n      <td>7.6</td>\n      <td>12.1</td>\n      <td>NNW</td>\n      <td>76.0</td>\n      <td>SSE</td>\n      <td>NW</td>\n      <td>7.0</td>\n      <td>...</td>\n      <td>15</td>\n      <td>1016.1</td>\n      <td>1010.8</td>\n      <td>1</td>\n      <td>3</td>\n      <td>20.4</td>\n      <td>30.0</td>\n      <td>No</td>\n      <td>0.0</td>\n      <td>No</td>\n    </tr>\n    <tr>\n      <th>362</th>\n      <td>7.1</td>\n      <td>28.4</td>\n      <td>0.0</td>\n      <td>11.6</td>\n      <td>12.7</td>\n      <td>N</td>\n      <td>48.0</td>\n      <td>NNW</td>\n      <td>NNW</td>\n      <td>2.0</td>\n      <td>...</td>\n      <td>22</td>\n      <td>1020.0</td>\n      <td>1016.9</td>\n      <td>0</td>\n      <td>1</td>\n      <td>17.2</td>\n      <td>28.2</td>\n      <td>No</td>\n      <td>0.0</td>\n      <td>No</td>\n    </tr>\n    <tr>\n      <th>364</th>\n      <td>12.5</td>\n      <td>26.9</td>\n      <td>0.0</td>\n      <td>5.0</td>\n      <td>7.1</td>\n      <td>NW</td>\n      <td>46.0</td>\n      <td>SSW</td>\n      <td>WNW</td>\n      <td>6.0</td>\n      <td>...</td>\n      <td>39</td>\n      <td>1021.0</td>\n      <td>1016.2</td>\n      <td>6</td>\n      <td>7</td>\n      <td>15.8</td>\n      <td>25.9</td>\n      <td>No</td>\n      <td>0.0</td>\n      <td>No</td>\n    </tr>\n    <tr>\n      <th>365</th>\n      <td>12.3</td>\n      <td>30.2</td>\n      <td>0.0</td>\n      <td>6.0</td>\n      <td>12.6</td>\n      <td>NW</td>\n      <td>78.0</td>\n      <td>NW</td>\n      <td>WNW</td>\n      <td>31.0</td>\n      <td>...</td>\n      <td>13</td>\n      <td>1009.6</td>\n      <td>1009.2</td>\n      <td>1</td>\n      <td>1</td>\n      <td>23.8</td>\n      <td>28.6</td>\n      <td>No</td>\n      <td>0.0</td>\n      <td>No</td>\n    </tr>\n  </tbody>\n</table>\n<p>177 rows × 22 columns</p>\n</div>"
          },
          "metadata": {}
        }
      ]
    },
    {
      "cell_type": "markdown",
      "source": "# display row where MaxTemp was maximum",
      "metadata": {}
    },
    {
      "cell_type": "code",
      "source": "df[df.MaxTemp == df.MaxTemp.max()]",
      "metadata": {
        "trusted": true
      },
      "execution_count": 49,
      "outputs": [
        {
          "execution_count": 49,
          "output_type": "execute_result",
          "data": {
            "text/plain": "    MinTemp  MaxTemp  Rainfall  Evaporation  Sunshine WindGustDir  \\\n71     17.5     35.8       0.0          9.4      13.3         SSE   \n\n    WindGustSpeed WindDir9am WindDir3pm  WindSpeed9am  ...  Humidity3pm  \\\n71           57.0        NNW         NW           6.0  ...           24   \n\n    Pressure9am  Pressure3pm  Cloud9am  Cloud3pm  Temp9am  Temp3pm  RainToday  \\\n71       1011.8       1006.5         0         1     24.7     34.5         No   \n\n    RISK_MM RainTomorrow  \n71      0.0           No  \n\n[1 rows x 22 columns]",
            "text/html": "<div>\n<style scoped>\n    .dataframe tbody tr th:only-of-type {\n        vertical-align: middle;\n    }\n\n    .dataframe tbody tr th {\n        vertical-align: top;\n    }\n\n    .dataframe thead th {\n        text-align: right;\n    }\n</style>\n<table border=\"1\" class=\"dataframe\">\n  <thead>\n    <tr style=\"text-align: right;\">\n      <th></th>\n      <th>MinTemp</th>\n      <th>MaxTemp</th>\n      <th>Rainfall</th>\n      <th>Evaporation</th>\n      <th>Sunshine</th>\n      <th>WindGustDir</th>\n      <th>WindGustSpeed</th>\n      <th>WindDir9am</th>\n      <th>WindDir3pm</th>\n      <th>WindSpeed9am</th>\n      <th>...</th>\n      <th>Humidity3pm</th>\n      <th>Pressure9am</th>\n      <th>Pressure3pm</th>\n      <th>Cloud9am</th>\n      <th>Cloud3pm</th>\n      <th>Temp9am</th>\n      <th>Temp3pm</th>\n      <th>RainToday</th>\n      <th>RISK_MM</th>\n      <th>RainTomorrow</th>\n    </tr>\n  </thead>\n  <tbody>\n    <tr>\n      <th>71</th>\n      <td>17.5</td>\n      <td>35.8</td>\n      <td>0.0</td>\n      <td>9.4</td>\n      <td>13.3</td>\n      <td>SSE</td>\n      <td>57.0</td>\n      <td>NNW</td>\n      <td>NW</td>\n      <td>6.0</td>\n      <td>...</td>\n      <td>24</td>\n      <td>1011.8</td>\n      <td>1006.5</td>\n      <td>0</td>\n      <td>1</td>\n      <td>24.7</td>\n      <td>34.5</td>\n      <td>No</td>\n      <td>0.0</td>\n      <td>No</td>\n    </tr>\n  </tbody>\n</table>\n<p>1 rows × 22 columns</p>\n</div>"
          },
          "metadata": {}
        }
      ]
    },
    {
      "cell_type": "code",
      "source": "df.MaxTemp ==df.MaxTemp.max()",
      "metadata": {
        "trusted": true
      },
      "execution_count": 51,
      "outputs": [
        {
          "execution_count": 51,
          "output_type": "execute_result",
          "data": {
            "text/plain": "0      False\n1      False\n2      False\n3      False\n4      False\n       ...  \n361    False\n362    False\n363    False\n364    False\n365    False\nName: MaxTemp, Length: 366, dtype: bool"
          },
          "metadata": {}
        }
      ]
    },
    {
      "cell_type": "code",
      "source": "df[['MinTemp','MaxTemp']][df.MaxTemp == df.MaxTemp.max()] # display only specific columns",
      "metadata": {
        "trusted": true
      },
      "execution_count": 59,
      "outputs": [
        {
          "execution_count": 59,
          "output_type": "execute_result",
          "data": {
            "text/plain": "    MinTemp  MaxTemp\n71     17.5     35.8",
            "text/html": "<div>\n<style scoped>\n    .dataframe tbody tr th:only-of-type {\n        vertical-align: middle;\n    }\n\n    .dataframe tbody tr th {\n        vertical-align: top;\n    }\n\n    .dataframe thead th {\n        text-align: right;\n    }\n</style>\n<table border=\"1\" class=\"dataframe\">\n  <thead>\n    <tr style=\"text-align: right;\">\n      <th></th>\n      <th>MinTemp</th>\n      <th>MaxTemp</th>\n    </tr>\n  </thead>\n  <tbody>\n    <tr>\n      <th>71</th>\n      <td>17.5</td>\n      <td>35.8</td>\n    </tr>\n  </tbody>\n</table>\n</div>"
          },
          "metadata": {}
        }
      ]
    },
    {
      "cell_type": "code",
      "source": "",
      "metadata": {},
      "execution_count": null,
      "outputs": []
    },
    {
      "cell_type": "code",
      "source": "df.index\n",
      "metadata": {
        "trusted": true
      },
      "execution_count": 61,
      "outputs": [
        {
          "execution_count": 61,
          "output_type": "execute_result",
          "data": {
            "text/plain": "RangeIndex(start=0, stop=366, step=1)"
          },
          "metadata": {}
        }
      ]
    },
    {
      "cell_type": "code",
      "source": "new = df.set_index('Sunshine')\nnew\n# if u need to update it in the same table use df.set_index('Sunshine', inplace=True) ",
      "metadata": {
        "trusted": true
      },
      "execution_count": 63,
      "outputs": [
        {
          "execution_count": 63,
          "output_type": "execute_result",
          "data": {
            "text/plain": "          MinTemp  MaxTemp  Rainfall  Evaporation WindGustDir  WindGustSpeed  \\\nSunshine                                                                       \n6.3           8.0     24.3       0.0          3.4          NW           30.0   \n9.7          14.0     26.9       3.6          4.4         ENE           39.0   \n3.3          13.7     23.4       3.6          5.8          NW           85.0   \n9.1          13.3     15.5      39.8          7.2          NW           54.0   \n10.6          7.6     16.1       2.8          5.6         SSE           50.0   \n...           ...      ...       ...          ...         ...            ...   \n12.1          9.0     30.7       0.0          7.6         NNW           76.0   \n12.7          7.1     28.4       0.0         11.6           N           48.0   \n5.3          12.5     19.9       0.0          8.4         ESE           43.0   \n7.1          12.5     26.9       0.0          5.0          NW           46.0   \n12.6         12.3     30.2       0.0          6.0          NW           78.0   \n\n         WindDir9am WindDir3pm  WindSpeed9am  WindSpeed3pm  ...  Humidity3pm  \\\nSunshine                                                    ...                \n6.3              SW         NW           6.0            20  ...           29   \n9.7               E          W           4.0            17  ...           36   \n3.3               N        NNE           6.0             6  ...           69   \n9.1             WNW          W          30.0            24  ...           56   \n10.6            SSE        ESE          20.0            28  ...           49   \n...             ...        ...           ...           ...  ...          ...   \n12.1            SSE         NW           7.0            50  ...           15   \n12.7            NNW        NNW           2.0            19  ...           22   \n5.3             ENE        ENE          11.0             9  ...           47   \n7.1             SSW        WNW           6.0            28  ...           39   \n12.6             NW        WNW          31.0            35  ...           13   \n\n          Pressure9am  Pressure3pm  Cloud9am  Cloud3pm  Temp9am  Temp3pm  \\\nSunshine                                                                   \n6.3            1019.7       1015.0         7         7     14.4     23.6   \n9.7            1012.4       1008.4         5         3     17.5     25.7   \n3.3            1009.5       1007.2         8         7     15.4     20.2   \n9.1            1005.5       1007.0         2         7     13.5     14.1   \n10.6           1018.3       1018.5         7         7     11.1     15.4   \n...               ...          ...       ...       ...      ...      ...   \n12.1           1016.1       1010.8         1         3     20.4     30.0   \n12.7           1020.0       1016.9         0         1     17.2     28.2   \n5.3            1024.0       1022.8         3         2     14.5     18.3   \n7.1            1021.0       1016.2         6         7     15.8     25.9   \n12.6           1009.6       1009.2         1         1     23.8     28.6   \n\n          RainToday RISK_MM  RainTomorrow  \nSunshine                                   \n6.3              No     3.6           Yes  \n9.7             Yes     3.6           Yes  \n3.3             Yes    39.8           Yes  \n9.1             Yes     2.8           Yes  \n10.6            Yes     0.0            No  \n...             ...     ...           ...  \n12.1             No     0.0            No  \n12.7             No     0.0            No  \n5.3              No     0.0            No  \n7.1              No     0.0            No  \n12.6             No     0.0            No  \n\n[366 rows x 21 columns]",
            "text/html": "<div>\n<style scoped>\n    .dataframe tbody tr th:only-of-type {\n        vertical-align: middle;\n    }\n\n    .dataframe tbody tr th {\n        vertical-align: top;\n    }\n\n    .dataframe thead th {\n        text-align: right;\n    }\n</style>\n<table border=\"1\" class=\"dataframe\">\n  <thead>\n    <tr style=\"text-align: right;\">\n      <th></th>\n      <th>MinTemp</th>\n      <th>MaxTemp</th>\n      <th>Rainfall</th>\n      <th>Evaporation</th>\n      <th>WindGustDir</th>\n      <th>WindGustSpeed</th>\n      <th>WindDir9am</th>\n      <th>WindDir3pm</th>\n      <th>WindSpeed9am</th>\n      <th>WindSpeed3pm</th>\n      <th>...</th>\n      <th>Humidity3pm</th>\n      <th>Pressure9am</th>\n      <th>Pressure3pm</th>\n      <th>Cloud9am</th>\n      <th>Cloud3pm</th>\n      <th>Temp9am</th>\n      <th>Temp3pm</th>\n      <th>RainToday</th>\n      <th>RISK_MM</th>\n      <th>RainTomorrow</th>\n    </tr>\n    <tr>\n      <th>Sunshine</th>\n      <th></th>\n      <th></th>\n      <th></th>\n      <th></th>\n      <th></th>\n      <th></th>\n      <th></th>\n      <th></th>\n      <th></th>\n      <th></th>\n      <th></th>\n      <th></th>\n      <th></th>\n      <th></th>\n      <th></th>\n      <th></th>\n      <th></th>\n      <th></th>\n      <th></th>\n      <th></th>\n      <th></th>\n    </tr>\n  </thead>\n  <tbody>\n    <tr>\n      <th>6.3</th>\n      <td>8.0</td>\n      <td>24.3</td>\n      <td>0.0</td>\n      <td>3.4</td>\n      <td>NW</td>\n      <td>30.0</td>\n      <td>SW</td>\n      <td>NW</td>\n      <td>6.0</td>\n      <td>20</td>\n      <td>...</td>\n      <td>29</td>\n      <td>1019.7</td>\n      <td>1015.0</td>\n      <td>7</td>\n      <td>7</td>\n      <td>14.4</td>\n      <td>23.6</td>\n      <td>No</td>\n      <td>3.6</td>\n      <td>Yes</td>\n    </tr>\n    <tr>\n      <th>9.7</th>\n      <td>14.0</td>\n      <td>26.9</td>\n      <td>3.6</td>\n      <td>4.4</td>\n      <td>ENE</td>\n      <td>39.0</td>\n      <td>E</td>\n      <td>W</td>\n      <td>4.0</td>\n      <td>17</td>\n      <td>...</td>\n      <td>36</td>\n      <td>1012.4</td>\n      <td>1008.4</td>\n      <td>5</td>\n      <td>3</td>\n      <td>17.5</td>\n      <td>25.7</td>\n      <td>Yes</td>\n      <td>3.6</td>\n      <td>Yes</td>\n    </tr>\n    <tr>\n      <th>3.3</th>\n      <td>13.7</td>\n      <td>23.4</td>\n      <td>3.6</td>\n      <td>5.8</td>\n      <td>NW</td>\n      <td>85.0</td>\n      <td>N</td>\n      <td>NNE</td>\n      <td>6.0</td>\n      <td>6</td>\n      <td>...</td>\n      <td>69</td>\n      <td>1009.5</td>\n      <td>1007.2</td>\n      <td>8</td>\n      <td>7</td>\n      <td>15.4</td>\n      <td>20.2</td>\n      <td>Yes</td>\n      <td>39.8</td>\n      <td>Yes</td>\n    </tr>\n    <tr>\n      <th>9.1</th>\n      <td>13.3</td>\n      <td>15.5</td>\n      <td>39.8</td>\n      <td>7.2</td>\n      <td>NW</td>\n      <td>54.0</td>\n      <td>WNW</td>\n      <td>W</td>\n      <td>30.0</td>\n      <td>24</td>\n      <td>...</td>\n      <td>56</td>\n      <td>1005.5</td>\n      <td>1007.0</td>\n      <td>2</td>\n      <td>7</td>\n      <td>13.5</td>\n      <td>14.1</td>\n      <td>Yes</td>\n      <td>2.8</td>\n      <td>Yes</td>\n    </tr>\n    <tr>\n      <th>10.6</th>\n      <td>7.6</td>\n      <td>16.1</td>\n      <td>2.8</td>\n      <td>5.6</td>\n      <td>SSE</td>\n      <td>50.0</td>\n      <td>SSE</td>\n      <td>ESE</td>\n      <td>20.0</td>\n      <td>28</td>\n      <td>...</td>\n      <td>49</td>\n      <td>1018.3</td>\n      <td>1018.5</td>\n      <td>7</td>\n      <td>7</td>\n      <td>11.1</td>\n      <td>15.4</td>\n      <td>Yes</td>\n      <td>0.0</td>\n      <td>No</td>\n    </tr>\n    <tr>\n      <th>...</th>\n      <td>...</td>\n      <td>...</td>\n      <td>...</td>\n      <td>...</td>\n      <td>...</td>\n      <td>...</td>\n      <td>...</td>\n      <td>...</td>\n      <td>...</td>\n      <td>...</td>\n      <td>...</td>\n      <td>...</td>\n      <td>...</td>\n      <td>...</td>\n      <td>...</td>\n      <td>...</td>\n      <td>...</td>\n      <td>...</td>\n      <td>...</td>\n      <td>...</td>\n      <td>...</td>\n    </tr>\n    <tr>\n      <th>12.1</th>\n      <td>9.0</td>\n      <td>30.7</td>\n      <td>0.0</td>\n      <td>7.6</td>\n      <td>NNW</td>\n      <td>76.0</td>\n      <td>SSE</td>\n      <td>NW</td>\n      <td>7.0</td>\n      <td>50</td>\n      <td>...</td>\n      <td>15</td>\n      <td>1016.1</td>\n      <td>1010.8</td>\n      <td>1</td>\n      <td>3</td>\n      <td>20.4</td>\n      <td>30.0</td>\n      <td>No</td>\n      <td>0.0</td>\n      <td>No</td>\n    </tr>\n    <tr>\n      <th>12.7</th>\n      <td>7.1</td>\n      <td>28.4</td>\n      <td>0.0</td>\n      <td>11.6</td>\n      <td>N</td>\n      <td>48.0</td>\n      <td>NNW</td>\n      <td>NNW</td>\n      <td>2.0</td>\n      <td>19</td>\n      <td>...</td>\n      <td>22</td>\n      <td>1020.0</td>\n      <td>1016.9</td>\n      <td>0</td>\n      <td>1</td>\n      <td>17.2</td>\n      <td>28.2</td>\n      <td>No</td>\n      <td>0.0</td>\n      <td>No</td>\n    </tr>\n    <tr>\n      <th>5.3</th>\n      <td>12.5</td>\n      <td>19.9</td>\n      <td>0.0</td>\n      <td>8.4</td>\n      <td>ESE</td>\n      <td>43.0</td>\n      <td>ENE</td>\n      <td>ENE</td>\n      <td>11.0</td>\n      <td>9</td>\n      <td>...</td>\n      <td>47</td>\n      <td>1024.0</td>\n      <td>1022.8</td>\n      <td>3</td>\n      <td>2</td>\n      <td>14.5</td>\n      <td>18.3</td>\n      <td>No</td>\n      <td>0.0</td>\n      <td>No</td>\n    </tr>\n    <tr>\n      <th>7.1</th>\n      <td>12.5</td>\n      <td>26.9</td>\n      <td>0.0</td>\n      <td>5.0</td>\n      <td>NW</td>\n      <td>46.0</td>\n      <td>SSW</td>\n      <td>WNW</td>\n      <td>6.0</td>\n      <td>28</td>\n      <td>...</td>\n      <td>39</td>\n      <td>1021.0</td>\n      <td>1016.2</td>\n      <td>6</td>\n      <td>7</td>\n      <td>15.8</td>\n      <td>25.9</td>\n      <td>No</td>\n      <td>0.0</td>\n      <td>No</td>\n    </tr>\n    <tr>\n      <th>12.6</th>\n      <td>12.3</td>\n      <td>30.2</td>\n      <td>0.0</td>\n      <td>6.0</td>\n      <td>NW</td>\n      <td>78.0</td>\n      <td>NW</td>\n      <td>WNW</td>\n      <td>31.0</td>\n      <td>35</td>\n      <td>...</td>\n      <td>13</td>\n      <td>1009.6</td>\n      <td>1009.2</td>\n      <td>1</td>\n      <td>1</td>\n      <td>23.8</td>\n      <td>28.6</td>\n      <td>No</td>\n      <td>0.0</td>\n      <td>No</td>\n    </tr>\n  </tbody>\n</table>\n<p>366 rows × 21 columns</p>\n</div>"
          },
          "metadata": {}
        }
      ]
    },
    {
      "cell_type": "code",
      "source": "new.loc[10.6]",
      "metadata": {
        "trusted": true
      },
      "execution_count": 64,
      "outputs": [
        {
          "execution_count": 64,
          "output_type": "execute_result",
          "data": {
            "text/plain": "          MinTemp  MaxTemp  Rainfall  Evaporation WindGustDir  WindGustSpeed  \\\nSunshine                                                                       \n10.6          7.6     16.1       2.8          5.6         SSE           50.0   \n10.6         10.8     21.7       1.4          2.8         ESE           48.0   \n10.6          3.2     21.4       0.0          3.2           E           26.0   \n10.6          6.3     19.3       0.0          3.4           S           31.0   \n10.6          2.5     20.9       0.0          3.6         NNW           44.0   \n\n         WindDir9am WindDir3pm  WindSpeed9am  WindSpeed3pm  ...  Humidity3pm  \\\nSunshine                                                    ...                \n10.6            SSE        ESE          20.0            28  ...           49   \n10.6            SSE        ESE          13.0            20  ...           40   \n10.6             SE        NNW           7.0             7  ...           27   \n10.6              S         SE           9.0            13  ...           39   \n10.6             NW        WNW          20.0            26  ...           35   \n\n          Pressure9am  Pressure3pm  Cloud9am  Cloud3pm  Temp9am  Temp3pm  \\\nSunshine                                                                   \n10.6           1018.3       1018.5         7         7     11.1     15.4   \n10.6           1017.6       1016.8         1         4     15.3     20.8   \n10.6           1025.2       1022.3         0         1      8.2     20.5   \n10.6           1027.9       1024.4         1         1     12.6     18.8   \n10.6           1025.4       1020.6         2         6     15.4     20.0   \n\n          RainToday RISK_MM  RainTomorrow  \nSunshine                                   \n10.6            Yes     0.0            No  \n10.6            Yes     0.0            No  \n10.6             No     0.0            No  \n10.6             No     0.0            No  \n10.6             No     0.0            No  \n\n[5 rows x 21 columns]",
            "text/html": "<div>\n<style scoped>\n    .dataframe tbody tr th:only-of-type {\n        vertical-align: middle;\n    }\n\n    .dataframe tbody tr th {\n        vertical-align: top;\n    }\n\n    .dataframe thead th {\n        text-align: right;\n    }\n</style>\n<table border=\"1\" class=\"dataframe\">\n  <thead>\n    <tr style=\"text-align: right;\">\n      <th></th>\n      <th>MinTemp</th>\n      <th>MaxTemp</th>\n      <th>Rainfall</th>\n      <th>Evaporation</th>\n      <th>WindGustDir</th>\n      <th>WindGustSpeed</th>\n      <th>WindDir9am</th>\n      <th>WindDir3pm</th>\n      <th>WindSpeed9am</th>\n      <th>WindSpeed3pm</th>\n      <th>...</th>\n      <th>Humidity3pm</th>\n      <th>Pressure9am</th>\n      <th>Pressure3pm</th>\n      <th>Cloud9am</th>\n      <th>Cloud3pm</th>\n      <th>Temp9am</th>\n      <th>Temp3pm</th>\n      <th>RainToday</th>\n      <th>RISK_MM</th>\n      <th>RainTomorrow</th>\n    </tr>\n    <tr>\n      <th>Sunshine</th>\n      <th></th>\n      <th></th>\n      <th></th>\n      <th></th>\n      <th></th>\n      <th></th>\n      <th></th>\n      <th></th>\n      <th></th>\n      <th></th>\n      <th></th>\n      <th></th>\n      <th></th>\n      <th></th>\n      <th></th>\n      <th></th>\n      <th></th>\n      <th></th>\n      <th></th>\n      <th></th>\n      <th></th>\n    </tr>\n  </thead>\n  <tbody>\n    <tr>\n      <th>10.6</th>\n      <td>7.6</td>\n      <td>16.1</td>\n      <td>2.8</td>\n      <td>5.6</td>\n      <td>SSE</td>\n      <td>50.0</td>\n      <td>SSE</td>\n      <td>ESE</td>\n      <td>20.0</td>\n      <td>28</td>\n      <td>...</td>\n      <td>49</td>\n      <td>1018.3</td>\n      <td>1018.5</td>\n      <td>7</td>\n      <td>7</td>\n      <td>11.1</td>\n      <td>15.4</td>\n      <td>Yes</td>\n      <td>0.0</td>\n      <td>No</td>\n    </tr>\n    <tr>\n      <th>10.6</th>\n      <td>10.8</td>\n      <td>21.7</td>\n      <td>1.4</td>\n      <td>2.8</td>\n      <td>ESE</td>\n      <td>48.0</td>\n      <td>SSE</td>\n      <td>ESE</td>\n      <td>13.0</td>\n      <td>20</td>\n      <td>...</td>\n      <td>40</td>\n      <td>1017.6</td>\n      <td>1016.8</td>\n      <td>1</td>\n      <td>4</td>\n      <td>15.3</td>\n      <td>20.8</td>\n      <td>Yes</td>\n      <td>0.0</td>\n      <td>No</td>\n    </tr>\n    <tr>\n      <th>10.6</th>\n      <td>3.2</td>\n      <td>21.4</td>\n      <td>0.0</td>\n      <td>3.2</td>\n      <td>E</td>\n      <td>26.0</td>\n      <td>SE</td>\n      <td>NNW</td>\n      <td>7.0</td>\n      <td>7</td>\n      <td>...</td>\n      <td>27</td>\n      <td>1025.2</td>\n      <td>1022.3</td>\n      <td>0</td>\n      <td>1</td>\n      <td>8.2</td>\n      <td>20.5</td>\n      <td>No</td>\n      <td>0.0</td>\n      <td>No</td>\n    </tr>\n    <tr>\n      <th>10.6</th>\n      <td>6.3</td>\n      <td>19.3</td>\n      <td>0.0</td>\n      <td>3.4</td>\n      <td>S</td>\n      <td>31.0</td>\n      <td>S</td>\n      <td>SE</td>\n      <td>9.0</td>\n      <td>13</td>\n      <td>...</td>\n      <td>39</td>\n      <td>1027.9</td>\n      <td>1024.4</td>\n      <td>1</td>\n      <td>1</td>\n      <td>12.6</td>\n      <td>18.8</td>\n      <td>No</td>\n      <td>0.0</td>\n      <td>No</td>\n    </tr>\n    <tr>\n      <th>10.6</th>\n      <td>2.5</td>\n      <td>20.9</td>\n      <td>0.0</td>\n      <td>3.6</td>\n      <td>NNW</td>\n      <td>44.0</td>\n      <td>NW</td>\n      <td>WNW</td>\n      <td>20.0</td>\n      <td>26</td>\n      <td>...</td>\n      <td>35</td>\n      <td>1025.4</td>\n      <td>1020.6</td>\n      <td>2</td>\n      <td>6</td>\n      <td>15.4</td>\n      <td>20.0</td>\n      <td>No</td>\n      <td>0.0</td>\n      <td>No</td>\n    </tr>\n  </tbody>\n</table>\n<p>5 rows × 21 columns</p>\n</div>"
          },
          "metadata": {}
        }
      ]
    },
    {
      "cell_type": "markdown",
      "source": "# Reset index",
      "metadata": {}
    },
    {
      "cell_type": "code",
      "source": "df.reset_index(inplace=True)",
      "metadata": {},
      "execution_count": null,
      "outputs": []
    },
    {
      "cell_type": "code",
      "source": "",
      "metadata": {},
      "execution_count": null,
      "outputs": []
    },
    {
      "cell_type": "markdown",
      "source": "# display dictionary as table",
      "metadata": {}
    },
    {
      "cell_type": "code",
      "source": "data = {\n 'name':['aishu','aami'],\n    'age':[30,4],\n    'place':['kpdy','kpdy']\n\n}\ntable = pd.DataFrame(data)\ntable",
      "metadata": {
        "trusted": true
      },
      "execution_count": 13,
      "outputs": [
        {
          "execution_count": 13,
          "output_type": "execute_result",
          "data": {
            "text/plain": "    name  age place\n0  aishu   30  kpdy\n1   aami    4  kpdy",
            "text/html": "<div>\n<style scoped>\n    .dataframe tbody tr th:only-of-type {\n        vertical-align: middle;\n    }\n\n    .dataframe tbody tr th {\n        vertical-align: top;\n    }\n\n    .dataframe thead th {\n        text-align: right;\n    }\n</style>\n<table border=\"1\" class=\"dataframe\">\n  <thead>\n    <tr style=\"text-align: right;\">\n      <th></th>\n      <th>name</th>\n      <th>age</th>\n      <th>place</th>\n    </tr>\n  </thead>\n  <tbody>\n    <tr>\n      <th>0</th>\n      <td>aishu</td>\n      <td>30</td>\n      <td>kpdy</td>\n    </tr>\n    <tr>\n      <th>1</th>\n      <td>aami</td>\n      <td>4</td>\n      <td>kpdy</td>\n    </tr>\n  </tbody>\n</table>\n</div>"
          },
          "metadata": {}
        }
      ]
    },
    {
      "cell_type": "markdown",
      "source": "# display table size",
      "metadata": {}
    },
    {
      "cell_type": "code",
      "source": "table.shape\n",
      "metadata": {
        "trusted": true
      },
      "execution_count": 19,
      "outputs": [
        {
          "execution_count": 19,
          "output_type": "execute_result",
          "data": {
            "text/plain": "(2, 3)"
          },
          "metadata": {}
        }
      ]
    },
    {
      "cell_type": "code",
      "source": "rows, columns = table.shape\n\ncolumns",
      "metadata": {
        "trusted": true
      },
      "execution_count": 18,
      "outputs": [
        {
          "execution_count": 18,
          "output_type": "execute_result",
          "data": {
            "text/plain": "3"
          },
          "metadata": {}
        }
      ]
    },
    {
      "cell_type": "code",
      "source": "rows",
      "metadata": {
        "trusted": true
      },
      "execution_count": 16,
      "outputs": [
        {
          "execution_count": 16,
          "output_type": "execute_result",
          "data": {
            "text/plain": "2"
          },
          "metadata": {}
        }
      ]
    },
    {
      "cell_type": "markdown",
      "source": "# print only 1st few rows in table",
      "metadata": {}
    },
    {
      "cell_type": "code",
      "source": "df.head()\n",
      "metadata": {
        "trusted": true
      },
      "execution_count": 21,
      "outputs": [
        {
          "execution_count": 21,
          "output_type": "execute_result",
          "data": {
            "text/plain": "   MinTemp  MaxTemp  Rainfall  Evaporation  Sunshine WindGustDir  \\\n0      8.0     24.3       0.0          3.4       6.3          NW   \n1     14.0     26.9       3.6          4.4       9.7         ENE   \n2     13.7     23.4       3.6          5.8       3.3          NW   \n3     13.3     15.5      39.8          7.2       9.1          NW   \n4      7.6     16.1       2.8          5.6      10.6         SSE   \n\n   WindGustSpeed WindDir9am WindDir3pm  WindSpeed9am  ...  Humidity3pm  \\\n0           30.0         SW         NW           6.0  ...           29   \n1           39.0          E          W           4.0  ...           36   \n2           85.0          N        NNE           6.0  ...           69   \n3           54.0        WNW          W          30.0  ...           56   \n4           50.0        SSE        ESE          20.0  ...           49   \n\n   Pressure9am  Pressure3pm  Cloud9am  Cloud3pm  Temp9am  Temp3pm  RainToday  \\\n0       1019.7       1015.0         7         7     14.4     23.6         No   \n1       1012.4       1008.4         5         3     17.5     25.7        Yes   \n2       1009.5       1007.2         8         7     15.4     20.2        Yes   \n3       1005.5       1007.0         2         7     13.5     14.1        Yes   \n4       1018.3       1018.5         7         7     11.1     15.4        Yes   \n\n   RISK_MM RainTomorrow  \n0      3.6          Yes  \n1      3.6          Yes  \n2     39.8          Yes  \n3      2.8          Yes  \n4      0.0           No  \n\n[5 rows x 22 columns]",
            "text/html": "<div>\n<style scoped>\n    .dataframe tbody tr th:only-of-type {\n        vertical-align: middle;\n    }\n\n    .dataframe tbody tr th {\n        vertical-align: top;\n    }\n\n    .dataframe thead th {\n        text-align: right;\n    }\n</style>\n<table border=\"1\" class=\"dataframe\">\n  <thead>\n    <tr style=\"text-align: right;\">\n      <th></th>\n      <th>MinTemp</th>\n      <th>MaxTemp</th>\n      <th>Rainfall</th>\n      <th>Evaporation</th>\n      <th>Sunshine</th>\n      <th>WindGustDir</th>\n      <th>WindGustSpeed</th>\n      <th>WindDir9am</th>\n      <th>WindDir3pm</th>\n      <th>WindSpeed9am</th>\n      <th>...</th>\n      <th>Humidity3pm</th>\n      <th>Pressure9am</th>\n      <th>Pressure3pm</th>\n      <th>Cloud9am</th>\n      <th>Cloud3pm</th>\n      <th>Temp9am</th>\n      <th>Temp3pm</th>\n      <th>RainToday</th>\n      <th>RISK_MM</th>\n      <th>RainTomorrow</th>\n    </tr>\n  </thead>\n  <tbody>\n    <tr>\n      <th>0</th>\n      <td>8.0</td>\n      <td>24.3</td>\n      <td>0.0</td>\n      <td>3.4</td>\n      <td>6.3</td>\n      <td>NW</td>\n      <td>30.0</td>\n      <td>SW</td>\n      <td>NW</td>\n      <td>6.0</td>\n      <td>...</td>\n      <td>29</td>\n      <td>1019.7</td>\n      <td>1015.0</td>\n      <td>7</td>\n      <td>7</td>\n      <td>14.4</td>\n      <td>23.6</td>\n      <td>No</td>\n      <td>3.6</td>\n      <td>Yes</td>\n    </tr>\n    <tr>\n      <th>1</th>\n      <td>14.0</td>\n      <td>26.9</td>\n      <td>3.6</td>\n      <td>4.4</td>\n      <td>9.7</td>\n      <td>ENE</td>\n      <td>39.0</td>\n      <td>E</td>\n      <td>W</td>\n      <td>4.0</td>\n      <td>...</td>\n      <td>36</td>\n      <td>1012.4</td>\n      <td>1008.4</td>\n      <td>5</td>\n      <td>3</td>\n      <td>17.5</td>\n      <td>25.7</td>\n      <td>Yes</td>\n      <td>3.6</td>\n      <td>Yes</td>\n    </tr>\n    <tr>\n      <th>2</th>\n      <td>13.7</td>\n      <td>23.4</td>\n      <td>3.6</td>\n      <td>5.8</td>\n      <td>3.3</td>\n      <td>NW</td>\n      <td>85.0</td>\n      <td>N</td>\n      <td>NNE</td>\n      <td>6.0</td>\n      <td>...</td>\n      <td>69</td>\n      <td>1009.5</td>\n      <td>1007.2</td>\n      <td>8</td>\n      <td>7</td>\n      <td>15.4</td>\n      <td>20.2</td>\n      <td>Yes</td>\n      <td>39.8</td>\n      <td>Yes</td>\n    </tr>\n    <tr>\n      <th>3</th>\n      <td>13.3</td>\n      <td>15.5</td>\n      <td>39.8</td>\n      <td>7.2</td>\n      <td>9.1</td>\n      <td>NW</td>\n      <td>54.0</td>\n      <td>WNW</td>\n      <td>W</td>\n      <td>30.0</td>\n      <td>...</td>\n      <td>56</td>\n      <td>1005.5</td>\n      <td>1007.0</td>\n      <td>2</td>\n      <td>7</td>\n      <td>13.5</td>\n      <td>14.1</td>\n      <td>Yes</td>\n      <td>2.8</td>\n      <td>Yes</td>\n    </tr>\n    <tr>\n      <th>4</th>\n      <td>7.6</td>\n      <td>16.1</td>\n      <td>2.8</td>\n      <td>5.6</td>\n      <td>10.6</td>\n      <td>SSE</td>\n      <td>50.0</td>\n      <td>SSE</td>\n      <td>ESE</td>\n      <td>20.0</td>\n      <td>...</td>\n      <td>49</td>\n      <td>1018.3</td>\n      <td>1018.5</td>\n      <td>7</td>\n      <td>7</td>\n      <td>11.1</td>\n      <td>15.4</td>\n      <td>Yes</td>\n      <td>0.0</td>\n      <td>No</td>\n    </tr>\n  </tbody>\n</table>\n<p>5 rows × 22 columns</p>\n</div>"
          },
          "metadata": {}
        }
      ]
    },
    {
      "cell_type": "code",
      "source": "df.head(2)\n",
      "metadata": {
        "trusted": true
      },
      "execution_count": 22,
      "outputs": [
        {
          "execution_count": 22,
          "output_type": "execute_result",
          "data": {
            "text/plain": "   MinTemp  MaxTemp  Rainfall  Evaporation  Sunshine WindGustDir  \\\n0      8.0     24.3       0.0          3.4       6.3          NW   \n1     14.0     26.9       3.6          4.4       9.7         ENE   \n\n   WindGustSpeed WindDir9am WindDir3pm  WindSpeed9am  ...  Humidity3pm  \\\n0           30.0         SW         NW           6.0  ...           29   \n1           39.0          E          W           4.0  ...           36   \n\n   Pressure9am  Pressure3pm  Cloud9am  Cloud3pm  Temp9am  Temp3pm  RainToday  \\\n0       1019.7       1015.0         7         7     14.4     23.6         No   \n1       1012.4       1008.4         5         3     17.5     25.7        Yes   \n\n   RISK_MM RainTomorrow  \n0      3.6          Yes  \n1      3.6          Yes  \n\n[2 rows x 22 columns]",
            "text/html": "<div>\n<style scoped>\n    .dataframe tbody tr th:only-of-type {\n        vertical-align: middle;\n    }\n\n    .dataframe tbody tr th {\n        vertical-align: top;\n    }\n\n    .dataframe thead th {\n        text-align: right;\n    }\n</style>\n<table border=\"1\" class=\"dataframe\">\n  <thead>\n    <tr style=\"text-align: right;\">\n      <th></th>\n      <th>MinTemp</th>\n      <th>MaxTemp</th>\n      <th>Rainfall</th>\n      <th>Evaporation</th>\n      <th>Sunshine</th>\n      <th>WindGustDir</th>\n      <th>WindGustSpeed</th>\n      <th>WindDir9am</th>\n      <th>WindDir3pm</th>\n      <th>WindSpeed9am</th>\n      <th>...</th>\n      <th>Humidity3pm</th>\n      <th>Pressure9am</th>\n      <th>Pressure3pm</th>\n      <th>Cloud9am</th>\n      <th>Cloud3pm</th>\n      <th>Temp9am</th>\n      <th>Temp3pm</th>\n      <th>RainToday</th>\n      <th>RISK_MM</th>\n      <th>RainTomorrow</th>\n    </tr>\n  </thead>\n  <tbody>\n    <tr>\n      <th>0</th>\n      <td>8.0</td>\n      <td>24.3</td>\n      <td>0.0</td>\n      <td>3.4</td>\n      <td>6.3</td>\n      <td>NW</td>\n      <td>30.0</td>\n      <td>SW</td>\n      <td>NW</td>\n      <td>6.0</td>\n      <td>...</td>\n      <td>29</td>\n      <td>1019.7</td>\n      <td>1015.0</td>\n      <td>7</td>\n      <td>7</td>\n      <td>14.4</td>\n      <td>23.6</td>\n      <td>No</td>\n      <td>3.6</td>\n      <td>Yes</td>\n    </tr>\n    <tr>\n      <th>1</th>\n      <td>14.0</td>\n      <td>26.9</td>\n      <td>3.6</td>\n      <td>4.4</td>\n      <td>9.7</td>\n      <td>ENE</td>\n      <td>39.0</td>\n      <td>E</td>\n      <td>W</td>\n      <td>4.0</td>\n      <td>...</td>\n      <td>36</td>\n      <td>1012.4</td>\n      <td>1008.4</td>\n      <td>5</td>\n      <td>3</td>\n      <td>17.5</td>\n      <td>25.7</td>\n      <td>Yes</td>\n      <td>3.6</td>\n      <td>Yes</td>\n    </tr>\n  </tbody>\n</table>\n<p>2 rows × 22 columns</p>\n</div>"
          },
          "metadata": {}
        }
      ]
    },
    {
      "cell_type": "markdown",
      "source": "# print only last few rows in table",
      "metadata": {}
    },
    {
      "cell_type": "code",
      "source": "df.tail()",
      "metadata": {
        "trusted": true
      },
      "execution_count": 23,
      "outputs": [
        {
          "execution_count": 23,
          "output_type": "execute_result",
          "data": {
            "text/plain": "     MinTemp  MaxTemp  Rainfall  Evaporation  Sunshine WindGustDir  \\\n361      9.0     30.7       0.0          7.6      12.1         NNW   \n362      7.1     28.4       0.0         11.6      12.7           N   \n363     12.5     19.9       0.0          8.4       5.3         ESE   \n364     12.5     26.9       0.0          5.0       7.1          NW   \n365     12.3     30.2       0.0          6.0      12.6          NW   \n\n     WindGustSpeed WindDir9am WindDir3pm  WindSpeed9am  ...  Humidity3pm  \\\n361           76.0        SSE         NW           7.0  ...           15   \n362           48.0        NNW        NNW           2.0  ...           22   \n363           43.0        ENE        ENE          11.0  ...           47   \n364           46.0        SSW        WNW           6.0  ...           39   \n365           78.0         NW        WNW          31.0  ...           13   \n\n     Pressure9am  Pressure3pm  Cloud9am  Cloud3pm  Temp9am  Temp3pm  \\\n361       1016.1       1010.8         1         3     20.4     30.0   \n362       1020.0       1016.9         0         1     17.2     28.2   \n363       1024.0       1022.8         3         2     14.5     18.3   \n364       1021.0       1016.2         6         7     15.8     25.9   \n365       1009.6       1009.2         1         1     23.8     28.6   \n\n     RainToday  RISK_MM RainTomorrow  \n361         No      0.0           No  \n362         No      0.0           No  \n363         No      0.0           No  \n364         No      0.0           No  \n365         No      0.0           No  \n\n[5 rows x 22 columns]",
            "text/html": "<div>\n<style scoped>\n    .dataframe tbody tr th:only-of-type {\n        vertical-align: middle;\n    }\n\n    .dataframe tbody tr th {\n        vertical-align: top;\n    }\n\n    .dataframe thead th {\n        text-align: right;\n    }\n</style>\n<table border=\"1\" class=\"dataframe\">\n  <thead>\n    <tr style=\"text-align: right;\">\n      <th></th>\n      <th>MinTemp</th>\n      <th>MaxTemp</th>\n      <th>Rainfall</th>\n      <th>Evaporation</th>\n      <th>Sunshine</th>\n      <th>WindGustDir</th>\n      <th>WindGustSpeed</th>\n      <th>WindDir9am</th>\n      <th>WindDir3pm</th>\n      <th>WindSpeed9am</th>\n      <th>...</th>\n      <th>Humidity3pm</th>\n      <th>Pressure9am</th>\n      <th>Pressure3pm</th>\n      <th>Cloud9am</th>\n      <th>Cloud3pm</th>\n      <th>Temp9am</th>\n      <th>Temp3pm</th>\n      <th>RainToday</th>\n      <th>RISK_MM</th>\n      <th>RainTomorrow</th>\n    </tr>\n  </thead>\n  <tbody>\n    <tr>\n      <th>361</th>\n      <td>9.0</td>\n      <td>30.7</td>\n      <td>0.0</td>\n      <td>7.6</td>\n      <td>12.1</td>\n      <td>NNW</td>\n      <td>76.0</td>\n      <td>SSE</td>\n      <td>NW</td>\n      <td>7.0</td>\n      <td>...</td>\n      <td>15</td>\n      <td>1016.1</td>\n      <td>1010.8</td>\n      <td>1</td>\n      <td>3</td>\n      <td>20.4</td>\n      <td>30.0</td>\n      <td>No</td>\n      <td>0.0</td>\n      <td>No</td>\n    </tr>\n    <tr>\n      <th>362</th>\n      <td>7.1</td>\n      <td>28.4</td>\n      <td>0.0</td>\n      <td>11.6</td>\n      <td>12.7</td>\n      <td>N</td>\n      <td>48.0</td>\n      <td>NNW</td>\n      <td>NNW</td>\n      <td>2.0</td>\n      <td>...</td>\n      <td>22</td>\n      <td>1020.0</td>\n      <td>1016.9</td>\n      <td>0</td>\n      <td>1</td>\n      <td>17.2</td>\n      <td>28.2</td>\n      <td>No</td>\n      <td>0.0</td>\n      <td>No</td>\n    </tr>\n    <tr>\n      <th>363</th>\n      <td>12.5</td>\n      <td>19.9</td>\n      <td>0.0</td>\n      <td>8.4</td>\n      <td>5.3</td>\n      <td>ESE</td>\n      <td>43.0</td>\n      <td>ENE</td>\n      <td>ENE</td>\n      <td>11.0</td>\n      <td>...</td>\n      <td>47</td>\n      <td>1024.0</td>\n      <td>1022.8</td>\n      <td>3</td>\n      <td>2</td>\n      <td>14.5</td>\n      <td>18.3</td>\n      <td>No</td>\n      <td>0.0</td>\n      <td>No</td>\n    </tr>\n    <tr>\n      <th>364</th>\n      <td>12.5</td>\n      <td>26.9</td>\n      <td>0.0</td>\n      <td>5.0</td>\n      <td>7.1</td>\n      <td>NW</td>\n      <td>46.0</td>\n      <td>SSW</td>\n      <td>WNW</td>\n      <td>6.0</td>\n      <td>...</td>\n      <td>39</td>\n      <td>1021.0</td>\n      <td>1016.2</td>\n      <td>6</td>\n      <td>7</td>\n      <td>15.8</td>\n      <td>25.9</td>\n      <td>No</td>\n      <td>0.0</td>\n      <td>No</td>\n    </tr>\n    <tr>\n      <th>365</th>\n      <td>12.3</td>\n      <td>30.2</td>\n      <td>0.0</td>\n      <td>6.0</td>\n      <td>12.6</td>\n      <td>NW</td>\n      <td>78.0</td>\n      <td>NW</td>\n      <td>WNW</td>\n      <td>31.0</td>\n      <td>...</td>\n      <td>13</td>\n      <td>1009.6</td>\n      <td>1009.2</td>\n      <td>1</td>\n      <td>1</td>\n      <td>23.8</td>\n      <td>28.6</td>\n      <td>No</td>\n      <td>0.0</td>\n      <td>No</td>\n    </tr>\n  </tbody>\n</table>\n<p>5 rows × 22 columns</p>\n</div>"
          },
          "metadata": {}
        }
      ]
    },
    {
      "cell_type": "markdown",
      "source": "# slice table..ie, display specific rows",
      "metadata": {}
    },
    {
      "cell_type": "code",
      "source": "df[2:5]",
      "metadata": {
        "trusted": true
      },
      "execution_count": 26,
      "outputs": [
        {
          "execution_count": 26,
          "output_type": "execute_result",
          "data": {
            "text/plain": "   MinTemp  MaxTemp  Rainfall  Evaporation  Sunshine WindGustDir  \\\n2     13.7     23.4       3.6          5.8       3.3          NW   \n3     13.3     15.5      39.8          7.2       9.1          NW   \n4      7.6     16.1       2.8          5.6      10.6         SSE   \n\n   WindGustSpeed WindDir9am WindDir3pm  WindSpeed9am  ...  Humidity3pm  \\\n2           85.0          N        NNE           6.0  ...           69   \n3           54.0        WNW          W          30.0  ...           56   \n4           50.0        SSE        ESE          20.0  ...           49   \n\n   Pressure9am  Pressure3pm  Cloud9am  Cloud3pm  Temp9am  Temp3pm  RainToday  \\\n2       1009.5       1007.2         8         7     15.4     20.2        Yes   \n3       1005.5       1007.0         2         7     13.5     14.1        Yes   \n4       1018.3       1018.5         7         7     11.1     15.4        Yes   \n\n   RISK_MM RainTomorrow  \n2     39.8          Yes  \n3      2.8          Yes  \n4      0.0           No  \n\n[3 rows x 22 columns]",
            "text/html": "<div>\n<style scoped>\n    .dataframe tbody tr th:only-of-type {\n        vertical-align: middle;\n    }\n\n    .dataframe tbody tr th {\n        vertical-align: top;\n    }\n\n    .dataframe thead th {\n        text-align: right;\n    }\n</style>\n<table border=\"1\" class=\"dataframe\">\n  <thead>\n    <tr style=\"text-align: right;\">\n      <th></th>\n      <th>MinTemp</th>\n      <th>MaxTemp</th>\n      <th>Rainfall</th>\n      <th>Evaporation</th>\n      <th>Sunshine</th>\n      <th>WindGustDir</th>\n      <th>WindGustSpeed</th>\n      <th>WindDir9am</th>\n      <th>WindDir3pm</th>\n      <th>WindSpeed9am</th>\n      <th>...</th>\n      <th>Humidity3pm</th>\n      <th>Pressure9am</th>\n      <th>Pressure3pm</th>\n      <th>Cloud9am</th>\n      <th>Cloud3pm</th>\n      <th>Temp9am</th>\n      <th>Temp3pm</th>\n      <th>RainToday</th>\n      <th>RISK_MM</th>\n      <th>RainTomorrow</th>\n    </tr>\n  </thead>\n  <tbody>\n    <tr>\n      <th>2</th>\n      <td>13.7</td>\n      <td>23.4</td>\n      <td>3.6</td>\n      <td>5.8</td>\n      <td>3.3</td>\n      <td>NW</td>\n      <td>85.0</td>\n      <td>N</td>\n      <td>NNE</td>\n      <td>6.0</td>\n      <td>...</td>\n      <td>69</td>\n      <td>1009.5</td>\n      <td>1007.2</td>\n      <td>8</td>\n      <td>7</td>\n      <td>15.4</td>\n      <td>20.2</td>\n      <td>Yes</td>\n      <td>39.8</td>\n      <td>Yes</td>\n    </tr>\n    <tr>\n      <th>3</th>\n      <td>13.3</td>\n      <td>15.5</td>\n      <td>39.8</td>\n      <td>7.2</td>\n      <td>9.1</td>\n      <td>NW</td>\n      <td>54.0</td>\n      <td>WNW</td>\n      <td>W</td>\n      <td>30.0</td>\n      <td>...</td>\n      <td>56</td>\n      <td>1005.5</td>\n      <td>1007.0</td>\n      <td>2</td>\n      <td>7</td>\n      <td>13.5</td>\n      <td>14.1</td>\n      <td>Yes</td>\n      <td>2.8</td>\n      <td>Yes</td>\n    </tr>\n    <tr>\n      <th>4</th>\n      <td>7.6</td>\n      <td>16.1</td>\n      <td>2.8</td>\n      <td>5.6</td>\n      <td>10.6</td>\n      <td>SSE</td>\n      <td>50.0</td>\n      <td>SSE</td>\n      <td>ESE</td>\n      <td>20.0</td>\n      <td>...</td>\n      <td>49</td>\n      <td>1018.3</td>\n      <td>1018.5</td>\n      <td>7</td>\n      <td>7</td>\n      <td>11.1</td>\n      <td>15.4</td>\n      <td>Yes</td>\n      <td>0.0</td>\n      <td>No</td>\n    </tr>\n  </tbody>\n</table>\n<p>3 rows × 22 columns</p>\n</div>"
          },
          "metadata": {}
        }
      ]
    },
    {
      "cell_type": "markdown",
      "source": "# print columns",
      "metadata": {}
    },
    {
      "cell_type": "code",
      "source": "df.columns",
      "metadata": {
        "trusted": true
      },
      "execution_count": 27,
      "outputs": [
        {
          "execution_count": 27,
          "output_type": "execute_result",
          "data": {
            "text/plain": "Index(['MinTemp', 'MaxTemp', 'Rainfall', 'Evaporation', 'Sunshine',\n       'WindGustDir', 'WindGustSpeed', 'WindDir9am', 'WindDir3pm',\n       'WindSpeed9am', 'WindSpeed3pm', 'Humidity9am', 'Humidity3pm',\n       'Pressure9am', 'Pressure3pm', 'Cloud9am', 'Cloud3pm', 'Temp9am',\n       'Temp3pm', 'RainToday', 'RISK_MM', 'RainTomorrow'],\n      dtype='object')"
          },
          "metadata": {}
        }
      ]
    },
    {
      "cell_type": "markdown",
      "source": "# print individual columns",
      "metadata": {}
    },
    {
      "cell_type": "code",
      "source": "df.MaxTemp\n# or use df['MaxTemp']",
      "metadata": {
        "trusted": true
      },
      "execution_count": 30,
      "outputs": [
        {
          "execution_count": 30,
          "output_type": "execute_result",
          "data": {
            "text/plain": "0      24.3\n1      26.9\n2      23.4\n3      15.5\n4      16.1\n       ... \n361    30.7\n362    28.4\n363    19.9\n364    26.9\n365    30.2\nName: MaxTemp, Length: 366, dtype: float64"
          },
          "metadata": {}
        }
      ]
    },
    {
      "cell_type": "markdown",
      "source": "# print type of column ",
      "metadata": {}
    },
    {
      "cell_type": "code",
      "source": "type(df.MaxTemp)",
      "metadata": {
        "trusted": true
      },
      "execution_count": 31,
      "outputs": [
        {
          "execution_count": 31,
          "output_type": "execute_result",
          "data": {
            "text/plain": "pandas.core.series.Series"
          },
          "metadata": {}
        }
      ]
    },
    {
      "cell_type": "markdown",
      "source": "# print few colummns",
      "metadata": {}
    },
    {
      "cell_type": "code",
      "source": "df[['MaxTemp','RainToday','WindGustSpeed']]",
      "metadata": {
        "trusted": true
      },
      "execution_count": 36,
      "outputs": [
        {
          "execution_count": 36,
          "output_type": "execute_result",
          "data": {
            "text/plain": "     MaxTemp RainToday  WindGustSpeed\n0       24.3        No           30.0\n1       26.9       Yes           39.0\n2       23.4       Yes           85.0\n3       15.5       Yes           54.0\n4       16.1       Yes           50.0\n..       ...       ...            ...\n361     30.7        No           76.0\n362     28.4        No           48.0\n363     19.9        No           43.0\n364     26.9        No           46.0\n365     30.2        No           78.0\n\n[366 rows x 3 columns]",
            "text/html": "<div>\n<style scoped>\n    .dataframe tbody tr th:only-of-type {\n        vertical-align: middle;\n    }\n\n    .dataframe tbody tr th {\n        vertical-align: top;\n    }\n\n    .dataframe thead th {\n        text-align: right;\n    }\n</style>\n<table border=\"1\" class=\"dataframe\">\n  <thead>\n    <tr style=\"text-align: right;\">\n      <th></th>\n      <th>MaxTemp</th>\n      <th>RainToday</th>\n      <th>WindGustSpeed</th>\n    </tr>\n  </thead>\n  <tbody>\n    <tr>\n      <th>0</th>\n      <td>24.3</td>\n      <td>No</td>\n      <td>30.0</td>\n    </tr>\n    <tr>\n      <th>1</th>\n      <td>26.9</td>\n      <td>Yes</td>\n      <td>39.0</td>\n    </tr>\n    <tr>\n      <th>2</th>\n      <td>23.4</td>\n      <td>Yes</td>\n      <td>85.0</td>\n    </tr>\n    <tr>\n      <th>3</th>\n      <td>15.5</td>\n      <td>Yes</td>\n      <td>54.0</td>\n    </tr>\n    <tr>\n      <th>4</th>\n      <td>16.1</td>\n      <td>Yes</td>\n      <td>50.0</td>\n    </tr>\n    <tr>\n      <th>...</th>\n      <td>...</td>\n      <td>...</td>\n      <td>...</td>\n    </tr>\n    <tr>\n      <th>361</th>\n      <td>30.7</td>\n      <td>No</td>\n      <td>76.0</td>\n    </tr>\n    <tr>\n      <th>362</th>\n      <td>28.4</td>\n      <td>No</td>\n      <td>48.0</td>\n    </tr>\n    <tr>\n      <th>363</th>\n      <td>19.9</td>\n      <td>No</td>\n      <td>43.0</td>\n    </tr>\n    <tr>\n      <th>364</th>\n      <td>26.9</td>\n      <td>No</td>\n      <td>46.0</td>\n    </tr>\n    <tr>\n      <th>365</th>\n      <td>30.2</td>\n      <td>No</td>\n      <td>78.0</td>\n    </tr>\n  </tbody>\n</table>\n<p>366 rows × 3 columns</p>\n</div>"
          },
          "metadata": {}
        }
      ]
    },
    {
      "cell_type": "code",
      "source": "",
      "metadata": {},
      "execution_count": null,
      "outputs": []
    },
    {
      "cell_type": "code",
      "source": "",
      "metadata": {},
      "execution_count": null,
      "outputs": []
    },
    {
      "cell_type": "code",
      "source": "",
      "metadata": {},
      "execution_count": null,
      "outputs": []
    },
    {
      "cell_type": "code",
      "source": "",
      "metadata": {},
      "execution_count": null,
      "outputs": []
    },
    {
      "cell_type": "code",
      "source": "",
      "metadata": {},
      "execution_count": null,
      "outputs": []
    },
    {
      "cell_type": "code",
      "source": "",
      "metadata": {},
      "execution_count": null,
      "outputs": []
    },
    {
      "cell_type": "code",
      "source": "",
      "metadata": {},
      "execution_count": null,
      "outputs": []
    },
    {
      "cell_type": "code",
      "source": "",
      "metadata": {},
      "execution_count": null,
      "outputs": []
    }
  ]
}