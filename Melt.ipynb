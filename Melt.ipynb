{
  "metadata": {
    "language_info": {
      "codemirror_mode": {
        "name": "python",
        "version": 3
      },
      "file_extension": ".py",
      "mimetype": "text/x-python",
      "name": "python",
      "nbconvert_exporter": "python",
      "pygments_lexer": "ipython3",
      "version": "3.8"
    },
    "kernelspec": {
      "name": "python",
      "display_name": "Python (Pyodide)",
      "language": "python"
    }
  },
  "nbformat_minor": 4,
  "nbformat": 4,
  "cells": [
    {
      "cell_type": "markdown",
      "source": "# Reshape pandas dataframe using melt\n",
      "metadata": {}
    },
    {
      "cell_type": "code",
      "source": "import pandas as pd\ndf = pd.read_csv(\"citytemp.txt\")\ndf",
      "metadata": {
        "trusted": true
      },
      "execution_count": 9,
      "outputs": [
        {
          "execution_count": 9,
          "output_type": "execute_result",
          "data": {
            "text/plain": "         day  chicago  chennai  berlin\n0     Monday       32       75      41\n1    Tuesday       30       77      43\n2  Wednesday       28       75      45\n3   Thursday       22       82      38\n4     Friday       30       83      30\n5   Saturday       20       81      45\n6     Sunday       25       77      47",
            "text/html": "<div>\n<style scoped>\n    .dataframe tbody tr th:only-of-type {\n        vertical-align: middle;\n    }\n\n    .dataframe tbody tr th {\n        vertical-align: top;\n    }\n\n    .dataframe thead th {\n        text-align: right;\n    }\n</style>\n<table border=\"1\" class=\"dataframe\">\n  <thead>\n    <tr style=\"text-align: right;\">\n      <th></th>\n      <th>day</th>\n      <th>chicago</th>\n      <th>chennai</th>\n      <th>berlin</th>\n    </tr>\n  </thead>\n  <tbody>\n    <tr>\n      <th>0</th>\n      <td>Monday</td>\n      <td>32</td>\n      <td>75</td>\n      <td>41</td>\n    </tr>\n    <tr>\n      <th>1</th>\n      <td>Tuesday</td>\n      <td>30</td>\n      <td>77</td>\n      <td>43</td>\n    </tr>\n    <tr>\n      <th>2</th>\n      <td>Wednesday</td>\n      <td>28</td>\n      <td>75</td>\n      <td>45</td>\n    </tr>\n    <tr>\n      <th>3</th>\n      <td>Thursday</td>\n      <td>22</td>\n      <td>82</td>\n      <td>38</td>\n    </tr>\n    <tr>\n      <th>4</th>\n      <td>Friday</td>\n      <td>30</td>\n      <td>83</td>\n      <td>30</td>\n    </tr>\n    <tr>\n      <th>5</th>\n      <td>Saturday</td>\n      <td>20</td>\n      <td>81</td>\n      <td>45</td>\n    </tr>\n    <tr>\n      <th>6</th>\n      <td>Sunday</td>\n      <td>25</td>\n      <td>77</td>\n      <td>47</td>\n    </tr>\n  </tbody>\n</table>\n</div>"
          },
          "metadata": {}
        }
      ]
    },
    {
      "cell_type": "code",
      "source": "df1 = pd.melt(df, id_vars=[\"day\"])\ndf1",
      "metadata": {
        "trusted": true
      },
      "execution_count": 13,
      "outputs": [
        {
          "execution_count": 13,
          "output_type": "execute_result",
          "data": {
            "text/plain": "          day variable  value\n0      Monday  chicago     32\n1     Tuesday  chicago     30\n2   Wednesday  chicago     28\n3    Thursday  chicago     22\n4      Friday  chicago     30\n5    Saturday  chicago     20\n6      Sunday  chicago     25\n7      Monday  chennai     75\n8     Tuesday  chennai     77\n9   Wednesday  chennai     75\n10   Thursday  chennai     82\n11     Friday  chennai     83\n12   Saturday  chennai     81\n13     Sunday  chennai     77\n14     Monday   berlin     41\n15    Tuesday   berlin     43\n16  Wednesday   berlin     45\n17   Thursday   berlin     38\n18     Friday   berlin     30\n19   Saturday   berlin     45\n20     Sunday   berlin     47",
            "text/html": "<div>\n<style scoped>\n    .dataframe tbody tr th:only-of-type {\n        vertical-align: middle;\n    }\n\n    .dataframe tbody tr th {\n        vertical-align: top;\n    }\n\n    .dataframe thead th {\n        text-align: right;\n    }\n</style>\n<table border=\"1\" class=\"dataframe\">\n  <thead>\n    <tr style=\"text-align: right;\">\n      <th></th>\n      <th>day</th>\n      <th>variable</th>\n      <th>value</th>\n    </tr>\n  </thead>\n  <tbody>\n    <tr>\n      <th>0</th>\n      <td>Monday</td>\n      <td>chicago</td>\n      <td>32</td>\n    </tr>\n    <tr>\n      <th>1</th>\n      <td>Tuesday</td>\n      <td>chicago</td>\n      <td>30</td>\n    </tr>\n    <tr>\n      <th>2</th>\n      <td>Wednesday</td>\n      <td>chicago</td>\n      <td>28</td>\n    </tr>\n    <tr>\n      <th>3</th>\n      <td>Thursday</td>\n      <td>chicago</td>\n      <td>22</td>\n    </tr>\n    <tr>\n      <th>4</th>\n      <td>Friday</td>\n      <td>chicago</td>\n      <td>30</td>\n    </tr>\n    <tr>\n      <th>5</th>\n      <td>Saturday</td>\n      <td>chicago</td>\n      <td>20</td>\n    </tr>\n    <tr>\n      <th>6</th>\n      <td>Sunday</td>\n      <td>chicago</td>\n      <td>25</td>\n    </tr>\n    <tr>\n      <th>7</th>\n      <td>Monday</td>\n      <td>chennai</td>\n      <td>75</td>\n    </tr>\n    <tr>\n      <th>8</th>\n      <td>Tuesday</td>\n      <td>chennai</td>\n      <td>77</td>\n    </tr>\n    <tr>\n      <th>9</th>\n      <td>Wednesday</td>\n      <td>chennai</td>\n      <td>75</td>\n    </tr>\n    <tr>\n      <th>10</th>\n      <td>Thursday</td>\n      <td>chennai</td>\n      <td>82</td>\n    </tr>\n    <tr>\n      <th>11</th>\n      <td>Friday</td>\n      <td>chennai</td>\n      <td>83</td>\n    </tr>\n    <tr>\n      <th>12</th>\n      <td>Saturday</td>\n      <td>chennai</td>\n      <td>81</td>\n    </tr>\n    <tr>\n      <th>13</th>\n      <td>Sunday</td>\n      <td>chennai</td>\n      <td>77</td>\n    </tr>\n    <tr>\n      <th>14</th>\n      <td>Monday</td>\n      <td>berlin</td>\n      <td>41</td>\n    </tr>\n    <tr>\n      <th>15</th>\n      <td>Tuesday</td>\n      <td>berlin</td>\n      <td>43</td>\n    </tr>\n    <tr>\n      <th>16</th>\n      <td>Wednesday</td>\n      <td>berlin</td>\n      <td>45</td>\n    </tr>\n    <tr>\n      <th>17</th>\n      <td>Thursday</td>\n      <td>berlin</td>\n      <td>38</td>\n    </tr>\n    <tr>\n      <th>18</th>\n      <td>Friday</td>\n      <td>berlin</td>\n      <td>30</td>\n    </tr>\n    <tr>\n      <th>19</th>\n      <td>Saturday</td>\n      <td>berlin</td>\n      <td>45</td>\n    </tr>\n    <tr>\n      <th>20</th>\n      <td>Sunday</td>\n      <td>berlin</td>\n      <td>47</td>\n    </tr>\n  </tbody>\n</table>\n</div>"
          },
          "metadata": {}
        }
      ]
    },
    {
      "cell_type": "code",
      "source": "df1[df1[\"variable\"]==\"chicago\"]",
      "metadata": {
        "trusted": true
      },
      "execution_count": 14,
      "outputs": [
        {
          "execution_count": 14,
          "output_type": "execute_result",
          "data": {
            "text/plain": "         day variable  value\n0     Monday  chicago     32\n1    Tuesday  chicago     30\n2  Wednesday  chicago     28\n3   Thursday  chicago     22\n4     Friday  chicago     30\n5   Saturday  chicago     20\n6     Sunday  chicago     25",
            "text/html": "<div>\n<style scoped>\n    .dataframe tbody tr th:only-of-type {\n        vertical-align: middle;\n    }\n\n    .dataframe tbody tr th {\n        vertical-align: top;\n    }\n\n    .dataframe thead th {\n        text-align: right;\n    }\n</style>\n<table border=\"1\" class=\"dataframe\">\n  <thead>\n    <tr style=\"text-align: right;\">\n      <th></th>\n      <th>day</th>\n      <th>variable</th>\n      <th>value</th>\n    </tr>\n  </thead>\n  <tbody>\n    <tr>\n      <th>0</th>\n      <td>Monday</td>\n      <td>chicago</td>\n      <td>32</td>\n    </tr>\n    <tr>\n      <th>1</th>\n      <td>Tuesday</td>\n      <td>chicago</td>\n      <td>30</td>\n    </tr>\n    <tr>\n      <th>2</th>\n      <td>Wednesday</td>\n      <td>chicago</td>\n      <td>28</td>\n    </tr>\n    <tr>\n      <th>3</th>\n      <td>Thursday</td>\n      <td>chicago</td>\n      <td>22</td>\n    </tr>\n    <tr>\n      <th>4</th>\n      <td>Friday</td>\n      <td>chicago</td>\n      <td>30</td>\n    </tr>\n    <tr>\n      <th>5</th>\n      <td>Saturday</td>\n      <td>chicago</td>\n      <td>20</td>\n    </tr>\n    <tr>\n      <th>6</th>\n      <td>Sunday</td>\n      <td>chicago</td>\n      <td>25</td>\n    </tr>\n  </tbody>\n</table>\n</div>"
          },
          "metadata": {}
        }
      ]
    },
    {
      "cell_type": "code",
      "source": "melted = pd.melt(df, id_vars=[\"day\"], var_name='city', value_name='temperature')\nmelted",
      "metadata": {
        "trusted": true
      },
      "execution_count": 11,
      "outputs": [
        {
          "execution_count": 11,
          "output_type": "execute_result",
          "data": {
            "text/plain": "          day     city  temperature\n0      Monday  chicago           32\n1     Tuesday  chicago           30\n2   Wednesday  chicago           28\n3    Thursday  chicago           22\n4      Friday  chicago           30\n5    Saturday  chicago           20\n6      Sunday  chicago           25\n7      Monday  chennai           75\n8     Tuesday  chennai           77\n9   Wednesday  chennai           75\n10   Thursday  chennai           82\n11     Friday  chennai           83\n12   Saturday  chennai           81\n13     Sunday  chennai           77\n14     Monday   berlin           41\n15    Tuesday   berlin           43\n16  Wednesday   berlin           45\n17   Thursday   berlin           38\n18     Friday   berlin           30\n19   Saturday   berlin           45\n20     Sunday   berlin           47",
            "text/html": "<div>\n<style scoped>\n    .dataframe tbody tr th:only-of-type {\n        vertical-align: middle;\n    }\n\n    .dataframe tbody tr th {\n        vertical-align: top;\n    }\n\n    .dataframe thead th {\n        text-align: right;\n    }\n</style>\n<table border=\"1\" class=\"dataframe\">\n  <thead>\n    <tr style=\"text-align: right;\">\n      <th></th>\n      <th>day</th>\n      <th>city</th>\n      <th>temperature</th>\n    </tr>\n  </thead>\n  <tbody>\n    <tr>\n      <th>0</th>\n      <td>Monday</td>\n      <td>chicago</td>\n      <td>32</td>\n    </tr>\n    <tr>\n      <th>1</th>\n      <td>Tuesday</td>\n      <td>chicago</td>\n      <td>30</td>\n    </tr>\n    <tr>\n      <th>2</th>\n      <td>Wednesday</td>\n      <td>chicago</td>\n      <td>28</td>\n    </tr>\n    <tr>\n      <th>3</th>\n      <td>Thursday</td>\n      <td>chicago</td>\n      <td>22</td>\n    </tr>\n    <tr>\n      <th>4</th>\n      <td>Friday</td>\n      <td>chicago</td>\n      <td>30</td>\n    </tr>\n    <tr>\n      <th>5</th>\n      <td>Saturday</td>\n      <td>chicago</td>\n      <td>20</td>\n    </tr>\n    <tr>\n      <th>6</th>\n      <td>Sunday</td>\n      <td>chicago</td>\n      <td>25</td>\n    </tr>\n    <tr>\n      <th>7</th>\n      <td>Monday</td>\n      <td>chennai</td>\n      <td>75</td>\n    </tr>\n    <tr>\n      <th>8</th>\n      <td>Tuesday</td>\n      <td>chennai</td>\n      <td>77</td>\n    </tr>\n    <tr>\n      <th>9</th>\n      <td>Wednesday</td>\n      <td>chennai</td>\n      <td>75</td>\n    </tr>\n    <tr>\n      <th>10</th>\n      <td>Thursday</td>\n      <td>chennai</td>\n      <td>82</td>\n    </tr>\n    <tr>\n      <th>11</th>\n      <td>Friday</td>\n      <td>chennai</td>\n      <td>83</td>\n    </tr>\n    <tr>\n      <th>12</th>\n      <td>Saturday</td>\n      <td>chennai</td>\n      <td>81</td>\n    </tr>\n    <tr>\n      <th>13</th>\n      <td>Sunday</td>\n      <td>chennai</td>\n      <td>77</td>\n    </tr>\n    <tr>\n      <th>14</th>\n      <td>Monday</td>\n      <td>berlin</td>\n      <td>41</td>\n    </tr>\n    <tr>\n      <th>15</th>\n      <td>Tuesday</td>\n      <td>berlin</td>\n      <td>43</td>\n    </tr>\n    <tr>\n      <th>16</th>\n      <td>Wednesday</td>\n      <td>berlin</td>\n      <td>45</td>\n    </tr>\n    <tr>\n      <th>17</th>\n      <td>Thursday</td>\n      <td>berlin</td>\n      <td>38</td>\n    </tr>\n    <tr>\n      <th>18</th>\n      <td>Friday</td>\n      <td>berlin</td>\n      <td>30</td>\n    </tr>\n    <tr>\n      <th>19</th>\n      <td>Saturday</td>\n      <td>berlin</td>\n      <td>45</td>\n    </tr>\n    <tr>\n      <th>20</th>\n      <td>Sunday</td>\n      <td>berlin</td>\n      <td>47</td>\n    </tr>\n  </tbody>\n</table>\n</div>"
          },
          "metadata": {}
        }
      ]
    }
  ]
}