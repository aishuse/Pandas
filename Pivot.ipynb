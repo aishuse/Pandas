{
  "metadata": {
    "language_info": {
      "codemirror_mode": {
        "name": "python",
        "version": 3
      },
      "file_extension": ".py",
      "mimetype": "text/x-python",
      "name": "python",
      "nbconvert_exporter": "python",
      "pygments_lexer": "ipython3",
      "version": "3.8"
    },
    "kernelspec": {
      "name": "python",
      "display_name": "Python (Pyodide)",
      "language": "python"
    }
  },
  "nbformat_minor": 4,
  "nbformat": 4,
  "cells": [
    {
      "cell_type": "markdown",
      "source": "# Pivot is used to transform or reshape dataframe into a different format. Pivot table is used to summarize and aggregate data inside dataframe. ",
      "metadata": {}
    },
    {
      "cell_type": "code",
      "source": "import pandas as pd\nimport numpy as np\ndf = pd.read_csv(\"weather.txt\")\ndf",
      "metadata": {
        "trusted": true
      },
      "execution_count": 1,
      "outputs": [
        {
          "execution_count": 1,
          "output_type": "execute_result",
          "data": {
            "text/plain": "       date      city  temperature  humidity\n0  5/1/2017  new york           65        56\n1  5/2/2017  new york           66        58\n2  5/3/2017  new york           68        60\n3  5/1/2017    mumbai           75        80\n4  5/2/2017    mumbai           78        83\n5  5/3/2017    mumbai           82        85\n6  5/1/2017   beijing           80        26\n7  5/2/2017   beijing           77        30\n8  5/3/2017   beijing           79        35",
            "text/html": "<div>\n<style scoped>\n    .dataframe tbody tr th:only-of-type {\n        vertical-align: middle;\n    }\n\n    .dataframe tbody tr th {\n        vertical-align: top;\n    }\n\n    .dataframe thead th {\n        text-align: right;\n    }\n</style>\n<table border=\"1\" class=\"dataframe\">\n  <thead>\n    <tr style=\"text-align: right;\">\n      <th></th>\n      <th>date</th>\n      <th>city</th>\n      <th>temperature</th>\n      <th>humidity</th>\n    </tr>\n  </thead>\n  <tbody>\n    <tr>\n      <th>0</th>\n      <td>5/1/2017</td>\n      <td>new york</td>\n      <td>65</td>\n      <td>56</td>\n    </tr>\n    <tr>\n      <th>1</th>\n      <td>5/2/2017</td>\n      <td>new york</td>\n      <td>66</td>\n      <td>58</td>\n    </tr>\n    <tr>\n      <th>2</th>\n      <td>5/3/2017</td>\n      <td>new york</td>\n      <td>68</td>\n      <td>60</td>\n    </tr>\n    <tr>\n      <th>3</th>\n      <td>5/1/2017</td>\n      <td>mumbai</td>\n      <td>75</td>\n      <td>80</td>\n    </tr>\n    <tr>\n      <th>4</th>\n      <td>5/2/2017</td>\n      <td>mumbai</td>\n      <td>78</td>\n      <td>83</td>\n    </tr>\n    <tr>\n      <th>5</th>\n      <td>5/3/2017</td>\n      <td>mumbai</td>\n      <td>82</td>\n      <td>85</td>\n    </tr>\n    <tr>\n      <th>6</th>\n      <td>5/1/2017</td>\n      <td>beijing</td>\n      <td>80</td>\n      <td>26</td>\n    </tr>\n    <tr>\n      <th>7</th>\n      <td>5/2/2017</td>\n      <td>beijing</td>\n      <td>77</td>\n      <td>30</td>\n    </tr>\n    <tr>\n      <th>8</th>\n      <td>5/3/2017</td>\n      <td>beijing</td>\n      <td>79</td>\n      <td>35</td>\n    </tr>\n  </tbody>\n</table>\n</div>"
          },
          "metadata": {}
        }
      ]
    },
    {
      "cell_type": "code",
      "source": "df.pivot(index='city',columns='date')\n",
      "metadata": {
        "trusted": true
      },
      "execution_count": 2,
      "outputs": [
        {
          "execution_count": 2,
          "output_type": "execute_result",
          "data": {
            "text/plain": "         temperature                   humidity                  \ndate        5/1/2017 5/2/2017 5/3/2017 5/1/2017 5/2/2017 5/3/2017\ncity                                                             \nbeijing           80       77       79       26       30       35\nmumbai            75       78       82       80       83       85\nnew york          65       66       68       56       58       60",
            "text/html": "<div>\n<style scoped>\n    .dataframe tbody tr th:only-of-type {\n        vertical-align: middle;\n    }\n\n    .dataframe tbody tr th {\n        vertical-align: top;\n    }\n\n    .dataframe thead tr th {\n        text-align: left;\n    }\n\n    .dataframe thead tr:last-of-type th {\n        text-align: right;\n    }\n</style>\n<table border=\"1\" class=\"dataframe\">\n  <thead>\n    <tr>\n      <th></th>\n      <th colspan=\"3\" halign=\"left\">temperature</th>\n      <th colspan=\"3\" halign=\"left\">humidity</th>\n    </tr>\n    <tr>\n      <th>date</th>\n      <th>5/1/2017</th>\n      <th>5/2/2017</th>\n      <th>5/3/2017</th>\n      <th>5/1/2017</th>\n      <th>5/2/2017</th>\n      <th>5/3/2017</th>\n    </tr>\n    <tr>\n      <th>city</th>\n      <th></th>\n      <th></th>\n      <th></th>\n      <th></th>\n      <th></th>\n      <th></th>\n    </tr>\n  </thead>\n  <tbody>\n    <tr>\n      <th>beijing</th>\n      <td>80</td>\n      <td>77</td>\n      <td>79</td>\n      <td>26</td>\n      <td>30</td>\n      <td>35</td>\n    </tr>\n    <tr>\n      <th>mumbai</th>\n      <td>75</td>\n      <td>78</td>\n      <td>82</td>\n      <td>80</td>\n      <td>83</td>\n      <td>85</td>\n    </tr>\n    <tr>\n      <th>new york</th>\n      <td>65</td>\n      <td>66</td>\n      <td>68</td>\n      <td>56</td>\n      <td>58</td>\n      <td>60</td>\n    </tr>\n  </tbody>\n</table>\n</div>"
          },
          "metadata": {}
        }
      ]
    },
    {
      "cell_type": "code",
      "source": "df.pivot(index='city',columns='date',values=\"humidity\")\n",
      "metadata": {
        "trusted": true
      },
      "execution_count": 3,
      "outputs": [
        {
          "execution_count": 3,
          "output_type": "execute_result",
          "data": {
            "text/plain": "date      5/1/2017  5/2/2017  5/3/2017\ncity                                  \nbeijing         26        30        35\nmumbai          80        83        85\nnew york        56        58        60",
            "text/html": "<div>\n<style scoped>\n    .dataframe tbody tr th:only-of-type {\n        vertical-align: middle;\n    }\n\n    .dataframe tbody tr th {\n        vertical-align: top;\n    }\n\n    .dataframe thead th {\n        text-align: right;\n    }\n</style>\n<table border=\"1\" class=\"dataframe\">\n  <thead>\n    <tr style=\"text-align: right;\">\n      <th>date</th>\n      <th>5/1/2017</th>\n      <th>5/2/2017</th>\n      <th>5/3/2017</th>\n    </tr>\n    <tr>\n      <th>city</th>\n      <th></th>\n      <th></th>\n      <th></th>\n    </tr>\n  </thead>\n  <tbody>\n    <tr>\n      <th>beijing</th>\n      <td>26</td>\n      <td>30</td>\n      <td>35</td>\n    </tr>\n    <tr>\n      <th>mumbai</th>\n      <td>80</td>\n      <td>83</td>\n      <td>85</td>\n    </tr>\n    <tr>\n      <th>new york</th>\n      <td>56</td>\n      <td>58</td>\n      <td>60</td>\n    </tr>\n  </tbody>\n</table>\n</div>"
          },
          "metadata": {}
        }
      ]
    },
    {
      "cell_type": "code",
      "source": "df.pivot(index='humidity',columns='city')\n",
      "metadata": {
        "trusted": true
      },
      "execution_count": 4,
      "outputs": [
        {
          "execution_count": 4,
          "output_type": "execute_result",
          "data": {
            "text/plain": "              date                     temperature                \ncity       beijing    mumbai  new york     beijing mumbai new york\nhumidity                                                          \n26        5/1/2017       NaN       NaN        80.0    NaN      NaN\n30        5/2/2017       NaN       NaN        77.0    NaN      NaN\n35        5/3/2017       NaN       NaN        79.0    NaN      NaN\n56             NaN       NaN  5/1/2017         NaN    NaN     65.0\n58             NaN       NaN  5/2/2017         NaN    NaN     66.0\n60             NaN       NaN  5/3/2017         NaN    NaN     68.0\n80             NaN  5/1/2017       NaN         NaN   75.0      NaN\n83             NaN  5/2/2017       NaN         NaN   78.0      NaN\n85             NaN  5/3/2017       NaN         NaN   82.0      NaN",
            "text/html": "<div>\n<style scoped>\n    .dataframe tbody tr th:only-of-type {\n        vertical-align: middle;\n    }\n\n    .dataframe tbody tr th {\n        vertical-align: top;\n    }\n\n    .dataframe thead tr th {\n        text-align: left;\n    }\n\n    .dataframe thead tr:last-of-type th {\n        text-align: right;\n    }\n</style>\n<table border=\"1\" class=\"dataframe\">\n  <thead>\n    <tr>\n      <th></th>\n      <th colspan=\"3\" halign=\"left\">date</th>\n      <th colspan=\"3\" halign=\"left\">temperature</th>\n    </tr>\n    <tr>\n      <th>city</th>\n      <th>beijing</th>\n      <th>mumbai</th>\n      <th>new york</th>\n      <th>beijing</th>\n      <th>mumbai</th>\n      <th>new york</th>\n    </tr>\n    <tr>\n      <th>humidity</th>\n      <th></th>\n      <th></th>\n      <th></th>\n      <th></th>\n      <th></th>\n      <th></th>\n    </tr>\n  </thead>\n  <tbody>\n    <tr>\n      <th>26</th>\n      <td>5/1/2017</td>\n      <td>NaN</td>\n      <td>NaN</td>\n      <td>80.0</td>\n      <td>NaN</td>\n      <td>NaN</td>\n    </tr>\n    <tr>\n      <th>30</th>\n      <td>5/2/2017</td>\n      <td>NaN</td>\n      <td>NaN</td>\n      <td>77.0</td>\n      <td>NaN</td>\n      <td>NaN</td>\n    </tr>\n    <tr>\n      <th>35</th>\n      <td>5/3/2017</td>\n      <td>NaN</td>\n      <td>NaN</td>\n      <td>79.0</td>\n      <td>NaN</td>\n      <td>NaN</td>\n    </tr>\n    <tr>\n      <th>56</th>\n      <td>NaN</td>\n      <td>NaN</td>\n      <td>5/1/2017</td>\n      <td>NaN</td>\n      <td>NaN</td>\n      <td>65.0</td>\n    </tr>\n    <tr>\n      <th>58</th>\n      <td>NaN</td>\n      <td>NaN</td>\n      <td>5/2/2017</td>\n      <td>NaN</td>\n      <td>NaN</td>\n      <td>66.0</td>\n    </tr>\n    <tr>\n      <th>60</th>\n      <td>NaN</td>\n      <td>NaN</td>\n      <td>5/3/2017</td>\n      <td>NaN</td>\n      <td>NaN</td>\n      <td>68.0</td>\n    </tr>\n    <tr>\n      <th>80</th>\n      <td>NaN</td>\n      <td>5/1/2017</td>\n      <td>NaN</td>\n      <td>NaN</td>\n      <td>75.0</td>\n      <td>NaN</td>\n    </tr>\n    <tr>\n      <th>83</th>\n      <td>NaN</td>\n      <td>5/2/2017</td>\n      <td>NaN</td>\n      <td>NaN</td>\n      <td>78.0</td>\n      <td>NaN</td>\n    </tr>\n    <tr>\n      <th>85</th>\n      <td>NaN</td>\n      <td>5/3/2017</td>\n      <td>NaN</td>\n      <td>NaN</td>\n      <td>82.0</td>\n      <td>NaN</td>\n    </tr>\n  </tbody>\n</table>\n</div>"
          },
          "metadata": {}
        }
      ]
    },
    {
      "cell_type": "code",
      "source": "df = pd.read_csv(\"weather2.txt\")\ndf",
      "metadata": {
        "trusted": true
      },
      "execution_count": 18,
      "outputs": [
        {
          "execution_count": 18,
          "output_type": "execute_result",
          "data": {
            "text/plain": "       date      city  temperature  humidity\n0  5/1/2017  new york           65        56\n1  5/1/2017  new york           61        54\n2  5/2/2017  new york           70        60\n3  5/2/2017  new york           72        62\n4  5/1/2017    mumbai           75        80\n5  5/1/2017    mumbai           78        83\n6  5/2/2017    mumbai           82        85\n7  5/2/2017    mumbai           80        26",
            "text/html": "<div>\n<style scoped>\n    .dataframe tbody tr th:only-of-type {\n        vertical-align: middle;\n    }\n\n    .dataframe tbody tr th {\n        vertical-align: top;\n    }\n\n    .dataframe thead th {\n        text-align: right;\n    }\n</style>\n<table border=\"1\" class=\"dataframe\">\n  <thead>\n    <tr style=\"text-align: right;\">\n      <th></th>\n      <th>date</th>\n      <th>city</th>\n      <th>temperature</th>\n      <th>humidity</th>\n    </tr>\n  </thead>\n  <tbody>\n    <tr>\n      <th>0</th>\n      <td>5/1/2017</td>\n      <td>new york</td>\n      <td>65</td>\n      <td>56</td>\n    </tr>\n    <tr>\n      <th>1</th>\n      <td>5/1/2017</td>\n      <td>new york</td>\n      <td>61</td>\n      <td>54</td>\n    </tr>\n    <tr>\n      <th>2</th>\n      <td>5/2/2017</td>\n      <td>new york</td>\n      <td>70</td>\n      <td>60</td>\n    </tr>\n    <tr>\n      <th>3</th>\n      <td>5/2/2017</td>\n      <td>new york</td>\n      <td>72</td>\n      <td>62</td>\n    </tr>\n    <tr>\n      <th>4</th>\n      <td>5/1/2017</td>\n      <td>mumbai</td>\n      <td>75</td>\n      <td>80</td>\n    </tr>\n    <tr>\n      <th>5</th>\n      <td>5/1/2017</td>\n      <td>mumbai</td>\n      <td>78</td>\n      <td>83</td>\n    </tr>\n    <tr>\n      <th>6</th>\n      <td>5/2/2017</td>\n      <td>mumbai</td>\n      <td>82</td>\n      <td>85</td>\n    </tr>\n    <tr>\n      <th>7</th>\n      <td>5/2/2017</td>\n      <td>mumbai</td>\n      <td>80</td>\n      <td>26</td>\n    </tr>\n  </tbody>\n</table>\n</div>"
          },
          "metadata": {}
        }
      ]
    },
    {
      "cell_type": "markdown",
      "source": "# Pivot Table\n\nCreate average temperature and humidity for all the dates",
      "metadata": {}
    },
    {
      "cell_type": "code",
      "source": "df.pivot_table(index=\"city\",columns=\"date\")\n",
      "metadata": {
        "trusted": true
      },
      "execution_count": 19,
      "outputs": [
        {
          "execution_count": 19,
          "output_type": "execute_result",
          "data": {
            "text/plain": "         humidity          temperature         \ndate     5/1/2017 5/2/2017    5/1/2017 5/2/2017\ncity                                           \nmumbai       81.5     55.5        76.5     81.0\nnew york     55.0     61.0        63.0     71.0",
            "text/html": "<div>\n<style scoped>\n    .dataframe tbody tr th:only-of-type {\n        vertical-align: middle;\n    }\n\n    .dataframe tbody tr th {\n        vertical-align: top;\n    }\n\n    .dataframe thead tr th {\n        text-align: left;\n    }\n\n    .dataframe thead tr:last-of-type th {\n        text-align: right;\n    }\n</style>\n<table border=\"1\" class=\"dataframe\">\n  <thead>\n    <tr>\n      <th></th>\n      <th colspan=\"2\" halign=\"left\">humidity</th>\n      <th colspan=\"2\" halign=\"left\">temperature</th>\n    </tr>\n    <tr>\n      <th>date</th>\n      <th>5/1/2017</th>\n      <th>5/2/2017</th>\n      <th>5/1/2017</th>\n      <th>5/2/2017</th>\n    </tr>\n    <tr>\n      <th>city</th>\n      <th></th>\n      <th></th>\n      <th></th>\n      <th></th>\n    </tr>\n  </thead>\n  <tbody>\n    <tr>\n      <th>mumbai</th>\n      <td>81.5</td>\n      <td>55.5</td>\n      <td>76.5</td>\n      <td>81.0</td>\n    </tr>\n    <tr>\n      <th>new york</th>\n      <td>55.0</td>\n      <td>61.0</td>\n      <td>63.0</td>\n      <td>71.0</td>\n    </tr>\n  </tbody>\n</table>\n</div>"
          },
          "metadata": {}
        }
      ]
    },
    {
      "cell_type": "code",
      "source": "df.pivot_table(index=\"city\",columns=\"date\", aggfunc=\"sum\") # default aggfunc is mean",
      "metadata": {
        "trusted": true
      },
      "execution_count": 20,
      "outputs": [
        {
          "execution_count": 20,
          "output_type": "execute_result",
          "data": {
            "text/plain": "         humidity          temperature         \ndate     5/1/2017 5/2/2017    5/1/2017 5/2/2017\ncity                                           \nmumbai        163      111         153      162\nnew york      110      122         126      142",
            "text/html": "<div>\n<style scoped>\n    .dataframe tbody tr th:only-of-type {\n        vertical-align: middle;\n    }\n\n    .dataframe tbody tr th {\n        vertical-align: top;\n    }\n\n    .dataframe thead tr th {\n        text-align: left;\n    }\n\n    .dataframe thead tr:last-of-type th {\n        text-align: right;\n    }\n</style>\n<table border=\"1\" class=\"dataframe\">\n  <thead>\n    <tr>\n      <th></th>\n      <th colspan=\"2\" halign=\"left\">humidity</th>\n      <th colspan=\"2\" halign=\"left\">temperature</th>\n    </tr>\n    <tr>\n      <th>date</th>\n      <th>5/1/2017</th>\n      <th>5/2/2017</th>\n      <th>5/1/2017</th>\n      <th>5/2/2017</th>\n    </tr>\n    <tr>\n      <th>city</th>\n      <th></th>\n      <th></th>\n      <th></th>\n      <th></th>\n    </tr>\n  </thead>\n  <tbody>\n    <tr>\n      <th>mumbai</th>\n      <td>163</td>\n      <td>111</td>\n      <td>153</td>\n      <td>162</td>\n    </tr>\n    <tr>\n      <th>new york</th>\n      <td>110</td>\n      <td>122</td>\n      <td>126</td>\n      <td>142</td>\n    </tr>\n  </tbody>\n</table>\n</div>"
          },
          "metadata": {}
        }
      ]
    },
    {
      "cell_type": "markdown",
      "source": "# Margins\n",
      "metadata": {}
    },
    {
      "cell_type": "code",
      "source": "df.pivot_table(index=\"city\",columns=\"date\", margins=True) # adds all column & row showing mean values by default",
      "metadata": {
        "trusted": true
      },
      "execution_count": 22,
      "outputs": [
        {
          "execution_count": 22,
          "output_type": "execute_result",
          "data": {
            "text/plain": "         humidity                 temperature                 \ndate     5/1/2017 5/2/2017    All    5/1/2017 5/2/2017     All\ncity                                                          \nmumbai      81.50    55.50  68.50       76.50     81.0  78.750\nnew york    55.00    61.00  58.00       63.00     71.0  67.000\nAll         68.25    58.25  63.25       69.75     76.0  72.875",
            "text/html": "<div>\n<style scoped>\n    .dataframe tbody tr th:only-of-type {\n        vertical-align: middle;\n    }\n\n    .dataframe tbody tr th {\n        vertical-align: top;\n    }\n\n    .dataframe thead tr th {\n        text-align: left;\n    }\n\n    .dataframe thead tr:last-of-type th {\n        text-align: right;\n    }\n</style>\n<table border=\"1\" class=\"dataframe\">\n  <thead>\n    <tr>\n      <th></th>\n      <th colspan=\"3\" halign=\"left\">humidity</th>\n      <th colspan=\"3\" halign=\"left\">temperature</th>\n    </tr>\n    <tr>\n      <th>date</th>\n      <th>5/1/2017</th>\n      <th>5/2/2017</th>\n      <th>All</th>\n      <th>5/1/2017</th>\n      <th>5/2/2017</th>\n      <th>All</th>\n    </tr>\n    <tr>\n      <th>city</th>\n      <th></th>\n      <th></th>\n      <th></th>\n      <th></th>\n      <th></th>\n      <th></th>\n    </tr>\n  </thead>\n  <tbody>\n    <tr>\n      <th>mumbai</th>\n      <td>81.50</td>\n      <td>55.50</td>\n      <td>68.50</td>\n      <td>76.50</td>\n      <td>81.0</td>\n      <td>78.750</td>\n    </tr>\n    <tr>\n      <th>new york</th>\n      <td>55.00</td>\n      <td>61.00</td>\n      <td>58.00</td>\n      <td>63.00</td>\n      <td>71.0</td>\n      <td>67.000</td>\n    </tr>\n    <tr>\n      <th>All</th>\n      <td>68.25</td>\n      <td>58.25</td>\n      <td>63.25</td>\n      <td>69.75</td>\n      <td>76.0</td>\n      <td>72.875</td>\n    </tr>\n  </tbody>\n</table>\n</div>"
          },
          "metadata": {}
        }
      ]
    },
    {
      "cell_type": "code",
      "source": "df.pivot_table(index=\"city\",columns=\"date\", margins=True,aggfunc=np.sum)\n",
      "metadata": {
        "trusted": true
      },
      "execution_count": 21,
      "outputs": [
        {
          "execution_count": 21,
          "output_type": "execute_result",
          "data": {
            "text/plain": "         humidity               temperature              \ndate     5/1/2017 5/2/2017  All    5/1/2017 5/2/2017  All\ncity                                                     \nmumbai        163      111  274         153      162  315\nnew york      110      122  232         126      142  268\nAll           273      233  506         279      304  583",
            "text/html": "<div>\n<style scoped>\n    .dataframe tbody tr th:only-of-type {\n        vertical-align: middle;\n    }\n\n    .dataframe tbody tr th {\n        vertical-align: top;\n    }\n\n    .dataframe thead tr th {\n        text-align: left;\n    }\n\n    .dataframe thead tr:last-of-type th {\n        text-align: right;\n    }\n</style>\n<table border=\"1\" class=\"dataframe\">\n  <thead>\n    <tr>\n      <th></th>\n      <th colspan=\"3\" halign=\"left\">humidity</th>\n      <th colspan=\"3\" halign=\"left\">temperature</th>\n    </tr>\n    <tr>\n      <th>date</th>\n      <th>5/1/2017</th>\n      <th>5/2/2017</th>\n      <th>All</th>\n      <th>5/1/2017</th>\n      <th>5/2/2017</th>\n      <th>All</th>\n    </tr>\n    <tr>\n      <th>city</th>\n      <th></th>\n      <th></th>\n      <th></th>\n      <th></th>\n      <th></th>\n      <th></th>\n    </tr>\n  </thead>\n  <tbody>\n    <tr>\n      <th>mumbai</th>\n      <td>163</td>\n      <td>111</td>\n      <td>274</td>\n      <td>153</td>\n      <td>162</td>\n      <td>315</td>\n    </tr>\n    <tr>\n      <th>new york</th>\n      <td>110</td>\n      <td>122</td>\n      <td>232</td>\n      <td>126</td>\n      <td>142</td>\n      <td>268</td>\n    </tr>\n    <tr>\n      <th>All</th>\n      <td>273</td>\n      <td>233</td>\n      <td>506</td>\n      <td>279</td>\n      <td>304</td>\n      <td>583</td>\n    </tr>\n  </tbody>\n</table>\n</div>"
          },
          "metadata": {}
        }
      ]
    },
    {
      "cell_type": "markdown",
      "source": "# Grouper\nTo know average temp in month of may and dec",
      "metadata": {}
    },
    {
      "cell_type": "code",
      "source": "df = pd.read_csv(\"weather3.txt\")\ndf",
      "metadata": {
        "trusted": true
      },
      "execution_count": 8,
      "outputs": [
        {
          "execution_count": 8,
          "output_type": "execute_result",
          "data": {
            "text/plain": "        date      city  temperature  humidity\n0   5/1/2017  new york           65        56\n1   5/2/2017  new york           61        54\n2   5/3/2017  new york           70        60\n3  12/1/2017  new york           30        50\n4  12/2/2017  new york           28        52\n5  12/3/2017  new york           25        51",
            "text/html": "<div>\n<style scoped>\n    .dataframe tbody tr th:only-of-type {\n        vertical-align: middle;\n    }\n\n    .dataframe tbody tr th {\n        vertical-align: top;\n    }\n\n    .dataframe thead th {\n        text-align: right;\n    }\n</style>\n<table border=\"1\" class=\"dataframe\">\n  <thead>\n    <tr style=\"text-align: right;\">\n      <th></th>\n      <th>date</th>\n      <th>city</th>\n      <th>temperature</th>\n      <th>humidity</th>\n    </tr>\n  </thead>\n  <tbody>\n    <tr>\n      <th>0</th>\n      <td>5/1/2017</td>\n      <td>new york</td>\n      <td>65</td>\n      <td>56</td>\n    </tr>\n    <tr>\n      <th>1</th>\n      <td>5/2/2017</td>\n      <td>new york</td>\n      <td>61</td>\n      <td>54</td>\n    </tr>\n    <tr>\n      <th>2</th>\n      <td>5/3/2017</td>\n      <td>new york</td>\n      <td>70</td>\n      <td>60</td>\n    </tr>\n    <tr>\n      <th>3</th>\n      <td>12/1/2017</td>\n      <td>new york</td>\n      <td>30</td>\n      <td>50</td>\n    </tr>\n    <tr>\n      <th>4</th>\n      <td>12/2/2017</td>\n      <td>new york</td>\n      <td>28</td>\n      <td>52</td>\n    </tr>\n    <tr>\n      <th>5</th>\n      <td>12/3/2017</td>\n      <td>new york</td>\n      <td>25</td>\n      <td>51</td>\n    </tr>\n  </tbody>\n</table>\n</div>"
          },
          "metadata": {}
        }
      ]
    },
    {
      "cell_type": "code",
      "source": "df['date'] = pd.to_datetime(df['date'])\n",
      "metadata": {
        "trusted": true
      },
      "execution_count": 9,
      "outputs": []
    },
    {
      "cell_type": "code",
      "source": "df.pivot_table(index=pd.Grouper(freq='M',key='date'),columns='city') # frequency is month and date is the key\n",
      "metadata": {
        "trusted": true
      },
      "execution_count": 10,
      "outputs": [
        {
          "execution_count": 10,
          "output_type": "execute_result",
          "data": {
            "text/plain": "             humidity temperature\ncity         new york    new york\ndate                             \n2017-05-31  56.666667   65.333333\n2017-12-31  51.000000   27.666667",
            "text/html": "<div>\n<style scoped>\n    .dataframe tbody tr th:only-of-type {\n        vertical-align: middle;\n    }\n\n    .dataframe tbody tr th {\n        vertical-align: top;\n    }\n\n    .dataframe thead tr th {\n        text-align: left;\n    }\n\n    .dataframe thead tr:last-of-type th {\n        text-align: right;\n    }\n</style>\n<table border=\"1\" class=\"dataframe\">\n  <thead>\n    <tr>\n      <th></th>\n      <th>humidity</th>\n      <th>temperature</th>\n    </tr>\n    <tr>\n      <th>city</th>\n      <th>new york</th>\n      <th>new york</th>\n    </tr>\n    <tr>\n      <th>date</th>\n      <th></th>\n      <th></th>\n    </tr>\n  </thead>\n  <tbody>\n    <tr>\n      <th>2017-05-31</th>\n      <td>56.666667</td>\n      <td>65.333333</td>\n    </tr>\n    <tr>\n      <th>2017-12-31</th>\n      <td>51.000000</td>\n      <td>27.666667</td>\n    </tr>\n  </tbody>\n</table>\n</div>"
          },
          "metadata": {}
        }
      ]
    },
    {
      "cell_type": "code",
      "source": "",
      "metadata": {},
      "execution_count": null,
      "outputs": []
    }
  ]
}