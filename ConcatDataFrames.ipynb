{
  "metadata": {
    "language_info": {
      "codemirror_mode": {
        "name": "python",
        "version": 3
      },
      "file_extension": ".py",
      "mimetype": "text/x-python",
      "name": "python",
      "nbconvert_exporter": "python",
      "pygments_lexer": "ipython3",
      "version": "3.8"
    },
    "kernelspec": {
      "name": "python",
      "display_name": "Python (Pyodide)",
      "language": "python"
    }
  },
  "nbformat_minor": 4,
  "nbformat": 4,
  "cells": [
    {
      "cell_type": "code",
      "source": "import pandas as pd\n\nindia_weather = pd.DataFrame({\n    \"city\": [\"mumbai\",\"delhi\",\"banglore\"],\n    \"temperature\": [32,45,30],\n    \"humidity\": [80, 60, 78]\n})\nindia_weather",
      "metadata": {
        "trusted": true
      },
      "execution_count": 2,
      "outputs": [
        {
          "execution_count": 2,
          "output_type": "execute_result",
          "data": {
            "text/plain": "       city  temperature  humidity\n0    mumbai           32        80\n1     delhi           45        60\n2  banglore           30        78",
            "text/html": "<div>\n<style scoped>\n    .dataframe tbody tr th:only-of-type {\n        vertical-align: middle;\n    }\n\n    .dataframe tbody tr th {\n        vertical-align: top;\n    }\n\n    .dataframe thead th {\n        text-align: right;\n    }\n</style>\n<table border=\"1\" class=\"dataframe\">\n  <thead>\n    <tr style=\"text-align: right;\">\n      <th></th>\n      <th>city</th>\n      <th>temperature</th>\n      <th>humidity</th>\n    </tr>\n  </thead>\n  <tbody>\n    <tr>\n      <th>0</th>\n      <td>mumbai</td>\n      <td>32</td>\n      <td>80</td>\n    </tr>\n    <tr>\n      <th>1</th>\n      <td>delhi</td>\n      <td>45</td>\n      <td>60</td>\n    </tr>\n    <tr>\n      <th>2</th>\n      <td>banglore</td>\n      <td>30</td>\n      <td>78</td>\n    </tr>\n  </tbody>\n</table>\n</div>"
          },
          "metadata": {}
        }
      ]
    },
    {
      "cell_type": "code",
      "source": "us_weather = pd.DataFrame({\n    \"city\": [\"new york\",\"chicago\",\"orlando\"],\n    \"temperature\": [21,14,35],\n    \"humidity\": [68, 65, 75]\n})\nus_weather",
      "metadata": {
        "trusted": true
      },
      "execution_count": 3,
      "outputs": [
        {
          "execution_count": 3,
          "output_type": "execute_result",
          "data": {
            "text/plain": "       city  temperature  humidity\n0  new york           21        68\n1   chicago           14        65\n2   orlando           35        75",
            "text/html": "<div>\n<style scoped>\n    .dataframe tbody tr th:only-of-type {\n        vertical-align: middle;\n    }\n\n    .dataframe tbody tr th {\n        vertical-align: top;\n    }\n\n    .dataframe thead th {\n        text-align: right;\n    }\n</style>\n<table border=\"1\" class=\"dataframe\">\n  <thead>\n    <tr style=\"text-align: right;\">\n      <th></th>\n      <th>city</th>\n      <th>temperature</th>\n      <th>humidity</th>\n    </tr>\n  </thead>\n  <tbody>\n    <tr>\n      <th>0</th>\n      <td>new york</td>\n      <td>21</td>\n      <td>68</td>\n    </tr>\n    <tr>\n      <th>1</th>\n      <td>chicago</td>\n      <td>14</td>\n      <td>65</td>\n    </tr>\n    <tr>\n      <th>2</th>\n      <td>orlando</td>\n      <td>35</td>\n      <td>75</td>\n    </tr>\n  </tbody>\n</table>\n</div>"
          },
          "metadata": {}
        }
      ]
    },
    {
      "cell_type": "code",
      "source": "df = pd.concat([india_weather, us_weather])\ndf",
      "metadata": {
        "trusted": true
      },
      "execution_count": 4,
      "outputs": [
        {
          "execution_count": 4,
          "output_type": "execute_result",
          "data": {
            "text/plain": "       city  temperature  humidity\n0    mumbai           32        80\n1     delhi           45        60\n2  banglore           30        78\n0  new york           21        68\n1   chicago           14        65\n2   orlando           35        75",
            "text/html": "<div>\n<style scoped>\n    .dataframe tbody tr th:only-of-type {\n        vertical-align: middle;\n    }\n\n    .dataframe tbody tr th {\n        vertical-align: top;\n    }\n\n    .dataframe thead th {\n        text-align: right;\n    }\n</style>\n<table border=\"1\" class=\"dataframe\">\n  <thead>\n    <tr style=\"text-align: right;\">\n      <th></th>\n      <th>city</th>\n      <th>temperature</th>\n      <th>humidity</th>\n    </tr>\n  </thead>\n  <tbody>\n    <tr>\n      <th>0</th>\n      <td>mumbai</td>\n      <td>32</td>\n      <td>80</td>\n    </tr>\n    <tr>\n      <th>1</th>\n      <td>delhi</td>\n      <td>45</td>\n      <td>60</td>\n    </tr>\n    <tr>\n      <th>2</th>\n      <td>banglore</td>\n      <td>30</td>\n      <td>78</td>\n    </tr>\n    <tr>\n      <th>0</th>\n      <td>new york</td>\n      <td>21</td>\n      <td>68</td>\n    </tr>\n    <tr>\n      <th>1</th>\n      <td>chicago</td>\n      <td>14</td>\n      <td>65</td>\n    </tr>\n    <tr>\n      <th>2</th>\n      <td>orlando</td>\n      <td>35</td>\n      <td>75</td>\n    </tr>\n  </tbody>\n</table>\n</div>"
          },
          "metadata": {}
        }
      ]
    },
    {
      "cell_type": "markdown",
      "source": "# Ignore Index\n",
      "metadata": {}
    },
    {
      "cell_type": "code",
      "source": "df = pd.concat([india_weather, us_weather], ignore_index=True)\ndf",
      "metadata": {
        "trusted": true
      },
      "execution_count": 5,
      "outputs": [
        {
          "execution_count": 5,
          "output_type": "execute_result",
          "data": {
            "text/plain": "       city  temperature  humidity\n0    mumbai           32        80\n1     delhi           45        60\n2  banglore           30        78\n3  new york           21        68\n4   chicago           14        65\n5   orlando           35        75",
            "text/html": "<div>\n<style scoped>\n    .dataframe tbody tr th:only-of-type {\n        vertical-align: middle;\n    }\n\n    .dataframe tbody tr th {\n        vertical-align: top;\n    }\n\n    .dataframe thead th {\n        text-align: right;\n    }\n</style>\n<table border=\"1\" class=\"dataframe\">\n  <thead>\n    <tr style=\"text-align: right;\">\n      <th></th>\n      <th>city</th>\n      <th>temperature</th>\n      <th>humidity</th>\n    </tr>\n  </thead>\n  <tbody>\n    <tr>\n      <th>0</th>\n      <td>mumbai</td>\n      <td>32</td>\n      <td>80</td>\n    </tr>\n    <tr>\n      <th>1</th>\n      <td>delhi</td>\n      <td>45</td>\n      <td>60</td>\n    </tr>\n    <tr>\n      <th>2</th>\n      <td>banglore</td>\n      <td>30</td>\n      <td>78</td>\n    </tr>\n    <tr>\n      <th>3</th>\n      <td>new york</td>\n      <td>21</td>\n      <td>68</td>\n    </tr>\n    <tr>\n      <th>4</th>\n      <td>chicago</td>\n      <td>14</td>\n      <td>65</td>\n    </tr>\n    <tr>\n      <th>5</th>\n      <td>orlando</td>\n      <td>35</td>\n      <td>75</td>\n    </tr>\n  </tbody>\n</table>\n</div>"
          },
          "metadata": {}
        }
      ]
    },
    {
      "cell_type": "markdown",
      "source": "# Concatenation And Keys\n",
      "metadata": {}
    },
    {
      "cell_type": "code",
      "source": "df = pd.concat([india_weather, us_weather], keys=[\"india\", \"us\"])\ndf",
      "metadata": {
        "trusted": true
      },
      "execution_count": 6,
      "outputs": [
        {
          "execution_count": 6,
          "output_type": "execute_result",
          "data": {
            "text/plain": "             city  temperature  humidity\nindia 0    mumbai           32        80\n      1     delhi           45        60\n      2  banglore           30        78\nus    0  new york           21        68\n      1   chicago           14        65\n      2   orlando           35        75",
            "text/html": "<div>\n<style scoped>\n    .dataframe tbody tr th:only-of-type {\n        vertical-align: middle;\n    }\n\n    .dataframe tbody tr th {\n        vertical-align: top;\n    }\n\n    .dataframe thead th {\n        text-align: right;\n    }\n</style>\n<table border=\"1\" class=\"dataframe\">\n  <thead>\n    <tr style=\"text-align: right;\">\n      <th></th>\n      <th></th>\n      <th>city</th>\n      <th>temperature</th>\n      <th>humidity</th>\n    </tr>\n  </thead>\n  <tbody>\n    <tr>\n      <th rowspan=\"3\" valign=\"top\">india</th>\n      <th>0</th>\n      <td>mumbai</td>\n      <td>32</td>\n      <td>80</td>\n    </tr>\n    <tr>\n      <th>1</th>\n      <td>delhi</td>\n      <td>45</td>\n      <td>60</td>\n    </tr>\n    <tr>\n      <th>2</th>\n      <td>banglore</td>\n      <td>30</td>\n      <td>78</td>\n    </tr>\n    <tr>\n      <th rowspan=\"3\" valign=\"top\">us</th>\n      <th>0</th>\n      <td>new york</td>\n      <td>21</td>\n      <td>68</td>\n    </tr>\n    <tr>\n      <th>1</th>\n      <td>chicago</td>\n      <td>14</td>\n      <td>65</td>\n    </tr>\n    <tr>\n      <th>2</th>\n      <td>orlando</td>\n      <td>35</td>\n      <td>75</td>\n    </tr>\n  </tbody>\n</table>\n</div>"
          },
          "metadata": {}
        }
      ]
    },
    {
      "cell_type": "code",
      "source": "df.loc[\"us\"]",
      "metadata": {
        "trusted": true
      },
      "execution_count": 7,
      "outputs": [
        {
          "execution_count": 7,
          "output_type": "execute_result",
          "data": {
            "text/plain": "       city  temperature  humidity\n0  new york           21        68\n1   chicago           14        65\n2   orlando           35        75",
            "text/html": "<div>\n<style scoped>\n    .dataframe tbody tr th:only-of-type {\n        vertical-align: middle;\n    }\n\n    .dataframe tbody tr th {\n        vertical-align: top;\n    }\n\n    .dataframe thead th {\n        text-align: right;\n    }\n</style>\n<table border=\"1\" class=\"dataframe\">\n  <thead>\n    <tr style=\"text-align: right;\">\n      <th></th>\n      <th>city</th>\n      <th>temperature</th>\n      <th>humidity</th>\n    </tr>\n  </thead>\n  <tbody>\n    <tr>\n      <th>0</th>\n      <td>new york</td>\n      <td>21</td>\n      <td>68</td>\n    </tr>\n    <tr>\n      <th>1</th>\n      <td>chicago</td>\n      <td>14</td>\n      <td>65</td>\n    </tr>\n    <tr>\n      <th>2</th>\n      <td>orlando</td>\n      <td>35</td>\n      <td>75</td>\n    </tr>\n  </tbody>\n</table>\n</div>"
          },
          "metadata": {}
        }
      ]
    },
    {
      "cell_type": "code",
      "source": "df.loc[\"india\"]",
      "metadata": {
        "trusted": true
      },
      "execution_count": 8,
      "outputs": [
        {
          "execution_count": 8,
          "output_type": "execute_result",
          "data": {
            "text/plain": "       city  temperature  humidity\n0    mumbai           32        80\n1     delhi           45        60\n2  banglore           30        78",
            "text/html": "<div>\n<style scoped>\n    .dataframe tbody tr th:only-of-type {\n        vertical-align: middle;\n    }\n\n    .dataframe tbody tr th {\n        vertical-align: top;\n    }\n\n    .dataframe thead th {\n        text-align: right;\n    }\n</style>\n<table border=\"1\" class=\"dataframe\">\n  <thead>\n    <tr style=\"text-align: right;\">\n      <th></th>\n      <th>city</th>\n      <th>temperature</th>\n      <th>humidity</th>\n    </tr>\n  </thead>\n  <tbody>\n    <tr>\n      <th>0</th>\n      <td>mumbai</td>\n      <td>32</td>\n      <td>80</td>\n    </tr>\n    <tr>\n      <th>1</th>\n      <td>delhi</td>\n      <td>45</td>\n      <td>60</td>\n    </tr>\n    <tr>\n      <th>2</th>\n      <td>banglore</td>\n      <td>30</td>\n      <td>78</td>\n    </tr>\n  </tbody>\n</table>\n</div>"
          },
          "metadata": {}
        }
      ]
    },
    {
      "cell_type": "markdown",
      "source": "# Concatenation Using Index\n",
      "metadata": {}
    },
    {
      "cell_type": "code",
      "source": "temperature_df = pd.DataFrame({\n    \"city\": [\"mumbai\",\"delhi\",\"banglore\"],\n    \"temperature\": [32,45,30],\n}, index=[0,1,2])\n\ntemperature_df",
      "metadata": {
        "trusted": true
      },
      "execution_count": 13,
      "outputs": [
        {
          "execution_count": 13,
          "output_type": "execute_result",
          "data": {
            "text/plain": "       city  temperature\n0    mumbai           32\n1     delhi           45\n2  banglore           30",
            "text/html": "<div>\n<style scoped>\n    .dataframe tbody tr th:only-of-type {\n        vertical-align: middle;\n    }\n\n    .dataframe tbody tr th {\n        vertical-align: top;\n    }\n\n    .dataframe thead th {\n        text-align: right;\n    }\n</style>\n<table border=\"1\" class=\"dataframe\">\n  <thead>\n    <tr style=\"text-align: right;\">\n      <th></th>\n      <th>city</th>\n      <th>temperature</th>\n    </tr>\n  </thead>\n  <tbody>\n    <tr>\n      <th>0</th>\n      <td>mumbai</td>\n      <td>32</td>\n    </tr>\n    <tr>\n      <th>1</th>\n      <td>delhi</td>\n      <td>45</td>\n    </tr>\n    <tr>\n      <th>2</th>\n      <td>banglore</td>\n      <td>30</td>\n    </tr>\n  </tbody>\n</table>\n</div>"
          },
          "metadata": {}
        }
      ]
    },
    {
      "cell_type": "code",
      "source": "windspeed_df = pd.DataFrame({\n    \"city\": [\"delhi\",\"mumbai\"],\n    \"windspeed\": [7,12],\n}, index=[1,0])\nwindspeed_df",
      "metadata": {
        "trusted": true
      },
      "execution_count": 14,
      "outputs": [
        {
          "execution_count": 14,
          "output_type": "execute_result",
          "data": {
            "text/plain": "     city  windspeed\n1   delhi          7\n0  mumbai         12",
            "text/html": "<div>\n<style scoped>\n    .dataframe tbody tr th:only-of-type {\n        vertical-align: middle;\n    }\n\n    .dataframe tbody tr th {\n        vertical-align: top;\n    }\n\n    .dataframe thead th {\n        text-align: right;\n    }\n</style>\n<table border=\"1\" class=\"dataframe\">\n  <thead>\n    <tr style=\"text-align: right;\">\n      <th></th>\n      <th>city</th>\n      <th>windspeed</th>\n    </tr>\n  </thead>\n  <tbody>\n    <tr>\n      <th>1</th>\n      <td>delhi</td>\n      <td>7</td>\n    </tr>\n    <tr>\n      <th>0</th>\n      <td>mumbai</td>\n      <td>12</td>\n    </tr>\n  </tbody>\n</table>\n</div>"
          },
          "metadata": {}
        }
      ]
    },
    {
      "cell_type": "code",
      "source": "df = pd.concat([temperature_df,windspeed_df],axis=1)\ndf",
      "metadata": {
        "trusted": true
      },
      "execution_count": 15,
      "outputs": [
        {
          "execution_count": 15,
          "output_type": "execute_result",
          "data": {
            "text/plain": "       city  temperature    city  windspeed\n0    mumbai           32  mumbai       12.0\n1     delhi           45   delhi        7.0\n2  banglore           30     NaN        NaN",
            "text/html": "<div>\n<style scoped>\n    .dataframe tbody tr th:only-of-type {\n        vertical-align: middle;\n    }\n\n    .dataframe tbody tr th {\n        vertical-align: top;\n    }\n\n    .dataframe thead th {\n        text-align: right;\n    }\n</style>\n<table border=\"1\" class=\"dataframe\">\n  <thead>\n    <tr style=\"text-align: right;\">\n      <th></th>\n      <th>city</th>\n      <th>temperature</th>\n      <th>city</th>\n      <th>windspeed</th>\n    </tr>\n  </thead>\n  <tbody>\n    <tr>\n      <th>0</th>\n      <td>mumbai</td>\n      <td>32</td>\n      <td>mumbai</td>\n      <td>12.0</td>\n    </tr>\n    <tr>\n      <th>1</th>\n      <td>delhi</td>\n      <td>45</td>\n      <td>delhi</td>\n      <td>7.0</td>\n    </tr>\n    <tr>\n      <th>2</th>\n      <td>banglore</td>\n      <td>30</td>\n      <td>NaN</td>\n      <td>NaN</td>\n    </tr>\n  </tbody>\n</table>\n</div>"
          },
          "metadata": {}
        }
      ]
    },
    {
      "cell_type": "markdown",
      "source": "# Concatenate dataframe with series\n",
      "metadata": {}
    },
    {
      "cell_type": "code",
      "source": "s = pd.Series([\"Humid\",\"Dry\",\"Rain\"], name=\"event\")\ns\n",
      "metadata": {
        "trusted": true
      },
      "execution_count": 16,
      "outputs": [
        {
          "execution_count": 16,
          "output_type": "execute_result",
          "data": {
            "text/plain": "0    Humid\n1      Dry\n2     Rain\nName: event, dtype: object"
          },
          "metadata": {}
        }
      ]
    },
    {
      "cell_type": "code",
      "source": "df = pd.concat([temperature_df,s],axis=1)\ndf",
      "metadata": {
        "trusted": true
      },
      "execution_count": 17,
      "outputs": [
        {
          "execution_count": 17,
          "output_type": "execute_result",
          "data": {
            "text/plain": "       city  temperature  event\n0    mumbai           32  Humid\n1     delhi           45    Dry\n2  banglore           30   Rain",
            "text/html": "<div>\n<style scoped>\n    .dataframe tbody tr th:only-of-type {\n        vertical-align: middle;\n    }\n\n    .dataframe tbody tr th {\n        vertical-align: top;\n    }\n\n    .dataframe thead th {\n        text-align: right;\n    }\n</style>\n<table border=\"1\" class=\"dataframe\">\n  <thead>\n    <tr style=\"text-align: right;\">\n      <th></th>\n      <th>city</th>\n      <th>temperature</th>\n      <th>event</th>\n    </tr>\n  </thead>\n  <tbody>\n    <tr>\n      <th>0</th>\n      <td>mumbai</td>\n      <td>32</td>\n      <td>Humid</td>\n    </tr>\n    <tr>\n      <th>1</th>\n      <td>delhi</td>\n      <td>45</td>\n      <td>Dry</td>\n    </tr>\n    <tr>\n      <th>2</th>\n      <td>banglore</td>\n      <td>30</td>\n      <td>Rain</td>\n    </tr>\n  </tbody>\n</table>\n</div>"
          },
          "metadata": {}
        }
      ]
    },
    {
      "cell_type": "code",
      "source": "",
      "metadata": {},
      "execution_count": null,
      "outputs": []
    }
  ]
}