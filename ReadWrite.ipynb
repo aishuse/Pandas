{
  "metadata": {
    "language_info": {
      "codemirror_mode": {
        "name": "python",
        "version": 3
      },
      "file_extension": ".py",
      "mimetype": "text/x-python",
      "name": "python",
      "nbconvert_exporter": "python",
      "pygments_lexer": "ipython3",
      "version": "3.8"
    },
    "kernelspec": {
      "name": "python",
      "display_name": "Python (Pyodide)",
      "language": "python"
    }
  },
  "nbformat_minor": 4,
  "nbformat": 4,
  "cells": [
    {
      "cell_type": "code",
      "source": "import pandas as pd",
      "metadata": {
        "trusted": true
      },
      "execution_count": 2,
      "outputs": []
    },
    {
      "cell_type": "code",
      "source": "df = pd.read_csv('stock_data.txt')\ndf",
      "metadata": {
        "trusted": true
      },
      "execution_count": 7,
      "outputs": [
        {
          "execution_count": 7,
          "output_type": "execute_result",
          "data": {
            "text/plain": "  tickers            eps  revenue price         people\n0   GOOGL          27.82       87   845     larry page\n1     WMT           4.61      484    65           n.a.\n2    MSFT             -1       85    64     bill gates\n3    RIL   not available       50  1023  mukesh ambani\n4    TATA            5.6       -1  n.a.     ratan tata",
            "text/html": "<div>\n<style scoped>\n    .dataframe tbody tr th:only-of-type {\n        vertical-align: middle;\n    }\n\n    .dataframe tbody tr th {\n        vertical-align: top;\n    }\n\n    .dataframe thead th {\n        text-align: right;\n    }\n</style>\n<table border=\"1\" class=\"dataframe\">\n  <thead>\n    <tr style=\"text-align: right;\">\n      <th></th>\n      <th>tickers</th>\n      <th>eps</th>\n      <th>revenue</th>\n      <th>price</th>\n      <th>people</th>\n    </tr>\n  </thead>\n  <tbody>\n    <tr>\n      <th>0</th>\n      <td>GOOGL</td>\n      <td>27.82</td>\n      <td>87</td>\n      <td>845</td>\n      <td>larry page</td>\n    </tr>\n    <tr>\n      <th>1</th>\n      <td>WMT</td>\n      <td>4.61</td>\n      <td>484</td>\n      <td>65</td>\n      <td>n.a.</td>\n    </tr>\n    <tr>\n      <th>2</th>\n      <td>MSFT</td>\n      <td>-1</td>\n      <td>85</td>\n      <td>64</td>\n      <td>bill gates</td>\n    </tr>\n    <tr>\n      <th>3</th>\n      <td>RIL</td>\n      <td>not available</td>\n      <td>50</td>\n      <td>1023</td>\n      <td>mukesh ambani</td>\n    </tr>\n    <tr>\n      <th>4</th>\n      <td>TATA</td>\n      <td>5.6</td>\n      <td>-1</td>\n      <td>n.a.</td>\n      <td>ratan tata</td>\n    </tr>\n  </tbody>\n</table>\n</div>"
          },
          "metadata": {}
        }
      ]
    },
    {
      "cell_type": "markdown",
      "source": "# Remove extra header",
      "metadata": {}
    },
    {
      "cell_type": "code",
      "source": "df = pd.read_csv('stock_data.txt',skiprows=1)\ndf",
      "metadata": {
        "trusted": true
      },
      "execution_count": 8,
      "outputs": [
        {
          "execution_count": 8,
          "output_type": "execute_result",
          "data": {
            "text/plain": "  GOOGL          27.82   87   845     larry page\n0   WMT           4.61  484    65           n.a.\n1  MSFT             -1   85    64     bill gates\n2  RIL   not available   50  1023  mukesh ambani\n3  TATA            5.6   -1  n.a.     ratan tata",
            "text/html": "<div>\n<style scoped>\n    .dataframe tbody tr th:only-of-type {\n        vertical-align: middle;\n    }\n\n    .dataframe tbody tr th {\n        vertical-align: top;\n    }\n\n    .dataframe thead th {\n        text-align: right;\n    }\n</style>\n<table border=\"1\" class=\"dataframe\">\n  <thead>\n    <tr style=\"text-align: right;\">\n      <th></th>\n      <th>GOOGL</th>\n      <th>27.82</th>\n      <th>87</th>\n      <th>845</th>\n      <th>larry page</th>\n    </tr>\n  </thead>\n  <tbody>\n    <tr>\n      <th>0</th>\n      <td>WMT</td>\n      <td>4.61</td>\n      <td>484</td>\n      <td>65</td>\n      <td>n.a.</td>\n    </tr>\n    <tr>\n      <th>1</th>\n      <td>MSFT</td>\n      <td>-1</td>\n      <td>85</td>\n      <td>64</td>\n      <td>bill gates</td>\n    </tr>\n    <tr>\n      <th>2</th>\n      <td>RIL</td>\n      <td>not available</td>\n      <td>50</td>\n      <td>1023</td>\n      <td>mukesh ambani</td>\n    </tr>\n    <tr>\n      <th>3</th>\n      <td>TATA</td>\n      <td>5.6</td>\n      <td>-1</td>\n      <td>n.a.</td>\n      <td>ratan tata</td>\n    </tr>\n  </tbody>\n</table>\n</div>"
          },
          "metadata": {}
        }
      ]
    },
    {
      "cell_type": "markdown",
      "source": "# set the header",
      "metadata": {}
    },
    {
      "cell_type": "code",
      "source": "df = pd.read_csv('stock_data.txt',header=2)\ndf",
      "metadata": {
        "trusted": true
      },
      "execution_count": 9,
      "outputs": [
        {
          "execution_count": 9,
          "output_type": "execute_result",
          "data": {
            "text/plain": "    WMT           4.61  484    65           n.a.\n0  MSFT             -1   85    64     bill gates\n1  RIL   not available   50  1023  mukesh ambani\n2  TATA            5.6   -1  n.a.     ratan tata",
            "text/html": "<div>\n<style scoped>\n    .dataframe tbody tr th:only-of-type {\n        vertical-align: middle;\n    }\n\n    .dataframe tbody tr th {\n        vertical-align: top;\n    }\n\n    .dataframe thead th {\n        text-align: right;\n    }\n</style>\n<table border=\"1\" class=\"dataframe\">\n  <thead>\n    <tr style=\"text-align: right;\">\n      <th></th>\n      <th>WMT</th>\n      <th>4.61</th>\n      <th>484</th>\n      <th>65</th>\n      <th>n.a.</th>\n    </tr>\n  </thead>\n  <tbody>\n    <tr>\n      <th>0</th>\n      <td>MSFT</td>\n      <td>-1</td>\n      <td>85</td>\n      <td>64</td>\n      <td>bill gates</td>\n    </tr>\n    <tr>\n      <th>1</th>\n      <td>RIL</td>\n      <td>not available</td>\n      <td>50</td>\n      <td>1023</td>\n      <td>mukesh ambani</td>\n    </tr>\n    <tr>\n      <th>2</th>\n      <td>TATA</td>\n      <td>5.6</td>\n      <td>-1</td>\n      <td>n.a.</td>\n      <td>ratan tata</td>\n    </tr>\n  </tbody>\n</table>\n</div>"
          },
          "metadata": {}
        }
      ]
    },
    {
      "cell_type": "markdown",
      "source": "# If you do not have a header and",
      "metadata": {}
    },
    {
      "cell_type": "code",
      "source": "df = pd.read_csv('stock_data.txt',header=None)\ndf",
      "metadata": {
        "trusted": true
      },
      "execution_count": 10,
      "outputs": [
        {
          "execution_count": 10,
          "output_type": "execute_result",
          "data": {
            "text/plain": "         0              1        2      3              4\n0  tickers            eps  revenue  price         people\n1    GOOGL          27.82       87    845     larry page\n2      WMT           4.61      484     65           n.a.\n3     MSFT             -1       85     64     bill gates\n4     RIL   not available       50   1023  mukesh ambani\n5     TATA            5.6       -1   n.a.     ratan tata",
            "text/html": "<div>\n<style scoped>\n    .dataframe tbody tr th:only-of-type {\n        vertical-align: middle;\n    }\n\n    .dataframe tbody tr th {\n        vertical-align: top;\n    }\n\n    .dataframe thead th {\n        text-align: right;\n    }\n</style>\n<table border=\"1\" class=\"dataframe\">\n  <thead>\n    <tr style=\"text-align: right;\">\n      <th></th>\n      <th>0</th>\n      <th>1</th>\n      <th>2</th>\n      <th>3</th>\n      <th>4</th>\n    </tr>\n  </thead>\n  <tbody>\n    <tr>\n      <th>0</th>\n      <td>tickers</td>\n      <td>eps</td>\n      <td>revenue</td>\n      <td>price</td>\n      <td>people</td>\n    </tr>\n    <tr>\n      <th>1</th>\n      <td>GOOGL</td>\n      <td>27.82</td>\n      <td>87</td>\n      <td>845</td>\n      <td>larry page</td>\n    </tr>\n    <tr>\n      <th>2</th>\n      <td>WMT</td>\n      <td>4.61</td>\n      <td>484</td>\n      <td>65</td>\n      <td>n.a.</td>\n    </tr>\n    <tr>\n      <th>3</th>\n      <td>MSFT</td>\n      <td>-1</td>\n      <td>85</td>\n      <td>64</td>\n      <td>bill gates</td>\n    </tr>\n    <tr>\n      <th>4</th>\n      <td>RIL</td>\n      <td>not available</td>\n      <td>50</td>\n      <td>1023</td>\n      <td>mukesh ambani</td>\n    </tr>\n    <tr>\n      <th>5</th>\n      <td>TATA</td>\n      <td>5.6</td>\n      <td>-1</td>\n      <td>n.a.</td>\n      <td>ratan tata</td>\n    </tr>\n  </tbody>\n</table>\n</div>"
          },
          "metadata": {}
        }
      ]
    },
    {
      "cell_type": "markdown",
      "source": "# If header is missing,add headers",
      "metadata": {}
    },
    {
      "cell_type": "code",
      "source": "df = pd.read_csv(\"stock_data.txt\", header=None, names = [\"ticker\",\"eps\",\"revenue\",\"people\"])\ndf",
      "metadata": {
        "trusted": true
      },
      "execution_count": 14,
      "outputs": [
        {
          "execution_count": 14,
          "output_type": "execute_result",
          "data": {
            "text/plain": "                ticker      eps revenue         people\ntickers            eps  revenue   price         people\nGOOGL            27.82       87     845     larry page\nWMT               4.61      484      65           n.a.\nMSFT                -1       85      64     bill gates\nRIL      not available       50    1023  mukesh ambani\nTATA               5.6       -1    n.a.     ratan tata",
            "text/html": "<div>\n<style scoped>\n    .dataframe tbody tr th:only-of-type {\n        vertical-align: middle;\n    }\n\n    .dataframe tbody tr th {\n        vertical-align: top;\n    }\n\n    .dataframe thead th {\n        text-align: right;\n    }\n</style>\n<table border=\"1\" class=\"dataframe\">\n  <thead>\n    <tr style=\"text-align: right;\">\n      <th></th>\n      <th>ticker</th>\n      <th>eps</th>\n      <th>revenue</th>\n      <th>people</th>\n    </tr>\n  </thead>\n  <tbody>\n    <tr>\n      <th>tickers</th>\n      <td>eps</td>\n      <td>revenue</td>\n      <td>price</td>\n      <td>people</td>\n    </tr>\n    <tr>\n      <th>GOOGL</th>\n      <td>27.82</td>\n      <td>87</td>\n      <td>845</td>\n      <td>larry page</td>\n    </tr>\n    <tr>\n      <th>WMT</th>\n      <td>4.61</td>\n      <td>484</td>\n      <td>65</td>\n      <td>n.a.</td>\n    </tr>\n    <tr>\n      <th>MSFT</th>\n      <td>-1</td>\n      <td>85</td>\n      <td>64</td>\n      <td>bill gates</td>\n    </tr>\n    <tr>\n      <th>RIL</th>\n      <td>not available</td>\n      <td>50</td>\n      <td>1023</td>\n      <td>mukesh ambani</td>\n    </tr>\n    <tr>\n      <th>TATA</th>\n      <td>5.6</td>\n      <td>-1</td>\n      <td>n.a.</td>\n      <td>ratan tata</td>\n    </tr>\n  </tbody>\n</table>\n</div>"
          },
          "metadata": {}
        }
      ]
    },
    {
      "cell_type": "markdown",
      "source": "# Read only limited rows",
      "metadata": {}
    },
    {
      "cell_type": "code",
      "source": "df = pd.read_csv(\"stock_data.txt\",  nrows=2)\ndf",
      "metadata": {
        "trusted": true
      },
      "execution_count": 15,
      "outputs": [
        {
          "execution_count": 15,
          "output_type": "execute_result",
          "data": {
            "text/plain": "  tickers    eps  revenue  price      people\n0   GOOGL  27.82       87    845  larry page\n1     WMT   4.61      484     65        n.a.",
            "text/html": "<div>\n<style scoped>\n    .dataframe tbody tr th:only-of-type {\n        vertical-align: middle;\n    }\n\n    .dataframe tbody tr th {\n        vertical-align: top;\n    }\n\n    .dataframe thead th {\n        text-align: right;\n    }\n</style>\n<table border=\"1\" class=\"dataframe\">\n  <thead>\n    <tr style=\"text-align: right;\">\n      <th></th>\n      <th>tickers</th>\n      <th>eps</th>\n      <th>revenue</th>\n      <th>price</th>\n      <th>people</th>\n    </tr>\n  </thead>\n  <tbody>\n    <tr>\n      <th>0</th>\n      <td>GOOGL</td>\n      <td>27.82</td>\n      <td>87</td>\n      <td>845</td>\n      <td>larry page</td>\n    </tr>\n    <tr>\n      <th>1</th>\n      <td>WMT</td>\n      <td>4.61</td>\n      <td>484</td>\n      <td>65</td>\n      <td>n.a.</td>\n    </tr>\n  </tbody>\n</table>\n</div>"
          },
          "metadata": {}
        }
      ]
    },
    {
      "cell_type": "markdown",
      "source": "# Replace n.a , not available with NaN",
      "metadata": {}
    },
    {
      "cell_type": "code",
      "source": "df = pd.read_csv(\"stock_data.txt\", na_values=[\"n.a.\", \"not available\"])\ndf",
      "metadata": {
        "trusted": true
      },
      "execution_count": 17,
      "outputs": [
        {
          "execution_count": 17,
          "output_type": "execute_result",
          "data": {
            "text/plain": "  tickers    eps  revenue   price         people\n0   GOOGL  27.82       87   845.0     larry page\n1     WMT   4.61      484    65.0            NaN\n2    MSFT  -1.00       85    64.0     bill gates\n3    RIL     NaN       50  1023.0  mukesh ambani\n4    TATA   5.60       -1     NaN     ratan tata",
            "text/html": "<div>\n<style scoped>\n    .dataframe tbody tr th:only-of-type {\n        vertical-align: middle;\n    }\n\n    .dataframe tbody tr th {\n        vertical-align: top;\n    }\n\n    .dataframe thead th {\n        text-align: right;\n    }\n</style>\n<table border=\"1\" class=\"dataframe\">\n  <thead>\n    <tr style=\"text-align: right;\">\n      <th></th>\n      <th>tickers</th>\n      <th>eps</th>\n      <th>revenue</th>\n      <th>price</th>\n      <th>people</th>\n    </tr>\n  </thead>\n  <tbody>\n    <tr>\n      <th>0</th>\n      <td>GOOGL</td>\n      <td>27.82</td>\n      <td>87</td>\n      <td>845.0</td>\n      <td>larry page</td>\n    </tr>\n    <tr>\n      <th>1</th>\n      <td>WMT</td>\n      <td>4.61</td>\n      <td>484</td>\n      <td>65.0</td>\n      <td>NaN</td>\n    </tr>\n    <tr>\n      <th>2</th>\n      <td>MSFT</td>\n      <td>-1.00</td>\n      <td>85</td>\n      <td>64.0</td>\n      <td>bill gates</td>\n    </tr>\n    <tr>\n      <th>3</th>\n      <td>RIL</td>\n      <td>NaN</td>\n      <td>50</td>\n      <td>1023.0</td>\n      <td>mukesh ambani</td>\n    </tr>\n    <tr>\n      <th>4</th>\n      <td>TATA</td>\n      <td>5.60</td>\n      <td>-1</td>\n      <td>NaN</td>\n      <td>ratan tata</td>\n    </tr>\n  </tbody>\n</table>\n</div>"
          },
          "metadata": {}
        }
      ]
    },
    {
      "cell_type": "code",
      "source": "# Replace -1 in revenue only with NaN..( do not replace -1 in eps )",
      "metadata": {},
      "execution_count": null,
      "outputs": []
    },
    {
      "cell_type": "code",
      "source": "df = pd.read_csv(\"stock_data.txt\",  na_values= {\n        'eps': ['not available'],\n        'revenue': [-1],\n        'people': ['not available','n.a.']\n    })\ndf",
      "metadata": {
        "trusted": true
      },
      "execution_count": 18,
      "outputs": [
        {
          "execution_count": 18,
          "output_type": "execute_result",
          "data": {
            "text/plain": "  tickers    eps  revenue price         people\n0   GOOGL  27.82     87.0   845     larry page\n1     WMT   4.61    484.0    65            NaN\n2    MSFT  -1.00     85.0    64     bill gates\n3    RIL     NaN     50.0  1023  mukesh ambani\n4    TATA   5.60      NaN  n.a.     ratan tata",
            "text/html": "<div>\n<style scoped>\n    .dataframe tbody tr th:only-of-type {\n        vertical-align: middle;\n    }\n\n    .dataframe tbody tr th {\n        vertical-align: top;\n    }\n\n    .dataframe thead th {\n        text-align: right;\n    }\n</style>\n<table border=\"1\" class=\"dataframe\">\n  <thead>\n    <tr style=\"text-align: right;\">\n      <th></th>\n      <th>tickers</th>\n      <th>eps</th>\n      <th>revenue</th>\n      <th>price</th>\n      <th>people</th>\n    </tr>\n  </thead>\n  <tbody>\n    <tr>\n      <th>0</th>\n      <td>GOOGL</td>\n      <td>27.82</td>\n      <td>87.0</td>\n      <td>845</td>\n      <td>larry page</td>\n    </tr>\n    <tr>\n      <th>1</th>\n      <td>WMT</td>\n      <td>4.61</td>\n      <td>484.0</td>\n      <td>65</td>\n      <td>NaN</td>\n    </tr>\n    <tr>\n      <th>2</th>\n      <td>MSFT</td>\n      <td>-1.00</td>\n      <td>85.0</td>\n      <td>64</td>\n      <td>bill gates</td>\n    </tr>\n    <tr>\n      <th>3</th>\n      <td>RIL</td>\n      <td>NaN</td>\n      <td>50.0</td>\n      <td>1023</td>\n      <td>mukesh ambani</td>\n    </tr>\n    <tr>\n      <th>4</th>\n      <td>TATA</td>\n      <td>5.60</td>\n      <td>NaN</td>\n      <td>n.a.</td>\n      <td>ratan tata</td>\n    </tr>\n  </tbody>\n</table>\n</div>"
          },
          "metadata": {}
        }
      ]
    },
    {
      "cell_type": "markdown",
      "source": "# Write to csv",
      "metadata": {}
    },
    {
      "cell_type": "code",
      "source": "df.to_csv(\"new.csv\", index=False)\n",
      "metadata": {
        "trusted": true
      },
      "execution_count": 19,
      "outputs": []
    },
    {
      "cell_type": "code",
      "source": "df.columns",
      "metadata": {
        "trusted": true
      },
      "execution_count": 20,
      "outputs": [
        {
          "execution_count": 20,
          "output_type": "execute_result",
          "data": {
            "text/plain": "Index(['tickers', 'eps', 'revenue', 'price', 'people'], dtype='object')"
          },
          "metadata": {}
        }
      ]
    },
    {
      "cell_type": "markdown",
      "source": "# Write only few columns",
      "metadata": {}
    },
    {
      "cell_type": "code",
      "source": "df.to_csv(\"scnd.csv\", index=False, columns=[\"tickers\",\"price\"])\n",
      "metadata": {
        "trusted": true
      },
      "execution_count": 21,
      "outputs": []
    },
    {
      "cell_type": "code",
      "source": "",
      "metadata": {},
      "execution_count": null,
      "outputs": []
    },
    {
      "cell_type": "code",
      "source": "",
      "metadata": {},
      "execution_count": null,
      "outputs": []
    },
    {
      "cell_type": "code",
      "source": "",
      "metadata": {},
      "execution_count": null,
      "outputs": []
    },
    {
      "cell_type": "code",
      "source": "",
      "metadata": {},
      "execution_count": null,
      "outputs": []
    },
    {
      "cell_type": "code",
      "source": "",
      "metadata": {},
      "execution_count": null,
      "outputs": []
    },
    {
      "cell_type": "code",
      "source": "",
      "metadata": {},
      "execution_count": null,
      "outputs": []
    },
    {
      "cell_type": "code",
      "source": "",
      "metadata": {},
      "execution_count": null,
      "outputs": []
    }
  ]
}