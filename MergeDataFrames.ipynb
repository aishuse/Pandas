{
  "metadata": {
    "language_info": {
      "codemirror_mode": {
        "name": "python",
        "version": 3
      },
      "file_extension": ".py",
      "mimetype": "text/x-python",
      "name": "python",
      "nbconvert_exporter": "python",
      "pygments_lexer": "ipython3",
      "version": "3.8"
    },
    "kernelspec": {
      "name": "python",
      "display_name": "Python (Pyodide)",
      "language": "python"
    }
  },
  "nbformat_minor": 4,
  "nbformat": 4,
  "cells": [
    {
      "cell_type": "markdown",
      "source": "# Basic Merge Using a Dataframe Column\n",
      "metadata": {
        "tags": []
      }
    },
    {
      "cell_type": "code",
      "source": "import pandas as pd\ndf1 = pd.DataFrame({\n    \"city\": [\"new york\",\"chicago\",\"orlando\"],\n    \"temperature\": [21,14,35],\n})\ndf1",
      "metadata": {
        "trusted": true
      },
      "execution_count": 1,
      "outputs": [
        {
          "execution_count": 1,
          "output_type": "execute_result",
          "data": {
            "text/plain": "       city  temperature\n0  new york           21\n1   chicago           14\n2   orlando           35",
            "text/html": "<div>\n<style scoped>\n    .dataframe tbody tr th:only-of-type {\n        vertical-align: middle;\n    }\n\n    .dataframe tbody tr th {\n        vertical-align: top;\n    }\n\n    .dataframe thead th {\n        text-align: right;\n    }\n</style>\n<table border=\"1\" class=\"dataframe\">\n  <thead>\n    <tr style=\"text-align: right;\">\n      <th></th>\n      <th>city</th>\n      <th>temperature</th>\n    </tr>\n  </thead>\n  <tbody>\n    <tr>\n      <th>0</th>\n      <td>new york</td>\n      <td>21</td>\n    </tr>\n    <tr>\n      <th>1</th>\n      <td>chicago</td>\n      <td>14</td>\n    </tr>\n    <tr>\n      <th>2</th>\n      <td>orlando</td>\n      <td>35</td>\n    </tr>\n  </tbody>\n</table>\n</div>"
          },
          "metadata": {}
        }
      ]
    },
    {
      "cell_type": "code",
      "source": "df2 = pd.DataFrame({\n    \"city\": [\"chicago\",\"new york\",\"orlando\"],\n    \"humidity\": [65,68,75],\n})\ndf2",
      "metadata": {
        "trusted": true
      },
      "execution_count": 2,
      "outputs": [
        {
          "execution_count": 2,
          "output_type": "execute_result",
          "data": {
            "text/plain": "       city  humidity\n0   chicago        65\n1  new york        68\n2   orlando        75",
            "text/html": "<div>\n<style scoped>\n    .dataframe tbody tr th:only-of-type {\n        vertical-align: middle;\n    }\n\n    .dataframe tbody tr th {\n        vertical-align: top;\n    }\n\n    .dataframe thead th {\n        text-align: right;\n    }\n</style>\n<table border=\"1\" class=\"dataframe\">\n  <thead>\n    <tr style=\"text-align: right;\">\n      <th></th>\n      <th>city</th>\n      <th>humidity</th>\n    </tr>\n  </thead>\n  <tbody>\n    <tr>\n      <th>0</th>\n      <td>chicago</td>\n      <td>65</td>\n    </tr>\n    <tr>\n      <th>1</th>\n      <td>new york</td>\n      <td>68</td>\n    </tr>\n    <tr>\n      <th>2</th>\n      <td>orlando</td>\n      <td>75</td>\n    </tr>\n  </tbody>\n</table>\n</div>"
          },
          "metadata": {}
        }
      ]
    },
    {
      "cell_type": "code",
      "source": "df3 = pd.merge(df1, df2, on=\"city\")\ndf3",
      "metadata": {
        "trusted": true
      },
      "execution_count": 8,
      "outputs": [
        {
          "execution_count": 8,
          "output_type": "execute_result",
          "data": {
            "text/plain": "       city  temperature  humidity\n0  new york           21        68\n1   chicago           14        65\n2   orlando           35        75",
            "text/html": "<div>\n<style scoped>\n    .dataframe tbody tr th:only-of-type {\n        vertical-align: middle;\n    }\n\n    .dataframe tbody tr th {\n        vertical-align: top;\n    }\n\n    .dataframe thead th {\n        text-align: right;\n    }\n</style>\n<table border=\"1\" class=\"dataframe\">\n  <thead>\n    <tr style=\"text-align: right;\">\n      <th></th>\n      <th>city</th>\n      <th>temperature</th>\n      <th>humidity</th>\n    </tr>\n  </thead>\n  <tbody>\n    <tr>\n      <th>0</th>\n      <td>new york</td>\n      <td>21</td>\n      <td>68</td>\n    </tr>\n    <tr>\n      <th>1</th>\n      <td>chicago</td>\n      <td>14</td>\n      <td>65</td>\n    </tr>\n    <tr>\n      <th>2</th>\n      <td>orlando</td>\n      <td>35</td>\n      <td>75</td>\n    </tr>\n  </tbody>\n</table>\n</div>"
          },
          "metadata": {}
        }
      ]
    },
    {
      "cell_type": "markdown",
      "source": "# Type Of DataBase Joins\n",
      "metadata": {}
    },
    {
      "cell_type": "code",
      "source": "# import image module\nfrom IPython.display import Image\n\n# get the image\nImage(url=\"https://raw.githubusercontent.com/codebasics/py/master/pandas/9_merge/db_joins.jpg\", width=300, height=300)\n",
      "metadata": {
        "trusted": true
      },
      "execution_count": 9,
      "outputs": [
        {
          "execution_count": 9,
          "output_type": "execute_result",
          "data": {
            "text/html": "<img src=\"https://raw.githubusercontent.com/codebasics/py/master/pandas/9_merge/db_joins.jpg\" width=\"300\" height=\"300\"/>",
            "text/plain": "<IPython.core.display.Image object>"
          },
          "metadata": {}
        }
      ]
    },
    {
      "cell_type": "code",
      "source": "df1 = pd.DataFrame({\n    \"city\": [\"new york\",\"chicago\",\"orlando\", \"baltimore\"],\n    \"temperature\": [21,14,35, 38],\n})\ndf1",
      "metadata": {
        "trusted": true
      },
      "execution_count": 10,
      "outputs": [
        {
          "execution_count": 10,
          "output_type": "execute_result",
          "data": {
            "text/plain": "        city  temperature\n0   new york           21\n1    chicago           14\n2    orlando           35\n3  baltimore           38",
            "text/html": "<div>\n<style scoped>\n    .dataframe tbody tr th:only-of-type {\n        vertical-align: middle;\n    }\n\n    .dataframe tbody tr th {\n        vertical-align: top;\n    }\n\n    .dataframe thead th {\n        text-align: right;\n    }\n</style>\n<table border=\"1\" class=\"dataframe\">\n  <thead>\n    <tr style=\"text-align: right;\">\n      <th></th>\n      <th>city</th>\n      <th>temperature</th>\n    </tr>\n  </thead>\n  <tbody>\n    <tr>\n      <th>0</th>\n      <td>new york</td>\n      <td>21</td>\n    </tr>\n    <tr>\n      <th>1</th>\n      <td>chicago</td>\n      <td>14</td>\n    </tr>\n    <tr>\n      <th>2</th>\n      <td>orlando</td>\n      <td>35</td>\n    </tr>\n    <tr>\n      <th>3</th>\n      <td>baltimore</td>\n      <td>38</td>\n    </tr>\n  </tbody>\n</table>\n</div>"
          },
          "metadata": {}
        }
      ]
    },
    {
      "cell_type": "code",
      "source": "df2 = pd.DataFrame({\n    \"city\": [\"chicago\",\"new york\",\"san diego\"],\n    \"humidity\": [65,68,71],\n})\ndf2",
      "metadata": {
        "trusted": true
      },
      "execution_count": 11,
      "outputs": [
        {
          "execution_count": 11,
          "output_type": "execute_result",
          "data": {
            "text/plain": "        city  humidity\n0    chicago        65\n1   new york        68\n2  san diego        71",
            "text/html": "<div>\n<style scoped>\n    .dataframe tbody tr th:only-of-type {\n        vertical-align: middle;\n    }\n\n    .dataframe tbody tr th {\n        vertical-align: top;\n    }\n\n    .dataframe thead th {\n        text-align: right;\n    }\n</style>\n<table border=\"1\" class=\"dataframe\">\n  <thead>\n    <tr style=\"text-align: right;\">\n      <th></th>\n      <th>city</th>\n      <th>humidity</th>\n    </tr>\n  </thead>\n  <tbody>\n    <tr>\n      <th>0</th>\n      <td>chicago</td>\n      <td>65</td>\n    </tr>\n    <tr>\n      <th>1</th>\n      <td>new york</td>\n      <td>68</td>\n    </tr>\n    <tr>\n      <th>2</th>\n      <td>san diego</td>\n      <td>71</td>\n    </tr>\n  </tbody>\n</table>\n</div>"
          },
          "metadata": {}
        }
      ]
    },
    {
      "cell_type": "code",
      "source": "df3=pd.merge(df1,df2,on=\"city\",how=\"inner\")\ndf3",
      "metadata": {
        "trusted": true
      },
      "execution_count": 12,
      "outputs": [
        {
          "execution_count": 12,
          "output_type": "execute_result",
          "data": {
            "text/plain": "       city  temperature  humidity\n0  new york           21        68\n1   chicago           14        65",
            "text/html": "<div>\n<style scoped>\n    .dataframe tbody tr th:only-of-type {\n        vertical-align: middle;\n    }\n\n    .dataframe tbody tr th {\n        vertical-align: top;\n    }\n\n    .dataframe thead th {\n        text-align: right;\n    }\n</style>\n<table border=\"1\" class=\"dataframe\">\n  <thead>\n    <tr style=\"text-align: right;\">\n      <th></th>\n      <th>city</th>\n      <th>temperature</th>\n      <th>humidity</th>\n    </tr>\n  </thead>\n  <tbody>\n    <tr>\n      <th>0</th>\n      <td>new york</td>\n      <td>21</td>\n      <td>68</td>\n    </tr>\n    <tr>\n      <th>1</th>\n      <td>chicago</td>\n      <td>14</td>\n      <td>65</td>\n    </tr>\n  </tbody>\n</table>\n</div>"
          },
          "metadata": {}
        }
      ]
    },
    {
      "cell_type": "code",
      "source": "df3=pd.merge(df1,df2,on=\"city\",how=\"outer\")\ndf3",
      "metadata": {
        "trusted": true
      },
      "execution_count": 13,
      "outputs": [
        {
          "execution_count": 13,
          "output_type": "execute_result",
          "data": {
            "text/plain": "        city  temperature  humidity\n0   new york         21.0      68.0\n1    chicago         14.0      65.0\n2    orlando         35.0       NaN\n3  baltimore         38.0       NaN\n4  san diego          NaN      71.0",
            "text/html": "<div>\n<style scoped>\n    .dataframe tbody tr th:only-of-type {\n        vertical-align: middle;\n    }\n\n    .dataframe tbody tr th {\n        vertical-align: top;\n    }\n\n    .dataframe thead th {\n        text-align: right;\n    }\n</style>\n<table border=\"1\" class=\"dataframe\">\n  <thead>\n    <tr style=\"text-align: right;\">\n      <th></th>\n      <th>city</th>\n      <th>temperature</th>\n      <th>humidity</th>\n    </tr>\n  </thead>\n  <tbody>\n    <tr>\n      <th>0</th>\n      <td>new york</td>\n      <td>21.0</td>\n      <td>68.0</td>\n    </tr>\n    <tr>\n      <th>1</th>\n      <td>chicago</td>\n      <td>14.0</td>\n      <td>65.0</td>\n    </tr>\n    <tr>\n      <th>2</th>\n      <td>orlando</td>\n      <td>35.0</td>\n      <td>NaN</td>\n    </tr>\n    <tr>\n      <th>3</th>\n      <td>baltimore</td>\n      <td>38.0</td>\n      <td>NaN</td>\n    </tr>\n    <tr>\n      <th>4</th>\n      <td>san diego</td>\n      <td>NaN</td>\n      <td>71.0</td>\n    </tr>\n  </tbody>\n</table>\n</div>"
          },
          "metadata": {}
        }
      ]
    },
    {
      "cell_type": "code",
      "source": "df3=pd.merge(df1,df2,on=\"city\",how=\"left\")\ndf3",
      "metadata": {
        "trusted": true
      },
      "execution_count": 15,
      "outputs": [
        {
          "execution_count": 15,
          "output_type": "execute_result",
          "data": {
            "text/plain": "        city  temperature  humidity\n0   new york           21      68.0\n1    chicago           14      65.0\n2    orlando           35       NaN\n3  baltimore           38       NaN",
            "text/html": "<div>\n<style scoped>\n    .dataframe tbody tr th:only-of-type {\n        vertical-align: middle;\n    }\n\n    .dataframe tbody tr th {\n        vertical-align: top;\n    }\n\n    .dataframe thead th {\n        text-align: right;\n    }\n</style>\n<table border=\"1\" class=\"dataframe\">\n  <thead>\n    <tr style=\"text-align: right;\">\n      <th></th>\n      <th>city</th>\n      <th>temperature</th>\n      <th>humidity</th>\n    </tr>\n  </thead>\n  <tbody>\n    <tr>\n      <th>0</th>\n      <td>new york</td>\n      <td>21</td>\n      <td>68.0</td>\n    </tr>\n    <tr>\n      <th>1</th>\n      <td>chicago</td>\n      <td>14</td>\n      <td>65.0</td>\n    </tr>\n    <tr>\n      <th>2</th>\n      <td>orlando</td>\n      <td>35</td>\n      <td>NaN</td>\n    </tr>\n    <tr>\n      <th>3</th>\n      <td>baltimore</td>\n      <td>38</td>\n      <td>NaN</td>\n    </tr>\n  </tbody>\n</table>\n</div>"
          },
          "metadata": {}
        }
      ]
    },
    {
      "cell_type": "code",
      "source": "df3=pd.merge(df1,df2,on=\"city\",how=\"right\")\ndf3",
      "metadata": {
        "trusted": true
      },
      "execution_count": 14,
      "outputs": [
        {
          "execution_count": 14,
          "output_type": "execute_result",
          "data": {
            "text/plain": "        city  temperature  humidity\n0    chicago         14.0        65\n1   new york         21.0        68\n2  san diego          NaN        71",
            "text/html": "<div>\n<style scoped>\n    .dataframe tbody tr th:only-of-type {\n        vertical-align: middle;\n    }\n\n    .dataframe tbody tr th {\n        vertical-align: top;\n    }\n\n    .dataframe thead th {\n        text-align: right;\n    }\n</style>\n<table border=\"1\" class=\"dataframe\">\n  <thead>\n    <tr style=\"text-align: right;\">\n      <th></th>\n      <th>city</th>\n      <th>temperature</th>\n      <th>humidity</th>\n    </tr>\n  </thead>\n  <tbody>\n    <tr>\n      <th>0</th>\n      <td>chicago</td>\n      <td>14.0</td>\n      <td>65</td>\n    </tr>\n    <tr>\n      <th>1</th>\n      <td>new york</td>\n      <td>21.0</td>\n      <td>68</td>\n    </tr>\n    <tr>\n      <th>2</th>\n      <td>san diego</td>\n      <td>NaN</td>\n      <td>71</td>\n    </tr>\n  </tbody>\n</table>\n</div>"
          },
          "metadata": {}
        }
      ]
    },
    {
      "cell_type": "markdown",
      "source": "# indicator flag\n",
      "metadata": {}
    },
    {
      "cell_type": "code",
      "source": "df3=pd.merge(df1,df2,on=\"city\",how=\"outer\",indicator=True)\ndf3",
      "metadata": {
        "trusted": true
      },
      "execution_count": 16,
      "outputs": [
        {
          "execution_count": 16,
          "output_type": "execute_result",
          "data": {
            "text/plain": "        city  temperature  humidity      _merge\n0   new york         21.0      68.0        both\n1    chicago         14.0      65.0        both\n2    orlando         35.0       NaN   left_only\n3  baltimore         38.0       NaN   left_only\n4  san diego          NaN      71.0  right_only",
            "text/html": "<div>\n<style scoped>\n    .dataframe tbody tr th:only-of-type {\n        vertical-align: middle;\n    }\n\n    .dataframe tbody tr th {\n        vertical-align: top;\n    }\n\n    .dataframe thead th {\n        text-align: right;\n    }\n</style>\n<table border=\"1\" class=\"dataframe\">\n  <thead>\n    <tr style=\"text-align: right;\">\n      <th></th>\n      <th>city</th>\n      <th>temperature</th>\n      <th>humidity</th>\n      <th>_merge</th>\n    </tr>\n  </thead>\n  <tbody>\n    <tr>\n      <th>0</th>\n      <td>new york</td>\n      <td>21.0</td>\n      <td>68.0</td>\n      <td>both</td>\n    </tr>\n    <tr>\n      <th>1</th>\n      <td>chicago</td>\n      <td>14.0</td>\n      <td>65.0</td>\n      <td>both</td>\n    </tr>\n    <tr>\n      <th>2</th>\n      <td>orlando</td>\n      <td>35.0</td>\n      <td>NaN</td>\n      <td>left_only</td>\n    </tr>\n    <tr>\n      <th>3</th>\n      <td>baltimore</td>\n      <td>38.0</td>\n      <td>NaN</td>\n      <td>left_only</td>\n    </tr>\n    <tr>\n      <th>4</th>\n      <td>san diego</td>\n      <td>NaN</td>\n      <td>71.0</td>\n      <td>right_only</td>\n    </tr>\n  </tbody>\n</table>\n</div>"
          },
          "metadata": {}
        }
      ]
    },
    {
      "cell_type": "markdown",
      "source": "# suffixes\n",
      "metadata": {}
    },
    {
      "cell_type": "code",
      "source": "df1 = pd.DataFrame({\n    \"city\": [\"new york\",\"chicago\",\"orlando\", \"baltimore\"],\n    \"temperature\": [21,14,35,38],\n    \"humidity\": [65,68,71, 75]\n})\ndf1",
      "metadata": {
        "trusted": true
      },
      "execution_count": 17,
      "outputs": [
        {
          "execution_count": 17,
          "output_type": "execute_result",
          "data": {
            "text/plain": "        city  temperature  humidity\n0   new york           21        65\n1    chicago           14        68\n2    orlando           35        71\n3  baltimore           38        75",
            "text/html": "<div>\n<style scoped>\n    .dataframe tbody tr th:only-of-type {\n        vertical-align: middle;\n    }\n\n    .dataframe tbody tr th {\n        vertical-align: top;\n    }\n\n    .dataframe thead th {\n        text-align: right;\n    }\n</style>\n<table border=\"1\" class=\"dataframe\">\n  <thead>\n    <tr style=\"text-align: right;\">\n      <th></th>\n      <th>city</th>\n      <th>temperature</th>\n      <th>humidity</th>\n    </tr>\n  </thead>\n  <tbody>\n    <tr>\n      <th>0</th>\n      <td>new york</td>\n      <td>21</td>\n      <td>65</td>\n    </tr>\n    <tr>\n      <th>1</th>\n      <td>chicago</td>\n      <td>14</td>\n      <td>68</td>\n    </tr>\n    <tr>\n      <th>2</th>\n      <td>orlando</td>\n      <td>35</td>\n      <td>71</td>\n    </tr>\n    <tr>\n      <th>3</th>\n      <td>baltimore</td>\n      <td>38</td>\n      <td>75</td>\n    </tr>\n  </tbody>\n</table>\n</div>"
          },
          "metadata": {}
        }
      ]
    },
    {
      "cell_type": "code",
      "source": "df2 = pd.DataFrame({\n    \"city\": [\"chicago\",\"new york\",\"san diego\"],\n    \"temperature\": [21,14,35],\n    \"humidity\": [65,68,71]\n})\ndf2",
      "metadata": {
        "trusted": true
      },
      "execution_count": 18,
      "outputs": [
        {
          "execution_count": 18,
          "output_type": "execute_result",
          "data": {
            "text/plain": "        city  temperature  humidity\n0    chicago           21        65\n1   new york           14        68\n2  san diego           35        71",
            "text/html": "<div>\n<style scoped>\n    .dataframe tbody tr th:only-of-type {\n        vertical-align: middle;\n    }\n\n    .dataframe tbody tr th {\n        vertical-align: top;\n    }\n\n    .dataframe thead th {\n        text-align: right;\n    }\n</style>\n<table border=\"1\" class=\"dataframe\">\n  <thead>\n    <tr style=\"text-align: right;\">\n      <th></th>\n      <th>city</th>\n      <th>temperature</th>\n      <th>humidity</th>\n    </tr>\n  </thead>\n  <tbody>\n    <tr>\n      <th>0</th>\n      <td>chicago</td>\n      <td>21</td>\n      <td>65</td>\n    </tr>\n    <tr>\n      <th>1</th>\n      <td>new york</td>\n      <td>14</td>\n      <td>68</td>\n    </tr>\n    <tr>\n      <th>2</th>\n      <td>san diego</td>\n      <td>35</td>\n      <td>71</td>\n    </tr>\n  </tbody>\n</table>\n</div>"
          },
          "metadata": {}
        }
      ]
    },
    {
      "cell_type": "code",
      "source": "df3= pd.merge(df1,df2,on=\"city\")\ndf3",
      "metadata": {
        "trusted": true
      },
      "execution_count": 21,
      "outputs": [
        {
          "execution_count": 21,
          "output_type": "execute_result",
          "data": {
            "text/plain": "       city  temperature_x  humidity_x  temperature_y  humidity_y\n0  new york             21          65             14          68\n1   chicago             14          68             21          65",
            "text/html": "<div>\n<style scoped>\n    .dataframe tbody tr th:only-of-type {\n        vertical-align: middle;\n    }\n\n    .dataframe tbody tr th {\n        vertical-align: top;\n    }\n\n    .dataframe thead th {\n        text-align: right;\n    }\n</style>\n<table border=\"1\" class=\"dataframe\">\n  <thead>\n    <tr style=\"text-align: right;\">\n      <th></th>\n      <th>city</th>\n      <th>temperature_x</th>\n      <th>humidity_x</th>\n      <th>temperature_y</th>\n      <th>humidity_y</th>\n    </tr>\n  </thead>\n  <tbody>\n    <tr>\n      <th>0</th>\n      <td>new york</td>\n      <td>21</td>\n      <td>65</td>\n      <td>14</td>\n      <td>68</td>\n    </tr>\n    <tr>\n      <th>1</th>\n      <td>chicago</td>\n      <td>14</td>\n      <td>68</td>\n      <td>21</td>\n      <td>65</td>\n    </tr>\n  </tbody>\n</table>\n</div>"
          },
          "metadata": {}
        }
      ]
    },
    {
      "cell_type": "code",
      "source": "df3= pd.merge(df1,df2,on=\"city\",how=\"outer\", suffixes=('_first','_second'))\ndf3",
      "metadata": {
        "trusted": true
      },
      "execution_count": 19,
      "outputs": [
        {
          "execution_count": 19,
          "output_type": "execute_result",
          "data": {
            "text/plain": "        city  temperature_first  humidity_first  temperature_second  \\\n0   new york               21.0            65.0                14.0   \n1    chicago               14.0            68.0                21.0   \n2    orlando               35.0            71.0                 NaN   \n3  baltimore               38.0            75.0                 NaN   \n4  san diego                NaN             NaN                35.0   \n\n   humidity_second  \n0             68.0  \n1             65.0  \n2              NaN  \n3              NaN  \n4             71.0  ",
            "text/html": "<div>\n<style scoped>\n    .dataframe tbody tr th:only-of-type {\n        vertical-align: middle;\n    }\n\n    .dataframe tbody tr th {\n        vertical-align: top;\n    }\n\n    .dataframe thead th {\n        text-align: right;\n    }\n</style>\n<table border=\"1\" class=\"dataframe\">\n  <thead>\n    <tr style=\"text-align: right;\">\n      <th></th>\n      <th>city</th>\n      <th>temperature_first</th>\n      <th>humidity_first</th>\n      <th>temperature_second</th>\n      <th>humidity_second</th>\n    </tr>\n  </thead>\n  <tbody>\n    <tr>\n      <th>0</th>\n      <td>new york</td>\n      <td>21.0</td>\n      <td>65.0</td>\n      <td>14.0</td>\n      <td>68.0</td>\n    </tr>\n    <tr>\n      <th>1</th>\n      <td>chicago</td>\n      <td>14.0</td>\n      <td>68.0</td>\n      <td>21.0</td>\n      <td>65.0</td>\n    </tr>\n    <tr>\n      <th>2</th>\n      <td>orlando</td>\n      <td>35.0</td>\n      <td>71.0</td>\n      <td>NaN</td>\n      <td>NaN</td>\n    </tr>\n    <tr>\n      <th>3</th>\n      <td>baltimore</td>\n      <td>38.0</td>\n      <td>75.0</td>\n      <td>NaN</td>\n      <td>NaN</td>\n    </tr>\n    <tr>\n      <th>4</th>\n      <td>san diego</td>\n      <td>NaN</td>\n      <td>NaN</td>\n      <td>35.0</td>\n      <td>71.0</td>\n    </tr>\n  </tbody>\n</table>\n</div>"
          },
          "metadata": {}
        }
      ]
    },
    {
      "cell_type": "markdown",
      "source": "# join\n",
      "metadata": {}
    },
    {
      "cell_type": "code",
      "source": "df1 = pd.DataFrame({\n    \"city\": [\"new york\",\"chicago\",\"orlando\"],\n    \"temperature\": [21,14,35],\n})\ndf1.set_index('city',inplace=True)\ndf1",
      "metadata": {
        "trusted": true
      },
      "execution_count": 22,
      "outputs": [
        {
          "execution_count": 22,
          "output_type": "execute_result",
          "data": {
            "text/plain": "          temperature\ncity                 \nnew york           21\nchicago            14\norlando            35",
            "text/html": "<div>\n<style scoped>\n    .dataframe tbody tr th:only-of-type {\n        vertical-align: middle;\n    }\n\n    .dataframe tbody tr th {\n        vertical-align: top;\n    }\n\n    .dataframe thead th {\n        text-align: right;\n    }\n</style>\n<table border=\"1\" class=\"dataframe\">\n  <thead>\n    <tr style=\"text-align: right;\">\n      <th></th>\n      <th>temperature</th>\n    </tr>\n    <tr>\n      <th>city</th>\n      <th></th>\n    </tr>\n  </thead>\n  <tbody>\n    <tr>\n      <th>new york</th>\n      <td>21</td>\n    </tr>\n    <tr>\n      <th>chicago</th>\n      <td>14</td>\n    </tr>\n    <tr>\n      <th>orlando</th>\n      <td>35</td>\n    </tr>\n  </tbody>\n</table>\n</div>"
          },
          "metadata": {}
        }
      ]
    },
    {
      "cell_type": "code",
      "source": "df2 = pd.DataFrame({\n    \"city\": [\"chicago\",\"new york\",\"orlando\"],\n    \"humidity\": [65,68,75],\n})\ndf2.set_index('city',inplace=True)\ndf2",
      "metadata": {
        "trusted": true
      },
      "execution_count": 23,
      "outputs": [
        {
          "execution_count": 23,
          "output_type": "execute_result",
          "data": {
            "text/plain": "          humidity\ncity              \nchicago         65\nnew york        68\norlando         75",
            "text/html": "<div>\n<style scoped>\n    .dataframe tbody tr th:only-of-type {\n        vertical-align: middle;\n    }\n\n    .dataframe tbody tr th {\n        vertical-align: top;\n    }\n\n    .dataframe thead th {\n        text-align: right;\n    }\n</style>\n<table border=\"1\" class=\"dataframe\">\n  <thead>\n    <tr style=\"text-align: right;\">\n      <th></th>\n      <th>humidity</th>\n    </tr>\n    <tr>\n      <th>city</th>\n      <th></th>\n    </tr>\n  </thead>\n  <tbody>\n    <tr>\n      <th>chicago</th>\n      <td>65</td>\n    </tr>\n    <tr>\n      <th>new york</th>\n      <td>68</td>\n    </tr>\n    <tr>\n      <th>orlando</th>\n      <td>75</td>\n    </tr>\n  </tbody>\n</table>\n</div>"
          },
          "metadata": {}
        }
      ]
    },
    {
      "cell_type": "code",
      "source": "df1.join(df2,lsuffix='_l', rsuffix='_r')\n",
      "metadata": {
        "trusted": true
      },
      "execution_count": 24,
      "outputs": [
        {
          "execution_count": 24,
          "output_type": "execute_result",
          "data": {
            "text/plain": "          temperature  humidity\ncity                           \nnew york           21        68\nchicago            14        65\norlando            35        75",
            "text/html": "<div>\n<style scoped>\n    .dataframe tbody tr th:only-of-type {\n        vertical-align: middle;\n    }\n\n    .dataframe tbody tr th {\n        vertical-align: top;\n    }\n\n    .dataframe thead th {\n        text-align: right;\n    }\n</style>\n<table border=\"1\" class=\"dataframe\">\n  <thead>\n    <tr style=\"text-align: right;\">\n      <th></th>\n      <th>temperature</th>\n      <th>humidity</th>\n    </tr>\n    <tr>\n      <th>city</th>\n      <th></th>\n      <th></th>\n    </tr>\n  </thead>\n  <tbody>\n    <tr>\n      <th>new york</th>\n      <td>21</td>\n      <td>68</td>\n    </tr>\n    <tr>\n      <th>chicago</th>\n      <td>14</td>\n      <td>65</td>\n    </tr>\n    <tr>\n      <th>orlando</th>\n      <td>35</td>\n      <td>75</td>\n    </tr>\n  </tbody>\n</table>\n</div>"
          },
          "metadata": {}
        }
      ]
    },
    {
      "cell_type": "code",
      "source": "",
      "metadata": {},
      "execution_count": null,
      "outputs": []
    }
  ]
}